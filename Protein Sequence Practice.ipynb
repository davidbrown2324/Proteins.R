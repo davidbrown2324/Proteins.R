{
 "cells": [
  {
   "cell_type": "code",
   "execution_count": 1,
   "metadata": {
    "collapsed": true
   },
   "outputs": [],
   "source": [
    "import numpy as py\n",
    "import pandas as pd\n",
    "import time\n",
    "import glob\n",
    "import seaborn as sns\n",
    "\n",
    "import matplotlib.pyplot as plt\n",
    "%matplotlib inline"
   ]
  },
  {
   "cell_type": "code",
   "execution_count": null,
   "metadata": {
    "collapsed": true
   },
   "outputs": [],
   "source": [
    "#This function probably exists already\n",
    "def mutateSequence(sequence, mutation):\n",
    "    "
   ]
  },
  {
   "cell_type": "code",
   "execution_count": 3,
   "metadata": {
    "collapsed": false
   },
   "outputs": [
    {
     "data": {
      "text/html": [
       "<div>\n",
       "<table border=\"1\" class=\"dataframe\">\n",
       "  <thead>\n",
       "    <tr style=\"text-align: right;\">\n",
       "      <th></th>\n",
       "      <th>Well</th>\n",
       "      <th>Construct</th>\n",
       "      <th>Plasmid</th>\n",
       "      <th>Notes</th>\n",
       "      <th>Parent Protein Sequence</th>\n",
       "      <th>Start</th>\n",
       "      <th>Stop</th>\n",
       "      <th>Length</th>\n",
       "      <th>Mutation</th>\n",
       "      <th>Fragment Sequence</th>\n",
       "    </tr>\n",
       "  </thead>\n",
       "  <tbody>\n",
       "    <tr>\n",
       "      <th>0</th>\n",
       "      <td>Well01</td>\n",
       "      <td>flKDM5A</td>\n",
       "      <td>F00183</td>\n",
       "      <td>puncta and some hollow puncta, odd anuclear ho...</td>\n",
       "      <td>MAGVGPGGYAAEFVPPPECPVFEPSWEEFTDPLSFIGRIRPLAEKT...</td>\n",
       "      <td>1</td>\n",
       "      <td>1690</td>\n",
       "      <td>1690</td>\n",
       "      <td>NaN</td>\n",
       "      <td>MAGVGPGGYAAEFVPPPECPVFEPSWEEFTDPLSFIGRIRPLAEKT...</td>\n",
       "    </tr>\n",
       "    <tr>\n",
       "      <th>1</th>\n",
       "      <td>Well02</td>\n",
       "      <td>PHD2-IDR-PHD3</td>\n",
       "      <td>mini2</td>\n",
       "      <td>some puncta, particularly in bright cells</td>\n",
       "      <td>MAGVGPGGYAAEFVPPPECPVFEPSWEEFTDPLSFIGRIRPLAEKT...</td>\n",
       "      <td>1162</td>\n",
       "      <td>1690</td>\n",
       "      <td>529</td>\n",
       "      <td>NaN</td>\n",
       "      <td>KFCICRKTASGFMLQCELCKDWFHNSCVPLPKSSSQKKGSSWQAKE...</td>\n",
       "    </tr>\n",
       "    <tr>\n",
       "      <th>2</th>\n",
       "      <td>Well03</td>\n",
       "      <td>PHD2-IDR-PHD3[W1625A]</td>\n",
       "      <td>mini1</td>\n",
       "      <td>Well03_2_is_garbage</td>\n",
       "      <td>MAGVGPGGYAAEFVPPPECPVFEPSWEEFTDPLSFIGRIRPLAEKT...</td>\n",
       "      <td>1162</td>\n",
       "      <td>1690</td>\n",
       "      <td>529</td>\n",
       "      <td>W1625A</td>\n",
       "      <td>KFCICRKTASGFMLQCELCKDWFHNSCVPLPKSSSQKKGSSWQAKE...</td>\n",
       "    </tr>\n",
       "    <tr>\n",
       "      <th>3</th>\n",
       "      <td>Well04</td>\n",
       "      <td>PHD2-IDR</td>\n",
       "      <td>mini2</td>\n",
       "      <td>Puncta, cell to cell heterogenetiy</td>\n",
       "      <td>MAGVGPGGYAAEFVPPPECPVFEPSWEEFTDPLSFIGRIRPLAEKT...</td>\n",
       "      <td>1162</td>\n",
       "      <td>1607</td>\n",
       "      <td>446</td>\n",
       "      <td>NaN</td>\n",
       "      <td>KFCICRKTASGFMLQCELCKDWFHNSCVPLPKSSSQKKGSSWQAKE...</td>\n",
       "    </tr>\n",
       "    <tr>\n",
       "      <th>4</th>\n",
       "      <td>Well05</td>\n",
       "      <td>CTR</td>\n",
       "      <td>F00188</td>\n",
       "      <td>Plasmids mixed up. Do not analyse!!</td>\n",
       "      <td>MAGVGPGGYAAEFVPPPECPVFEPSWEEFTDPLSFIGRIRPLAEKT...</td>\n",
       "      <td>1216</td>\n",
       "      <td>1690</td>\n",
       "      <td>475</td>\n",
       "      <td>NaN</td>\n",
       "      <td>MRSRRPRLETILSLLVSLQKLPVRLPEGEALQCLTERAMSWQDRAR...</td>\n",
       "    </tr>\n",
       "    <tr>\n",
       "      <th>5</th>\n",
       "      <td>Well06</td>\n",
       "      <td>CTR3</td>\n",
       "      <td>F00189</td>\n",
       "      <td>Plasmids mixed up. Do not analyse!! Seemed les...</td>\n",
       "      <td>MAGVGPGGYAAEFVPPPECPVFEPSWEEFTDPLSFIGRIRPLAEKT...</td>\n",
       "      <td>1216</td>\n",
       "      <td>1607</td>\n",
       "      <td>392</td>\n",
       "      <td>NaN</td>\n",
       "      <td>MRSRRPRLETILSLLVSLQKLPVRLPEGEALQCLTERAMSWQDRAR...</td>\n",
       "    </tr>\n",
       "    <tr>\n",
       "      <th>6</th>\n",
       "      <td>Well07</td>\n",
       "      <td>CTR4</td>\n",
       "      <td>F00190</td>\n",
       "      <td>Plasmids mixed up. Do not analyse!! Mobile pun...</td>\n",
       "      <td>MAGVGPGGYAAEFVPPPECPVFEPSWEEFTDPLSFIGRIRPLAEKT...</td>\n",
       "      <td>1216</td>\n",
       "      <td>1543</td>\n",
       "      <td>328</td>\n",
       "      <td>NaN</td>\n",
       "      <td>MRSRRPRLETILSLLVSLQKLPVRLPEGEALQCLTERAMSWQDRAR...</td>\n",
       "    </tr>\n",
       "    <tr>\n",
       "      <th>7</th>\n",
       "      <td>Well08</td>\n",
       "      <td>flKDM5A[H483A]</td>\n",
       "      <td>F00184</td>\n",
       "      <td>NaN</td>\n",
       "      <td>MAGVGPGGYAAEFVPPPECPVFEPSWEEFTDPLSFIGRIRPLAEKT...</td>\n",
       "      <td>1</td>\n",
       "      <td>1690</td>\n",
       "      <td>1690</td>\n",
       "      <td>H483A</td>\n",
       "      <td>MAGVGPGGYAAEFVPPPECPVFEPSWEEFTDPLSFIGRIRPLAEKT...</td>\n",
       "    </tr>\n",
       "  </tbody>\n",
       "</table>\n",
       "</div>"
      ],
      "text/plain": [
       "     Well              Construct Plasmid  \\\n",
       "0  Well01                flKDM5A  F00183   \n",
       "1  Well02          PHD2-IDR-PHD3   mini2   \n",
       "2  Well03  PHD2-IDR-PHD3[W1625A]   mini1   \n",
       "3  Well04               PHD2-IDR   mini2   \n",
       "4  Well05                    CTR  F00188   \n",
       "5  Well06                   CTR3  F00189   \n",
       "6  Well07                   CTR4  F00190   \n",
       "7  Well08         flKDM5A[H483A]  F00184   \n",
       "\n",
       "                                               Notes  \\\n",
       "0  puncta and some hollow puncta, odd anuclear ho...   \n",
       "1          some puncta, particularly in bright cells   \n",
       "2                                Well03_2_is_garbage   \n",
       "3                 Puncta, cell to cell heterogenetiy   \n",
       "4                Plasmids mixed up. Do not analyse!!   \n",
       "5  Plasmids mixed up. Do not analyse!! Seemed les...   \n",
       "6  Plasmids mixed up. Do not analyse!! Mobile pun...   \n",
       "7                                                NaN   \n",
       "\n",
       "                             Parent Protein Sequence  Start  Stop  Length  \\\n",
       "0  MAGVGPGGYAAEFVPPPECPVFEPSWEEFTDPLSFIGRIRPLAEKT...      1  1690    1690   \n",
       "1  MAGVGPGGYAAEFVPPPECPVFEPSWEEFTDPLSFIGRIRPLAEKT...   1162  1690     529   \n",
       "2  MAGVGPGGYAAEFVPPPECPVFEPSWEEFTDPLSFIGRIRPLAEKT...   1162  1690     529   \n",
       "3  MAGVGPGGYAAEFVPPPECPVFEPSWEEFTDPLSFIGRIRPLAEKT...   1162  1607     446   \n",
       "4  MAGVGPGGYAAEFVPPPECPVFEPSWEEFTDPLSFIGRIRPLAEKT...   1216  1690     475   \n",
       "5  MAGVGPGGYAAEFVPPPECPVFEPSWEEFTDPLSFIGRIRPLAEKT...   1216  1607     392   \n",
       "6  MAGVGPGGYAAEFVPPPECPVFEPSWEEFTDPLSFIGRIRPLAEKT...   1216  1543     328   \n",
       "7  MAGVGPGGYAAEFVPPPECPVFEPSWEEFTDPLSFIGRIRPLAEKT...      1  1690    1690   \n",
       "\n",
       "  Mutation                                  Fragment Sequence  \n",
       "0      NaN  MAGVGPGGYAAEFVPPPECPVFEPSWEEFTDPLSFIGRIRPLAEKT...  \n",
       "1      NaN  KFCICRKTASGFMLQCELCKDWFHNSCVPLPKSSSQKKGSSWQAKE...  \n",
       "2   W1625A  KFCICRKTASGFMLQCELCKDWFHNSCVPLPKSSSQKKGSSWQAKE...  \n",
       "3      NaN  KFCICRKTASGFMLQCELCKDWFHNSCVPLPKSSSQKKGSSWQAKE...  \n",
       "4      NaN  MRSRRPRLETILSLLVSLQKLPVRLPEGEALQCLTERAMSWQDRAR...  \n",
       "5      NaN  MRSRRPRLETILSLLVSLQKLPVRLPEGEALQCLTERAMSWQDRAR...  \n",
       "6      NaN  MRSRRPRLETILSLLVSLQKLPVRLPEGEALQCLTERAMSWQDRAR...  \n",
       "7    H483A  MAGVGPGGYAAEFVPPPECPVFEPSWEEFTDPLSFIGRIRPLAEKT...  "
      ]
     },
     "execution_count": 3,
     "metadata": {},
     "output_type": "execute_result"
    }
   ],
   "source": [
    "#Import Exp0104 platemap as pd.dataframe\n",
    "Exp0104=pd.read_csv('C:/Users/David Brown/Documents/Huang Lab/Exp0104_KDM5A_PHD2-fragments/Exp0104_KDM5A_plate_map_approximate_sequences.csv')\n",
    "Exp0104\n",
    "#TODO add sequence files to platemap"
   ]
  },
  {
   "cell_type": "code",
   "execution_count": 4,
   "metadata": {
    "collapsed": true
   },
   "outputs": [],
   "source": [
    "from Bio import SeqIO"
   ]
  },
  {
   "cell_type": "code",
   "execution_count": 10,
   "metadata": {
    "collapsed": false
   },
   "outputs": [],
   "source": [
    "#Convert strings to amino acid sequences\n",
    "from Bio.Seq import Seq\n",
    "from Bio.Alphabet import IUPAC\n",
    "my_seq = Seq(\"MKQHKAMIVALIVICITAVVAALVTRKDLCEVHIRTGQTEVAVF\", IUPAC.protein)"
   ]
  },
  {
   "cell_type": "code",
   "execution_count": 14,
   "metadata": {
    "collapsed": false
   },
   "outputs": [
    {
     "data": {
      "text/plain": [
       "0    MAGVGPGGYAAEFVPPPECPVFEPSWEEFTDPLSFIGRIRPLAEKT...\n",
       "1    KFCICRKTASGFMLQCELCKDWFHNSCVPLPKSSSQKKGSSWQAKE...\n",
       "2    KFCICRKTASGFMLQCELCKDWFHNSCVPLPKSSSQKKGSSWQAKE...\n",
       "3    KFCICRKTASGFMLQCELCKDWFHNSCVPLPKSSSQKKGSSWQAKE...\n",
       "4    MRSRRPRLETILSLLVSLQKLPVRLPEGEALQCLTERAMSWQDRAR...\n",
       "5    MRSRRPRLETILSLLVSLQKLPVRLPEGEALQCLTERAMSWQDRAR...\n",
       "6    MRSRRPRLETILSLLVSLQKLPVRLPEGEALQCLTERAMSWQDRAR...\n",
       "7    MAGVGPGGYAAEFVPPPECPVFEPSWEEFTDPLSFIGRIRPLAEKT...\n",
       "Name: Fragment Sequence, dtype: object"
      ]
     },
     "execution_count": 14,
     "metadata": {},
     "output_type": "execute_result"
    }
   ],
   "source": [
    "Exp0104[\"Fragment Sequence\"]"
   ]
  },
  {
   "cell_type": "code",
   "execution_count": 13,
   "metadata": {
    "collapsed": false
   },
   "outputs": [
    {
     "ename": "TypeError",
     "evalue": "The sequence data given to a Seq object should be a string (not another Seq object etc)",
     "output_type": "error",
     "traceback": [
      "\u001b[0;31m---------------------------------------------------------------------------\u001b[0m",
      "\u001b[0;31mTypeError\u001b[0m                                 Traceback (most recent call last)",
      "\u001b[0;32m<ipython-input-13-ce10a4987d50>\u001b[0m in \u001b[0;36m<module>\u001b[0;34m()\u001b[0m\n\u001b[1;32m      1\u001b[0m \u001b[1;31m#Convert my sequences to protein sequences\u001b[0m\u001b[1;33m\u001b[0m\u001b[1;33m\u001b[0m\u001b[0m\n\u001b[0;32m----> 2\u001b[0;31m \u001b[0mSeq\u001b[0m\u001b[1;33m(\u001b[0m\u001b[0mExp0104\u001b[0m\u001b[1;33m[\u001b[0m\u001b[1;34m\"Fragment Sequence\"\u001b[0m\u001b[1;33m]\u001b[0m\u001b[1;33m,\u001b[0m \u001b[0mIUPAC\u001b[0m\u001b[1;33m.\u001b[0m\u001b[0mprotein\u001b[0m\u001b[1;33m)\u001b[0m\u001b[1;33m\u001b[0m\u001b[0m\n\u001b[0m",
      "\u001b[0;32mC:\\Users\\David Brown\\Anaconda2\\lib\\site-packages\\Bio\\Seq.pyc\u001b[0m in \u001b[0;36m__init__\u001b[0;34m(self, data, alphabet)\u001b[0m\n\u001b[1;32m    114\u001b[0m         \u001b[1;31m# Enforce string storage\u001b[0m\u001b[1;33m\u001b[0m\u001b[1;33m\u001b[0m\u001b[0m\n\u001b[1;32m    115\u001b[0m         \u001b[1;32mif\u001b[0m \u001b[1;32mnot\u001b[0m \u001b[0misinstance\u001b[0m\u001b[1;33m(\u001b[0m\u001b[0mdata\u001b[0m\u001b[1;33m,\u001b[0m \u001b[0mbasestring\u001b[0m\u001b[1;33m)\u001b[0m\u001b[1;33m:\u001b[0m\u001b[1;33m\u001b[0m\u001b[0m\n\u001b[0;32m--> 116\u001b[0;31m             raise TypeError(\"The sequence data given to a Seq object should \"\n\u001b[0m\u001b[1;32m    117\u001b[0m                             \"be a string (not another Seq object etc)\")\n\u001b[1;32m    118\u001b[0m         \u001b[0mself\u001b[0m\u001b[1;33m.\u001b[0m\u001b[0m_data\u001b[0m \u001b[1;33m=\u001b[0m \u001b[0mdata\u001b[0m\u001b[1;33m\u001b[0m\u001b[0m\n",
      "\u001b[0;31mTypeError\u001b[0m: The sequence data given to a Seq object should be a string (not another Seq object etc)"
     ]
    }
   ],
   "source": [
    "#Convert my sequences to protein sequences\n",
    "Seq(Exp0104[\"Fragment Sequence\"], IUPAC.protein) #Seq doesn't work on objects"
   ]
  },
  {
   "cell_type": "code",
   "execution_count": 15,
   "metadata": {
    "collapsed": true
   },
   "outputs": [],
   "source": [
    "#Convert sequences to SeqRecords with additional annotation including an identifier, name and description.\n",
    "from Bio.SeqRecord import SeqRecord"
   ]
  },
  {
   "cell_type": "code",
   "execution_count": 20,
   "metadata": {
    "collapsed": false
   },
   "outputs": [
    {
     "data": {
      "text/plain": [
       "SeqRecord(seq=Seq('MKQHKAMIVALIVICITAVVAALVTRKDLCEVHIRTGQTEVAVF', IUPACProtein()), id='KDM5_test', name='KDM5A', description='<unknown description>', dbxrefs=[])"
      ]
     },
     "execution_count": 20,
     "metadata": {},
     "output_type": "execute_result"
    }
   ],
   "source": [
    "my_seq_record = SeqRecord(my_seq)\n",
    "my_seq_record.name = 'KDM5A'\n",
    "my_seq_record.id = 'KDM5_test'\n",
    "my_seq_record"
   ]
  },
  {
   "cell_type": "code",
   "execution_count": 7,
   "metadata": {
    "collapsed": false
   },
   "outputs": [],
   "source": [
    "from Bio.Align.Applications import MuscleCommandline"
   ]
  },
  {
   "cell_type": "code",
   "execution_count": 8,
   "metadata": {
    "collapsed": false
   },
   "outputs": [
    {
     "ename": "WindowsError",
     "evalue": "[Error 2] The system cannot find the file specified",
     "output_type": "error",
     "traceback": [
      "\u001b[0;31m---------------------------------------------------------------------------\u001b[0m",
      "\u001b[0;31mWindowsError\u001b[0m                              Traceback (most recent call last)",
      "\u001b[0;32m<ipython-input-8-23441b05aed2>\u001b[0m in \u001b[0;36m<module>\u001b[0;34m()\u001b[0m\n\u001b[1;32m      1\u001b[0m \u001b[0mcline\u001b[0m \u001b[1;33m=\u001b[0m \u001b[0mMuscleCommandline\u001b[0m\u001b[1;33m(\u001b[0m\u001b[0minput\u001b[0m\u001b[1;33m=\u001b[0m\u001b[0mExp0104\u001b[0m\u001b[1;33m[\u001b[0m\u001b[1;34m'Fragment Sequence'\u001b[0m\u001b[1;33m]\u001b[0m\u001b[1;33m,\u001b[0m\u001b[0mverbose\u001b[0m\u001b[1;33m=\u001b[0m\u001b[0mTrue\u001b[0m\u001b[1;33m)\u001b[0m\u001b[1;33m\u001b[0m\u001b[0m\n\u001b[0;32m----> 2\u001b[0;31m \u001b[0mstdout\u001b[0m\u001b[1;33m,\u001b[0m \u001b[0mstderr\u001b[0m \u001b[1;33m=\u001b[0m \u001b[0mcline\u001b[0m\u001b[1;33m(\u001b[0m\u001b[1;33m)\u001b[0m\u001b[1;33m\u001b[0m\u001b[0m\n\u001b[0m\u001b[1;32m      3\u001b[0m \u001b[1;32mprint\u001b[0m\u001b[1;33m(\u001b[0m\u001b[0mstderr\u001b[0m\u001b[1;33m)\u001b[0m\u001b[1;33m\u001b[0m\u001b[0m\n",
      "\u001b[0;32mC:\\Users\\David Brown\\Anaconda2\\lib\\site-packages\\Bio\\Application\\__init__.pyc\u001b[0m in \u001b[0;36m__call__\u001b[0;34m(self, stdin, stdout, stderr, cwd, env)\u001b[0m\n\u001b[1;32m    505\u001b[0m                                          \u001b[0muniversal_newlines\u001b[0m\u001b[1;33m=\u001b[0m\u001b[0mTrue\u001b[0m\u001b[1;33m,\u001b[0m\u001b[1;33m\u001b[0m\u001b[0m\n\u001b[1;32m    506\u001b[0m                                          \u001b[0mcwd\u001b[0m\u001b[1;33m=\u001b[0m\u001b[0mcwd\u001b[0m\u001b[1;33m,\u001b[0m \u001b[0menv\u001b[0m\u001b[1;33m=\u001b[0m\u001b[0menv\u001b[0m\u001b[1;33m,\u001b[0m\u001b[1;33m\u001b[0m\u001b[0m\n\u001b[0;32m--> 507\u001b[0;31m                                          shell=use_shell)\n\u001b[0m\u001b[1;32m    508\u001b[0m         \u001b[1;31m# Use .communicate as can get deadlocks with .wait(), see Bug 2804\u001b[0m\u001b[1;33m\u001b[0m\u001b[1;33m\u001b[0m\u001b[0m\n\u001b[1;32m    509\u001b[0m         \u001b[0mstdout_str\u001b[0m\u001b[1;33m,\u001b[0m \u001b[0mstderr_str\u001b[0m \u001b[1;33m=\u001b[0m \u001b[0mchild_process\u001b[0m\u001b[1;33m.\u001b[0m\u001b[0mcommunicate\u001b[0m\u001b[1;33m(\u001b[0m\u001b[0mstdin\u001b[0m\u001b[1;33m)\u001b[0m\u001b[1;33m\u001b[0m\u001b[0m\n",
      "\u001b[0;32mC:\\Users\\David Brown\\Anaconda2\\lib\\subprocess.pyc\u001b[0m in \u001b[0;36m__init__\u001b[0;34m(self, args, bufsize, executable, stdin, stdout, stderr, preexec_fn, close_fds, shell, cwd, env, universal_newlines, startupinfo, creationflags)\u001b[0m\n\u001b[1;32m    709\u001b[0m                                 \u001b[0mp2cread\u001b[0m\u001b[1;33m,\u001b[0m \u001b[0mp2cwrite\u001b[0m\u001b[1;33m,\u001b[0m\u001b[1;33m\u001b[0m\u001b[0m\n\u001b[1;32m    710\u001b[0m                                 \u001b[0mc2pread\u001b[0m\u001b[1;33m,\u001b[0m \u001b[0mc2pwrite\u001b[0m\u001b[1;33m,\u001b[0m\u001b[1;33m\u001b[0m\u001b[0m\n\u001b[0;32m--> 711\u001b[0;31m                                 errread, errwrite)\n\u001b[0m\u001b[1;32m    712\u001b[0m         \u001b[1;32mexcept\u001b[0m \u001b[0mException\u001b[0m\u001b[1;33m:\u001b[0m\u001b[1;33m\u001b[0m\u001b[0m\n\u001b[1;32m    713\u001b[0m             \u001b[1;31m# Preserve original exception in case os.close raises.\u001b[0m\u001b[1;33m\u001b[0m\u001b[1;33m\u001b[0m\u001b[0m\n",
      "\u001b[0;32mC:\\Users\\David Brown\\Anaconda2\\lib\\subprocess.pyc\u001b[0m in \u001b[0;36m_execute_child\u001b[0;34m(self, args, executable, preexec_fn, close_fds, cwd, env, universal_newlines, startupinfo, creationflags, shell, to_close, p2cread, p2cwrite, c2pread, c2pwrite, errread, errwrite)\u001b[0m\n\u001b[1;32m    957\u001b[0m                                          \u001b[0menv\u001b[0m\u001b[1;33m,\u001b[0m\u001b[1;33m\u001b[0m\u001b[0m\n\u001b[1;32m    958\u001b[0m                                          \u001b[0mcwd\u001b[0m\u001b[1;33m,\u001b[0m\u001b[1;33m\u001b[0m\u001b[0m\n\u001b[0;32m--> 959\u001b[0;31m                                          startupinfo)\n\u001b[0m\u001b[1;32m    960\u001b[0m             \u001b[1;32mexcept\u001b[0m \u001b[0mpywintypes\u001b[0m\u001b[1;33m.\u001b[0m\u001b[0merror\u001b[0m\u001b[1;33m,\u001b[0m \u001b[0me\u001b[0m\u001b[1;33m:\u001b[0m\u001b[1;33m\u001b[0m\u001b[0m\n\u001b[1;32m    961\u001b[0m                 \u001b[1;31m# Translate pywintypes.error to WindowsError, which is\u001b[0m\u001b[1;33m\u001b[0m\u001b[1;33m\u001b[0m\u001b[0m\n",
      "\u001b[0;31mWindowsError\u001b[0m: [Error 2] The system cannot find the file specified"
     ]
    }
   ],
   "source": [
    "cline = MuscleCommandline(,verbose=True)\n",
    "stdout, stderr = cline()\n",
    "print(stderr)"
   ]
  },
  {
   "cell_type": "code",
   "execution_count": null,
   "metadata": {
    "collapsed": true
   },
   "outputs": [],
   "source": []
  }
 ],
 "metadata": {
  "anaconda-cloud": {},
  "kernelspec": {
   "display_name": "Python [conda root]",
   "language": "python",
   "name": "conda-root-py"
  },
  "language_info": {
   "codemirror_mode": {
    "name": "ipython",
    "version": 2
   },
   "file_extension": ".py",
   "mimetype": "text/x-python",
   "name": "python",
   "nbconvert_exporter": "python",
   "pygments_lexer": "ipython2",
   "version": "2.7.12"
  }
 },
 "nbformat": 4,
 "nbformat_minor": 1
}
