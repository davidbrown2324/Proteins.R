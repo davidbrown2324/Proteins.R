{
 "cells": [
  {
   "cell_type": "markdown",
   "metadata": {},
   "source": [
    "**Segmentation based on morphogenie**\n",
    "\n",
    "http://morphogenie.fr/segmenting-nuclei.html\n",
    "\n",
    "At this point I would like to try running this code with a stack containing multiple nuclei.\n",
    "MMstack.ome.tif files load in a different order c,z,x,y.\n",
    "They could be opened and saved first using bio-formats importer."
   ]
  },
  {
   "cell_type": "code",
   "execution_count": null,
   "metadata": {
    "collapsed": false
   },
   "outputs": [],
   "source": [
    "import skimage.io as io\n",
    "io.use_plugin('tifffile')\n",
    "\n",
    "#I updated \"skimage.filter\" to the more recent plural \"skimage.filters\"\n",
    "from skimage.filters import threshold_otsu, threshold_adaptive, rank\n",
    "from skimage.morphology import label\n",
    "from skimage.measure import regionprops\n",
    "from skimage.feature import peak_local_max\n",
    "from scipy import ndimage\n",
    "from skimage.morphology import disk, watershed\n",
    "import pandas as pd\n",
    "import numpy as np #added to morphogenie code\n",
    "import mahotas as mh  #Don't know if this is used?\n",
    "import matplotlib.pyplot as plt #added to morphogenie code\n",
    "\n",
    "from mpl_toolkits.axes_grid1 import make_axes_locatable\n",
    "from scipy.spatial import distance as dist\n",
    "import scipy.cluster.hierarchy as hier\n",
    "from scipy import fftpack\n",
    "from matplotlib.colors import LogNorm\n",
    "import math"
   ]
  },
  {
   "cell_type": "code",
   "execution_count": null,
   "metadata": {
    "collapsed": true
   },
   "outputs": [],
   "source": [
    "##Try working with a masked array\n",
    "import numpy.ma as MA"
   ]
  },
  {
   "cell_type": "code",
   "execution_count": 329,
   "metadata": {
    "collapsed": false
   },
   "outputs": [],
   "source": [
    "from skimage.morphology import watershed\n",
    "from skimage.segmentation import clear_border\n",
    "from scipy.ndimage import morphology\n",
    "import skimage.morphology"
   ]
  },
  {
   "cell_type": "code",
   "execution_count": null,
   "metadata": {
    "collapsed": true
   },
   "outputs": [],
   "source": [
    "%matplotlib inline"
   ]
  },
  {
   "cell_type": "code",
   "execution_count": null,
   "metadata": {
    "collapsed": false
   },
   "outputs": [],
   "source": [
    "#I adjusted the morphogenie code to import the full stack, and then focus on the Hoechst Channel for segmentation.\n",
    "#im = io.imread('C:/Users/David Brown/Documents/Huang Lab/Exp0104_KDM5A_PHD2-fragments/Well02_HeLa_PHD2-IDR-PHD3_2_Box1.tif')\n",
    "\n",
    "#im = io.imread('C:/Users/David Brown/Documents/Huang Lab/Exp0104_KDM5A_PHD2-fragments/Well02_HeLa_PHD2-IDR-PHD3_1/Well02_HeLa_PHD2-IDR-PHD3_1_MMStack_Pos0.ome.tif')\n",
    "\n",
    "im = io.imread('C:/Users/David Brown/Documents/Huang Lab/Exp0104_KDM5A_PHD2-fragments/Well02_HeLa_PHD2-IDR-PHD3_1/Well02_HeLa_PHD2-IDR-PHD3_1.tif')\n",
    "\n",
    "Hoechst_stack = im[:,:,:,0]\n",
    "\n",
    "z_size, x_size, y_size = Hoechst_stack.shape\n",
    "\n",
    "z_scale = 0.26 # µm per plane for 100x NIC confocal images\n",
    "xy_scale = 0.065 # µm per pixel for 100x NIC confocal images"
   ]
  },
  {
   "cell_type": "code",
   "execution_count": null,
   "metadata": {
    "collapsed": false,
    "scrolled": true
   },
   "outputs": [],
   "source": [
    "##Quick check\n",
    "#image_stack = im[0,:,:,:] #for .ome.tif files\n",
    "#image_stack.shape\n",
    "plt.imshow(Hoechst_stack[4])\n",
    "plt.title('Hoechst Slice')"
   ]
  },
  {
   "cell_type": "markdown",
   "metadata": {},
   "source": [
    "**Find transfected cells**\n",
    "\n",
    "Q: What is the background GFP intensity?\n",
    "\n",
    "A: ~120\n",
    "\n",
    "Q: What is the background Hoechst intensity?\n",
    "\n",
    "A: ~110\n",
    "\n",
    "Q: Where are the transfected cells?\n",
    "\n"
   ]
  },
  {
   "cell_type": "code",
   "execution_count": null,
   "metadata": {
    "collapsed": false,
    "scrolled": true
   },
   "outputs": [],
   "source": [
    "GFP_stack=im[:,:,:,1]\n",
    "MAX_GFP=GFP_stack.max(axis=0)\n",
    "plt.imshow(MAX_GFP)\n",
    "plt.title('GFP Max z-Projection')"
   ]
  },
  {
   "cell_type": "code",
   "execution_count": null,
   "metadata": {
    "collapsed": false,
    "scrolled": false
   },
   "outputs": [],
   "source": [
    "#Smooth signal\n",
    "course_GFP = mh.gaussian_filter(MAX_GFP, 10.)\n",
    "plt.imshow(course_GFP)\n",
    "plt.title('GFP Max Gaussian Filter')"
   ]
  },
  {
   "cell_type": "code",
   "execution_count": null,
   "metadata": {
    "collapsed": false
   },
   "outputs": [],
   "source": [
    "course_GFP_mean"
   ]
  },
  {
   "cell_type": "code",
   "execution_count": null,
   "metadata": {
    "collapsed": false,
    "scrolled": true
   },
   "outputs": [],
   "source": [
    "##Threshold\n",
    "course_GFP_mean = course_GFP.mean()\n",
    "course_GFP_mask = course_GFP > course_GFP_mean\n",
    "\n",
    "##Remove cells on the border\n",
    "cleared_course_GFP_mask = clear_border(course_GFP_mask).astype(int)\n",
    "\n",
    "##Fill holes\n",
    "filled_course_GFP_mask = np.array(morphology.binary_fill_holes(cleared_course_GFP_mask).astype(int))\n",
    "\n",
    "plt.imshow(filled_course_GFP_mask)\n",
    "plt.title('course GFP mask')"
   ]
  },
  {
   "cell_type": "markdown",
   "metadata": {},
   "source": [
    "**Detect Nuclei**"
   ]
  },
  {
   "cell_type": "code",
   "execution_count": null,
   "metadata": {
    "collapsed": false,
    "scrolled": true
   },
   "outputs": [],
   "source": [
    "##Need to broadcast the 1d mask (here using 'ones_like', to mask the 3D Hoechst stack\n",
    "##Use np.logical_not to invert, ~ gives integer inversion resulting in -1s.\n",
    "GFP3d_mask=np.ones_like(Hoechst_stack)*np.logical_not(filled_course_GFP_mask)"
   ]
  },
  {
   "cell_type": "code",
   "execution_count": null,
   "metadata": {
    "collapsed": false
   },
   "outputs": [],
   "source": [
    "##Mask Hoechst image to focus on transfected nuclei\n",
    "Hoechst_ma=MA.masked_array(Hoechst_stack,\n",
    "                           mask=GFP3d_mask, \n",
    "                           fill_value=0.)\n",
    "\n",
    "plt.imshow(Hoechst_ma[4])\n",
    "plt.title('Masked Hoechst Slice')"
   ]
  },
  {
   "cell_type": "code",
   "execution_count": null,
   "metadata": {
    "collapsed": false,
    "scrolled": true
   },
   "outputs": [],
   "source": [
    "##Find Nuclei\n",
    "\n",
    "##3D Gaussian Filter\n",
    "#I tried using the mask, but it was completely ignored by the gaussian filter\n",
    "smoothed_Hoechst_stack=gaussian_filter(Hoechst_stack, 6.)\n",
    "shs_mean = smoothed_Hoechst_stack.mean()\n",
    "Hoechst_mask = smoothed_Hoechst_stack > shs_mean\n",
    "\n",
    "##Clear border and Fill holes ineffective on 3D stacks"
   ]
  },
  {
   "cell_type": "markdown",
   "metadata": {},
   "source": [
    "**Fill Holes**"
   ]
  },
  {
   "cell_type": "code",
   "execution_count": null,
   "metadata": {
    "collapsed": false,
    "scrolled": true
   },
   "outputs": [],
   "source": [
    "nuclei_stack = np.zeros_like(Hoechst_mask)\n",
    "\n",
    "## Labeling for each z plane:\n",
    "for z, frame in enumerate(transfected_nuclei):\n",
    "    cleared_H = clear_border(frame).astype(int)\n",
    "    filled_H = morphology.binary_fill_holes(cleared_H).astype(int)\n",
    "    nuclei_stack[z] = filled_H"
   ]
  },
  {
   "cell_type": "code",
   "execution_count": null,
   "metadata": {
    "collapsed": true
   },
   "outputs": [],
   "source": [
    "##Plot Detected Nuclei\n",
    "plt.imshow(nuclei_stack[0])\n",
    "plt.title('Detected Nuclei')"
   ]
  },
  {
   "cell_type": "code",
   "execution_count": null,
   "metadata": {
    "collapsed": false,
    "scrolled": true
   },
   "outputs": [],
   "source": [
    "##Intersect Hoechst and GFP binary masks to identify transfected cells\n",
    "transfected_nuclei=nuclei_stack*np.logical_not(GFP3d_mask)\n",
    "\n",
    "plt.imshow(transfected_nuclei[4])\n",
    "plt.title('Transfected Nuclei')"
   ]
  },
  {
   "cell_type": "code",
   "execution_count": null,
   "metadata": {
    "collapsed": false,
    "scrolled": true
   },
   "outputs": [],
   "source": [
    "##Try labelling first\n",
    "#Labelling works with 3D arrays, so connectivity is already estabilshed\n",
    "labeled_nuclei, nr_objects = mh.label(transfected_nuclei)\n",
    "labeled_nuclei\n",
    "plt.imshow(labeled_nuclei[4])"
   ]
  },
  {
   "cell_type": "code",
   "execution_count": null,
   "metadata": {
    "collapsed": false
   },
   "outputs": [],
   "source": [
    "#3D bounding boxes\n",
    "bb  = np.array(nuc_props[1].bbox)\n",
    "#zmin, ymin, xmin, zmax, ymax, xmax  = nuc_props[1].bbox\n",
    "#zmin, ymin, xmin, zmax, ymax, xmax = bb\n",
    "crp=labeled_nuclei[bb[0]:bb[3],bb[1]:bb[4],bb[2]:bb[5]]\n",
    "#plt.imshow(labeled_nuclei[zmin:zmax,ymin:ymax,xmin:xmax])\n",
    "plt.imshow(crp[1]) #Remember the image is still 3D\n",
    "\n"
   ]
  },
  {
   "cell_type": "code",
   "execution_count": null,
   "metadata": {
    "collapsed": false
   },
   "outputs": [],
   "source": [
    "#Area in each plane\n",
    "bb[0], bb[3] #object 1 covers 25 planes (more than there actually are?? because Python is inclusive->exclusive"
   ]
  },
  {
   "cell_type": "code",
   "execution_count": null,
   "metadata": {
    "collapsed": false
   },
   "outputs": [],
   "source": [
    "#np.count_nonzero(crp[0]) #area in frame0 = 26,693\n",
    "#np.count_nonzero(crp[1]) #area in frame1 = 26,629\n",
    "#np.count_nonzero(crp[23]) #area in frame0 = 17,469\n",
    "\n",
    "#nuc_props[1].area #area given for frame1 = 561,595, which suggests \"area\" is acctually volume == total pixels\n",
    "nuc1=labeled_nuclei==2\n",
    "sum(sum(sum(nuc1))) # gives the same figure, 561,595"
   ]
  },
  {
   "cell_type": "code",
   "execution_count": null,
   "metadata": {
    "collapsed": false
   },
   "outputs": [],
   "source": [
    "#Watershed nuclei above the upper limit\n",
    "props=[]\n",
    "indx=[]\n",
    "\n",
    "nuc_props=regionprops(label_image=labeled_nuclei, intensity_image=GFP_stack) #18 object labelled\n",
    "\n",
    "heading=[\"volume\",\"mean_GFP\",\"integrated_GFP\"]\n",
    "\n",
    "for n in nuc_props:\n",
    "    props.append([n.area,\n",
    "                  n.mean_intensity,\n",
    "                  n.mean_intensity * n.area])\n",
    "    indx.append(n.label)\n",
    "Nuclear_Properties=pd.DataFrame(props, index=indx, columns=heading)\n",
    "Nuclear_Properties"
   ]
  },
  {
   "cell_type": "markdown",
   "metadata": {},
   "source": [
    "**Detection parameters**\n",
    "\n",
    "We usually need some settings, derived from what we now of the objects we are trying to segment. \n",
    "We’ll also normaly do some kind of smoothing, which will be specified as the pixel size of the filter kernel. So here we go:"
   ]
  },
  {
   "cell_type": "code",
   "execution_count": null,
   "metadata": {
    "collapsed": false
   },
   "outputs": [],
   "source": [
    "min_vol = 50000\n",
    "max_vol = 1000000\n",
    "\n",
    "#from skimage.morphology import remove_small_objects\n",
    "real_nuclei=remove_small_objects(labeled_nuclei, min_vol)"
   ]
  },
  {
   "cell_type": "code",
   "execution_count": null,
   "metadata": {
    "collapsed": false,
    "scrolled": true
   },
   "outputs": [],
   "source": [
    "plt.imshow(real_nuclei[4])"
   ]
  },
  {
   "cell_type": "code",
   "execution_count": 346,
   "metadata": {
    "collapsed": false,
    "scrolled": true
   },
   "outputs": [
    {
     "data": {
      "text/plain": [
       "<matplotlib.image.AxesImage at 0x20fcb7208>"
      ]
     },
     "execution_count": 346,
     "metadata": {},
     "output_type": "execute_result"
    },
    {
     "data": {
      "image/png": "[encoded data removed]",
      "text/plain": [
       "<matplotlib.figure.Figure at 0x20f1bbb00>"
      ]
     },
     "metadata": {},
     "output_type": "display_data"
    }
   ],
   "source": [
    "clusters=remove_small_objects(labeled_nuclei, max_vol)\n",
    "plt.imshow(clusters[4])"
   ]
  },
  {
   "cell_type": "code",
   "execution_count": 353,
   "metadata": {
    "collapsed": false,
    "scrolled": true
   },
   "outputs": [],
   "source": [
    "##Tight_smooth using (3, 5, 5) median filter\n",
    "tight_smooth=ndimage.median_filter(Hoechst_stack, footprint=np.ones((3, 5, 5)))\n",
    "\n",
    "##Mask Hoechst image to focus on transfected nuclei\n",
    "clusters_ma=MA.masked_array(tight_smooth,                       \n",
    "                           mask=np.logical_not(clusters), \n",
    "                           fill_value=0.)\n",
    "\n",
    "#Calculate threshold for clustered nuclei 'cT'         \n",
    "cT=clusters_ma.mean()"
   ]
  },
  {
   "cell_type": "code",
   "execution_count": 354,
   "metadata": {
    "collapsed": false
   },
   "outputs": [],
   "source": [
    "##Generate tight smooth mask\n",
    "#clustered_nuclei=tight_smooth>250\n",
    "clustered_nuclei=tight_smooth>cT"
   ]
  },
  {
   "cell_type": "code",
   "execution_count": 355,
   "metadata": {
    "collapsed": false
   },
   "outputs": [
    {
     "data": {
      "text/plain": [
       "<matplotlib.text.Text at 0x2bb0b6668>"
      ]
     },
     "execution_count": 355,
     "metadata": {},
     "output_type": "execute_result"
    },
    {
     "data": {
      "image/png": "[encoded data removed]",
      "text/plain": [
       "<matplotlib.figure.Figure at 0x2bad4d518>"
      ]
     },
     "metadata": {},
     "output_type": "display_data"
    }
   ],
   "source": [
    "##Plot result\n",
    "plt.imshow(clustered_nuclei[4])\n",
    "plt.title('Tight Smooth Mask')"
   ]
  },
  {
   "cell_type": "code",
   "execution_count": 341,
   "metadata": {
    "collapsed": false
   },
   "outputs": [],
   "source": [
    "##This is the function that clears objects from the image border and fills holes slice by slice.\n",
    "def clear_fill(array):\n",
    "    '''Loops through each slice of an array, removes objects from edges and fills holes`.\n",
    "    \n",
    "    Parameters:\n",
    "    -----------\n",
    "    array: a bloolean array\n",
    "        \n",
    "    Returns:\n",
    "    --------\n",
    "    \n",
    "    values: 'stack', an array with the same shape as `array`\n",
    "        \n",
    "    '''\n",
    "    stack = np.zeros_like(array)\n",
    "\n",
    "    ## Process binary array frame by frame:\n",
    "    for z, frame in enumerate(array):\n",
    "        cleared = clear_border(frame).astype(int)\n",
    "        c = skimage.morphology.closing(cleared)\n",
    "        cc = skimage.morphology.closing(c)\n",
    "        filled = morphology.binary_fill_holes(cc).astype(int)\n",
    "        o = skimage.morphology.opening(filled)\n",
    "        oo = skimage.morphology.opening(o)\n",
    "        stack[z] = oo\n",
    "\n",
    "    return stack"
   ]
  },
  {
   "cell_type": "code",
   "execution_count": 356,
   "metadata": {
    "collapsed": false,
    "scrolled": true
   },
   "outputs": [],
   "source": [
    "##Call clear_fill function\n",
    "filled_clusters=clear_fill(clustered_nuclei)\n",
    "\n",
    "##Relabel\n",
    "new_labeled_nuclei, nr_objects = mh.label(filled_clusters)"
   ]
  },
  {
   "cell_type": "code",
   "execution_count": 343,
   "metadata": {
    "collapsed": false
   },
   "outputs": [
    {
     "data": {
      "text/plain": [
       "<matplotlib.image.AxesImage at 0x20f9f3a90>"
      ]
     },
     "execution_count": 343,
     "metadata": {},
     "output_type": "execute_result"
    },
    {
     "data": {
      "image/png": "[encoded data removed]",
      "text/plain": [
       "<matplotlib.figure.Figure at 0x20f3dd9b0>"
      ]
     },
     "metadata": {},
     "output_type": "display_data"
    }
   ],
   "source": [
    "plt.imshow(new_labeled_nuclei[10])"
   ]
  },
  {
   "cell_type": "code",
   "execution_count": 357,
   "metadata": {
    "collapsed": false,
    "scrolled": true
   },
   "outputs": [],
   "source": [
    "##Intersect Hoechst and GFP binary masks to identify transfected cells\n",
    "bw=clusters>0\n",
    "#Use <0 to remove original labels from 'clusters', converting to a binary image\n",
    "transfected_clusters=new_labeled_nuclei*bw\n",
    "\n",
    "##Filter by size\n",
    "real_clustered_nuclei=remove_small_objects(transfected_clusters, min_vol) #After fill"
   ]
  },
  {
   "cell_type": "code",
   "execution_count": 368,
   "metadata": {
    "collapsed": false
   },
   "outputs": [
    {
     "data": {
      "text/plain": [
       "<matplotlib.text.Text at 0x2c5c977b8>"
      ]
     },
     "execution_count": 368,
     "metadata": {},
     "output_type": "execute_result"
    },
    {
     "data": {
      "image/png": "[encoded data removed]",
      "text/plain": [
       "<matplotlib.figure.Figure at 0x2c5c68080>"
      ]
     },
     "metadata": {},
     "output_type": "display_data"
    }
   ],
   "source": [
    "plt.imshow(real_clustered_nuclei[6])\n",
    "plt.title('Clustered Nuclei above size cutoff')"
   ]
  },
  {
   "cell_type": "code",
   "execution_count": null,
   "metadata": {
    "collapsed": true
   },
   "outputs": [],
   "source": [
    "##Filter by size\n"
   ]
  },
  {
   "cell_type": "markdown",
   "metadata": {},
   "source": [
    "**Watershed**"
   ]
  },
  {
   "cell_type": "code",
   "execution_count": null,
   "metadata": {
    "collapsed": false
   },
   "outputs": [],
   "source": [
    "##Test case\n",
    "distance = ndimage.distance_transform_edt(clusters[4])\n",
    "local_maxi = peak_local_max(distance, indices=False, footprint=np.ones((10, 10)), labels=clusters[4])\n",
    "markers = ndimage.label(local_maxi)[0]\n",
    "labeled_clusters = watershed(-distance, markers, mask=clusters[4])"
   ]
  },
  {
   "cell_type": "code",
   "execution_count": null,
   "metadata": {
    "collapsed": true
   },
   "outputs": [],
   "source": [
    "##Alternaive using GFP intensity\n",
    "distance = ndimage.distance_transform_edt(clusters[4])\n",
    "local_maxi = peak_local_max(GFP_stack[4], indices=False, footprint=np.ones((40, 40)), labels=clusters[4]) ##Using GFP data\n",
    "markers = ndimage.label(local_maxi)[0]\n",
    "labeled_clusters = watershed(-distance, markers, mask=clusters[4])"
   ]
  },
  {
   "cell_type": "code",
   "execution_count": null,
   "metadata": {
    "collapsed": true
   },
   "outputs": [],
   "source": [
    "##Test case\n",
    "distance = ndimage.distance_transform_edt(clusters[4])\n",
    "local_maxi = peak_local_max(distance, indices=False, footprint=np.ones((10, 10)), labels=clusters[4])\n",
    "markers = ndimage.label(local_maxi)[0]\n",
    "labeled_clusters = watershed(-distance, markers, mask=clusters[4])"
   ]
  },
  {
   "cell_type": "code",
   "execution_count": null,
   "metadata": {
    "collapsed": false,
    "scrolled": true
   },
   "outputs": [],
   "source": [
    "##Show the output\n",
    "plt.figure(figsize=(9, 3.5))\n",
    "plt.subplot(131)\n",
    "plt.imshow(clusters[4], cmap='gray', interpolation='nearest')\n",
    "plt.axis('off')\n",
    "plt.subplot(132)\n",
    "plt.imshow(-distance, interpolation='nearest')\n",
    "plt.axis('off')\n",
    "plt.subplot(133)\n",
    "plt.imshow(labeled_clusters, cmap='spectral', interpolation='nearest')\n",
    "plt.axis('off')\n",
    "\n",
    "plt.subplots_adjust(hspace=0.01, wspace=0.01, top=1, bottom=0, left=0,\n",
    "                    right=1)\n",
    "plt.show()"
   ]
  },
  {
   "cell_type": "code",
   "execution_count": null,
   "metadata": {
    "collapsed": false
   },
   "outputs": [],
   "source": [
    "#3D watershed has issues with ambiguity it connectivity array\n",
    "#ws_stack = np.zeros_like(full_mask_stack)\n",
    "## Watershed all planes\n",
    "#distance = ndimage.distance_transform_edt(full_mask_stack)\n",
    "#local_maxi = peak_local_max(distance, indices=False, footprint=np.ones((1, 5, 5)))\n",
    "#markers = ndimage.label(local_maxi)[0]\n",
    "#ws_stack = watershed(-distance, markers, full_mask_stack)"
   ]
  },
  {
   "cell_type": "code",
   "execution_count": null,
   "metadata": {
    "collapsed": false,
    "scrolled": true
   },
   "outputs": [],
   "source": [
    "#Process stack\n",
    "ws_stack = np.zeros_like(full_mask_stack)\n",
    "## Watershed each z plane:\n",
    "for z, frame in enumerate(full_mask_stack):\n",
    "    distance = ndimage.distance_transform_edt(frame)\n",
    "    local_maxi = peak_local_max(\n",
    "        distance, indices=False, footprint=np.ones((20, 20)), labels=frame)\n",
    "    markers = ndimage.label(local_maxi)[0]\n",
    "    labels = watershed(-distance, markers, mask=frame)\n",
    "\n",
    "    ws_stack[z] = labels"
   ]
  },
  {
   "cell_type": "markdown",
   "metadata": {},
   "source": [
    "**Select Objects**"
   ]
  },
  {
   "cell_type": "code",
   "execution_count": null,
   "metadata": {
    "collapsed": false
   },
   "outputs": [],
   "source": [
    "##Check the filtered stack\n",
    "nrows = np.int(np.ceil(np.sqrt(z_size)))\n",
    "ncols = np.int(z_size // nrows + 1)\n",
    "\n",
    "fig, axes = plt.subplots(nrows, ncols, figsize=(3*ncols, 3*nrows))\n",
    "for n in range(z_size):\n",
    "    i = n // ncols\n",
    "    j = n % ncols\n",
    "    axes[i, j].imshow(ws_stack[n, ...],\n",
    "                      interpolation='nearest', cmap='gray')\n",
    "    \n",
    "    \n",
    "## Remove empty plots \n",
    "for ax in axes.ravel():\n",
    "    if not(len(ax.images)):\n",
    "        fig.delaxes(ax)\n",
    "fig.tight_layout()"
   ]
  },
  {
   "cell_type": "code",
   "execution_count": null,
   "metadata": {
    "collapsed": false
   },
   "outputs": [],
   "source": [
    "##'approximate_polygon' may be a simple way to simplify and smooth the detected objects.\n",
    "\n",
    "contours, hierarchy = cv2.findContours(binaryimage,cv2.RETR_EXTERNAL,cv2.CHAIN_APPROX_NONE)\n",
    "\n",
    "for ind, cont in enumerate(contours):\n",
    "    elps = cv2.fitEllipse(cont)\n",
    "    #Feed elps directly into cv2.ellipse\n",
    "    cv2.ellipse(displayframe,elps,(0,0,255))\n",
    "\n",
    "cv2.imshow(\"Perfectly fitted ellipses\", displayframe)"
   ]
  },
  {
   "cell_type": "markdown",
   "metadata": {},
   "source": [
    "**Computing the properties of the labeled regions:**\n",
    "\n",
    "We use skimage.measure handy function regionprops. For convinience, we store the computed properties in a pandas DataFrame object (this is particullarly usefulll if you have more images or more timepoints, and want to later on manipulate the collected data."
   ]
  },
  {
   "cell_type": "code",
   "execution_count": null,
   "metadata": {
    "collapsed": false
   },
   "outputs": [],
   "source": [
    "labeled_stack=ws_stack\n",
    "\n",
    "properties = []\n",
    "columns = ('x', 'y', 'z', 'I', 'w')                 #could be cleaned up by adding index as a column heading\n",
    "indices = []\n",
    "for z, frame in enumerate(labeled_stack):\n",
    "    f_prop = regionprops(frame.astype(np.int),\n",
    "                         intensity_image=image_stack[z])\n",
    "    for d in f_prop:\n",
    "        radius = (d.area / np.pi)**0.5\n",
    "        if (min_radius  < radius < max_radius):\n",
    "            properties.append([d.weighted_centroid[0],\n",
    "                               d.weighted_centroid[1],\n",
    "                               z, \n",
    "                               d.mean_intensity * d.area,\n",
    "                               radius])\n",
    "            indices.append(d.label)\n",
    "if not len(indices):\n",
    "    all_props = pd.DataFrame([], index=[])\n",
    "indices = pd.Index(indices, name='label')           #could feed into pre-existing column if edited\n",
    "properties = pd.DataFrame(properties, index=indices, columns=columns)\n",
    "#properties['I'] /= properties['I'].max() #This will normalise the intensities to the brightest."
   ]
  },
  {
   "cell_type": "code",
   "execution_count": null,
   "metadata": {
    "collapsed": false
   },
   "outputs": [],
   "source": [
    "properties.head(25)"
   ]
  },
  {
   "cell_type": "markdown",
   "metadata": {
    "collapsed": true
   },
   "source": [
    "**Clustering**"
   ]
  },
  {
   "cell_type": "code",
   "execution_count": null,
   "metadata": {
    "collapsed": false
   },
   "outputs": [],
   "source": [
    "fig = plt.figure(figsize=(12, 12))\n",
    "colors = plt.cm.jet(properties.index.astype(np.int32))\n",
    "\n",
    "# xy projection:\n",
    "ax_xy = fig.add_subplot(111)\n",
    "ax_xy.imshow(image_stack.max(axis=0), cmap='gray')\n",
    "ax_xy.scatter(properties['y'],\n",
    "              properties['x'], c=colors, alpha=1)\n",
    "\n",
    "divider = make_axes_locatable(ax_xy)\n",
    "ax_zx = divider.append_axes(\"top\", 2, pad=0.2, sharex=ax_xy)\n",
    "ax_zx.imshow(image_stack.max(axis=1), aspect=z_scale/xy_scale, cmap='gray')\n",
    "ax_zx.scatter(properties['y'],\n",
    "              properties['z'], c=colors, alpha=1)\n",
    "ax_yz = divider.append_axes(\"right\", 2, pad=0.2, sharey=ax_xy)\n",
    "ax_yz.imshow(image_stack.max(axis=2).T, aspect=xy_scale/z_scale, cmap='gray')\n",
    "ax_yz.scatter(properties['z'],\n",
    "              properties['x'], c=colors, alpha=1)\n",
    "plt.draw()"
   ]
  },
  {
   "cell_type": "markdown",
   "metadata": {
    "collapsed": true
   },
   "source": [
    "Next we want to get the center of each cluster. \n",
    "\n",
    "To do so we run a weighted average of the positions for each cluster, using the measured intensity as weight."
   ]
  },
  {
   "cell_type": "code",
   "execution_count": null,
   "metadata": {
    "collapsed": true
   },
   "outputs": [],
   "source": [
    "##This is the function that groups \"cells\", nuclei. May be more relevant to larger fields of view\n",
    "def df_average(df, weights_column):\n",
    "    '''Computes the average on each columns of a dataframe, weighted\n",
    "    by the values of the column `weight_columns`.\n",
    "    \n",
    "    Parameters:\n",
    "    -----------\n",
    "    df: a pandas DataFrame instance\n",
    "    weights_column: a string, the column name of the weights column \n",
    "    \n",
    "    Returns:\n",
    "    --------\n",
    "    \n",
    "    values: pandas DataFrame instance with the same column names as `df`\n",
    "        with the weighted average value of the column\n",
    "    '''\n",
    "    \n",
    "    values = df.copy().iloc[0]\n",
    "    norm = df[weights_column].sum()\n",
    "    for col in df.columns:\n",
    "        try:\n",
    "            v = (df[col] * df[weights_column]).sum() / norm\n",
    "        except TypeError:\n",
    "            v = df[col].iloc[0]\n",
    "        values[col] = v\n",
    "    return values"
   ]
  },
  {
   "cell_type": "code",
   "execution_count": null,
   "metadata": {
    "collapsed": false
   },
   "outputs": [],
   "source": [
    "cell_positions = properties.groupby(level='label').apply(df_average, 'I')"
   ]
  },
  {
   "cell_type": "code",
   "execution_count": null,
   "metadata": {
    "collapsed": false
   },
   "outputs": [],
   "source": [
    "#In this case there is only 1 nucleus\n",
    "cell_positions"
   ]
  },
  {
   "cell_type": "code",
   "execution_count": null,
   "metadata": {
    "collapsed": false,
    "scrolled": true
   },
   "outputs": [],
   "source": [
    "##Calculate Nuclear Intensity\n",
    "properties = []\n",
    "columns = ('x','y','z', 'w', 'mean_GFP','I_GFP')\n",
    "indices = []\n",
    "for z, frame in enumerate(labeled_stack):\n",
    "    f_prop = regionprops(frame.astype(np.int),\n",
    "                         intensity_image=im[z,:,:,1]) #1=GFP\n",
    "    for d in f_prop:\n",
    "        radius = (d.area / np.pi)**0.5\n",
    "        if (min_radius  < radius < max_radius):\n",
    "            properties.append([d.weighted_centroid[0],\n",
    "                               d.weighted_centroid[1],\n",
    "                               z, \n",
    "                               radius,\n",
    "                               d.mean_intensity,\n",
    "                               d.mean_intensity * d.area])\n",
    "            indices.append(d.label)\n",
    "        if not len(indices):\n",
    "            all_props = pd.DataFrame([], index=[])\n",
    "            indices = pd.Index(indices, name='label')\n",
    "properties = pd.DataFrame(properties, index=indices, columns=columns)"
   ]
  },
  {
   "cell_type": "code",
   "execution_count": null,
   "metadata": {
    "collapsed": false
   },
   "outputs": [],
   "source": [
    "properties.head(24)"
   ]
  },
  {
   "cell_type": "code",
   "execution_count": null,
   "metadata": {
    "collapsed": false
   },
   "outputs": [],
   "source": [
    "#Add I_Hoechst\n",
    "I_Hoechst=[]\n",
    "for z, frame in enumerate(labeled_stack):\n",
    "    h_prop = regionprops(frame.astype(np.int),\n",
    "                         intensity_image=im[z,:,:,0]) #0=Hoechst\n",
    "    for d in h_prop:\n",
    "        radius = (d.area / np.pi)**0.5\n",
    "        if (min_radius  < radius < max_radius):\n",
    "            I_Hoechst.append(d.mean_intensity * d.area)\n",
    "            indices.append(d.label)\n",
    "properties['I_Hoechst']=I_Hoechst"
   ]
  },
  {
   "cell_type": "code",
   "execution_count": null,
   "metadata": {
    "collapsed": false
   },
   "outputs": [],
   "source": [
    "properties"
   ]
  },
  {
   "cell_type": "code",
   "execution_count": null,
   "metadata": {
    "collapsed": false,
    "scrolled": true
   },
   "outputs": [],
   "source": [
    "#Calculate total GFP\n",
    "Nuclear_GFP=properties['I_GFP'].sum()\n",
    "print(Nuclear_GFP)\n",
    "\n",
    "#Calculate total GFP\n",
    "Nuclear_Hoechst=properties['I_Hoechst'].sum()\n",
    "print(Nuclear_Hoechst)"
   ]
  },
  {
   "cell_type": "code",
   "execution_count": null,
   "metadata": {
    "collapsed": false,
    "scrolled": true
   },
   "outputs": [],
   "source": [
    "#Compare intensity across z-stacks\n",
    "properties.plot.scatter('I_Hoechst','I_GFP')"
   ]
  },
  {
   "cell_type": "code",
   "execution_count": null,
   "metadata": {
    "collapsed": false
   },
   "outputs": [],
   "source": [
    "##Lets look at the GFP channel\n",
    "GFP_stack=im[:,:,:,1]\n",
    "\n",
    "nrows = np.int(np.ceil(np.sqrt(z_size)))\n",
    "ncols = np.int(z_size // nrows + 1)\n",
    "\n",
    "fig, axes = plt.subplots(nrows, ncols, figsize=(3*ncols, 3*nrows))\n",
    "for n in range(z_size):\n",
    "    i = n // ncols\n",
    "    j = n % ncols\n",
    "    axes[i, j].imshow(GFP_stack[n],\n",
    "                      interpolation='nearest',\n",
    "                      vmin=500,                     #constant minimum display value\n",
    "                      vmax=6000                     #constant maximum display value\n",
    "                      #cmap='gray'\n",
    "                     )\n",
    "    \n",
    "    \n",
    "## Remove empty plots \n",
    "for ax in axes.ravel():\n",
    "    if not(len(ax.images)):\n",
    "        fig.delaxes(ax)\n",
    "fig.tight_layout()"
   ]
  },
  {
   "cell_type": "code",
   "execution_count": null,
   "metadata": {
    "collapsed": false,
    "scrolled": false
   },
   "outputs": [],
   "source": [
    "#from skimage.feature import blob_log\n",
    "#Detect maxima using 'blob_log' for more accurate detection. (Error messages suggest it only works on 2D arrays!!)\n",
    "#Can't seem to get it to work at all\n",
    "#blobs = blob_log(GFP_stack[0], threshold=.01)\n",
    "#punc_fig = plt.figure(figsize=(12, 12))\n",
    "#colors = plt.cm.jet(blobs[:,2].astype(np.int32))\n",
    "#plt.imshow(GFP_stack[0], cmap='gray')\n",
    "#plt.scatter(blobs[:,0],blobs[:,1], c=colors, alpha=1)"
   ]
  },
  {
   "cell_type": "code",
   "execution_count": null,
   "metadata": {
    "collapsed": false,
    "scrolled": false
   },
   "outputs": [],
   "source": [
    "#Measure maxima intensities and count (bear in mind that we need to cluster to prevent over estimates)\n",
    "#Max filter makes local maxima more obvious.\n",
    "image_max=ndimage.maximum_filter(GFP_stack,footprint=np.ones((3,3,3)))\n",
    "plt.imshow(image_max[3])"
   ]
  },
  {
   "cell_type": "code",
   "execution_count": null,
   "metadata": {
    "collapsed": false,
    "scrolled": true
   },
   "outputs": [],
   "source": [
    "#local_max = ndimage.maximum_filter(GFP_stack, size=2.5)==GFP_stack\n",
    "local_max = ndimage.maximum_filter(GFP_stack,footprint=np.ones((3,10,10)))==GFP_stack\n",
    "plt.imshow(local_max[8], cmap=\"gray\") #individual voxels are too small to see\n",
    "##these are your markers"
   ]
  },
  {
   "cell_type": "code",
   "execution_count": null,
   "metadata": {
    "collapsed": false
   },
   "outputs": [],
   "source": [
    "##Create mask\n",
    "pT=4000\n",
    "puncta=image_max>pT\n",
    "plt.imshow(puncta[8])"
   ]
  },
  {
   "cell_type": "code",
   "execution_count": null,
   "metadata": {
    "collapsed": false
   },
   "outputs": [],
   "source": [
    "##Identify local maxima within the nucleus\n",
    "nu_pun=np.array(puncta) & np.array(ws_stack)\n",
    "plt.imshow(nu_pun[3])\n",
    "#plt.title('Puncta within the Nucleus')\n",
    "\n",
    "##Get coordinates of local maxima\n",
    "nu_max=np.array(local_max) & np.array(ws_stack)\n",
    "plt.imshow(nu_max[3], cmap='gray')\n",
    "#plt.title('Puncta within the Nucleus') #Voxels are hard to see on plot"
   ]
  },
  {
   "cell_type": "code",
   "execution_count": null,
   "metadata": {
    "collapsed": false
   },
   "outputs": [],
   "source": [
    "##Coordinates of local maxima within the nucleus. Later replaced by coodrinates of local nuclear maxima > 4000.\n",
    "header=(['z','r','c'])\n",
    "coords=np.transpose(nu_max.nonzero())\n",
    "coords = pd.DataFrame(coords, columns=header)\n",
    "coords"
   ]
  },
  {
   "cell_type": "code",
   "execution_count": null,
   "metadata": {
    "collapsed": false
   },
   "outputs": [],
   "source": [
    "#plt.scatter(512-coords['r'],\n",
    "#           coords['c'], c=colors, alpha=1, vmin=0, vmax=512\n",
    "#         )\n",
    "\n",
    "scat_fig = plt.figure(figsize=(12, 12))\n",
    "colors = plt.cm.jet(coords.index.astype(np.int32))\n",
    "\n",
    "# xy projection:\n",
    "scat_fig.imshow(nu_pun[3], cmap='gray')\n",
    "scat_fig.scatter(coords['r'],\n",
    "              coords['c'], c=colors, alpha=1)\n",
    "plt.draw()"
   ]
  },
  {
   "cell_type": "code",
   "execution_count": null,
   "metadata": {
    "collapsed": false
   },
   "outputs": [],
   "source": [
    "spot_distance = ndimage.distance_transform_edt(nu_pun)\n",
    "plt.imshow(spot_distance[8])"
   ]
  },
  {
   "cell_type": "code",
   "execution_count": null,
   "metadata": {
    "collapsed": false,
    "scrolled": true
   },
   "outputs": [],
   "source": [
    "fig = plt.figure(figsize=(12, 12))\n",
    "colors = plt.cm.jet(properties.index.astype(np.int32))\n",
    "\n",
    "# xy projection:\n",
    "ax_xy = fig.add_subplot(111)\n",
    "ax_xy.imshow(spot_distance.mean(axis=0), cmap='gray', vmin=0, vmax=2)\n",
    "ax_xy.scatter(coords['c'],\n",
    "              coords['r'], c=colors, alpha=1)\n",
    "\n",
    "divider = make_axes_locatable(ax_xy)\n",
    "ax_zx = divider.append_axes(\"top\", 2, pad=0.2, sharex=ax_xy)\n",
    "ax_zx.imshow(spot_distance.mean(axis=1), aspect=z_scale/xy_scale, cmap='gray')\n",
    "ax_zx.scatter(coords['c'],\n",
    "              coords['z'], c=colors, alpha=1)\n",
    "\n",
    "ax_yz = divider.append_axes(\"right\", 2, pad=0.2, sharey=ax_xy)\n",
    "ax_yz.imshow(spot_distance.mean(axis=2).T, aspect=xy_scale/z_scale, cmap='gray')\n",
    "ax_yz.scatter(coords['z'],\n",
    "              coords['r'], c=colors, alpha=1)\n",
    "plt.draw()"
   ]
  },
  {
   "cell_type": "code",
   "execution_count": null,
   "metadata": {
    "collapsed": false
   },
   "outputs": [],
   "source": [
    "##Try overlaying local_max >4000\n",
    "coords=[]\n",
    "\n",
    "#[1] Mask GFP_stack with[nu_max]\n",
    "GFP_ma=MA.masked_array(GFP_stack,\n",
    "                      mask=~nu_max)\n",
    "\n",
    "#plt.imshow(GFP_ma[12],\n",
    "#           cmap='gray')\n",
    "\n",
    "coords=np.transpose((GFP_stack>4000).nonzero())\n",
    "coords = pd.DataFrame(coords, columns=header)\n",
    "coords"
   ]
  },
  {
   "cell_type": "code",
   "execution_count": null,
   "metadata": {
    "collapsed": false
   },
   "outputs": [],
   "source": [
    "markers=nu_max\n",
    "punc_labels = watershed(-spot_distance,nu_pun, markers)\n",
    "plt.imshow(punc_labels[3])"
   ]
  },
  {
   "cell_type": "code",
   "execution_count": null,
   "metadata": {
    "collapsed": true
   },
   "outputs": [],
   "source": [
    "from skimage import segmentation\n",
    "markers=nu_max\n",
    "##\n",
    "punc_labels = segmentation.random_walker(image_max, markers)\n",
    "plt.imshow(punc_labels[3])"
   ]
  },
  {
   "cell_type": "code",
   "execution_count": null,
   "metadata": {
    "collapsed": false
   },
   "outputs": [],
   "source": [
    "# xy projection:\n",
    "plt.imshow(GFP_stack[1], cmap='gray')\n",
    "plt.scatter(coordinates[1,:,0],\n",
    "              coordinates[1,:,1], c=colors, alpha=1)"
   ]
  },
  {
   "cell_type": "code",
   "execution_count": null,
   "metadata": {
    "collapsed": false
   },
   "outputs": [],
   "source": [
    "##Why not just threshold\n",
    "pT=threshold_otsu(GFP_stack)"
   ]
  },
  {
   "cell_type": "code",
   "execution_count": null,
   "metadata": {
    "collapsed": false
   },
   "outputs": [],
   "source": [
    "#pT=5*image_max.mean()\n",
    "#pT=2500\n",
    "puncta=image_max>pT\n",
    "plt.imshow(puncta[12])"
   ]
  },
  {
   "cell_type": "code",
   "execution_count": null,
   "metadata": {
    "collapsed": false
   },
   "outputs": [],
   "source": [
    "pT=threshold_otsu(GFP_ma)"
   ]
  },
  {
   "cell_type": "code",
   "execution_count": null,
   "metadata": {
    "collapsed": false,
    "scrolled": true
   },
   "outputs": [],
   "source": [
    "GFP_ma=MA.masked_array(GFP_stack,\n",
    "                      mask=~ws_stack)\n",
    "\n",
    "plt.imshow(GFP_ma[12],\n",
    "           cmap='gray')"
   ]
  },
  {
   "cell_type": "code",
   "execution_count": null,
   "metadata": {
    "collapsed": false
   },
   "outputs": [],
   "source": [
    "GFP_ma.mean()"
   ]
  },
  {
   "cell_type": "code",
   "execution_count": null,
   "metadata": {
    "collapsed": false,
    "scrolled": false
   },
   "outputs": [],
   "source": [
    "#Consider puncta within the nucleus. NB some puncta were cropped.\n",
    "nu_pun=np.array(puncta) & np.array(ws_stack)\n",
    "plt.imshow(nu_pun[11])\n",
    "plt.title('Puncta within the Nucleus')"
   ]
  },
  {
   "cell_type": "markdown",
   "metadata": {},
   "source": [
    "**Watershed Puncta**"
   ]
  },
  {
   "cell_type": "code",
   "execution_count": null,
   "metadata": {
    "collapsed": false
   },
   "outputs": [],
   "source": [
    "spot_distance = ndimage.distance_transform_edt(nu_pun)\n",
    "#plt.imshow(spot_distance[11])\n"
   ]
  },
  {
   "cell_type": "code",
   "execution_count": null,
   "metadata": {
    "collapsed": false
   },
   "outputs": [],
   "source": [
    "plt.imshow(im[11,:,:,1],interpolation='nearest', cmap='gray')"
   ]
  },
  {
   "cell_type": "code",
   "execution_count": null,
   "metadata": {
    "collapsed": true
   },
   "outputs": [],
   "source": [
    "    distance = ndimage.distance_transform_edt(frame)\n",
    "    local_maxi = peak_local_max(\n",
    "        distance, indices=False, footprint=np.ones((20, 20)), labels=frame)\n",
    "    markers = ndimage.label(local_maxi)[0]\n",
    "    labels = watershed(-distance, markers, mask=frame)\n",
    "\n",
    "    ws_stack[z] = labels"
   ]
  },
  {
   "cell_type": "markdown",
   "metadata": {},
   "source": [
    "**Label  and Cluster puncta**"
   ]
  },
  {
   "cell_type": "code",
   "execution_count": null,
   "metadata": {
    "collapsed": false
   },
   "outputs": [],
   "source": [
    "#Labelling works with 3D arrays, so connectivity is already estabilshed\n",
    "labeled_spots, nr_objects = mh.label(nu_pun)\n",
    "labeled_spots\n",
    "plt.imshow(labeled_spots[5])"
   ]
  },
  {
   "cell_type": "code",
   "execution_count": null,
   "metadata": {
    "collapsed": false,
    "scrolled": true
   },
   "outputs": [],
   "source": [
    "labeled_spots.shape"
   ]
  },
  {
   "cell_type": "markdown",
   "metadata": {},
   "source": [
    "**Measure puncta**"
   ]
  },
  {
   "cell_type": "code",
   "execution_count": null,
   "metadata": {
    "collapsed": false
   },
   "outputs": [],
   "source": [
    "spot_properties=[]\n",
    "columns = ('z','x','y','a','w','I')\n",
    "spot_indices = []\n",
    "\n",
    "g_prop=regionprops(labeled_spots.astype(np.int),\n",
    "            intensity_image=im[:,:,:,1])\n",
    "for d in g_prop:\n",
    "    spot_properties.append([d.coords[:,0].mean(), #average the z-coordinates for voxels in this spot (frame)\n",
    "                            d.coords[:,1].mean(), #average the x-coordinates for voxels in this spot (column)\n",
    "                            d.coords[:,2].mean(), #average the y-coordinates for voxels in this spot (row)\n",
    "                            d.area,\n",
    "                            (d.area / np.pi)**0.5,\n",
    "                            d.mean_intensity * d.area]) #area is just number of connected voxels)\n",
    "    spot_indices.append(d.label)\n",
    "spot_properties = pd.DataFrame(spot_properties, index=spot_indices, columns=columns)"
   ]
  },
  {
   "cell_type": "code",
   "execution_count": null,
   "metadata": {
    "collapsed": false
   },
   "outputs": [],
   "source": [
    "spot_properties"
   ]
  },
  {
   "cell_type": "code",
   "execution_count": null,
   "metadata": {
    "collapsed": false
   },
   "outputs": [],
   "source": [
    "#Compare intensity across z-stacks\n",
    "#spot_properties.plot.scatter('w','I')\n",
    "spot_properties.plot.scatter('x','z')\n",
    "#spot_properties['I'].plot.hist(bins=20)"
   ]
  },
  {
   "cell_type": "code",
   "execution_count": null,
   "metadata": {
    "collapsed": false
   },
   "outputs": [],
   "source": [
    "spot_fig = plt.figure(figsize=(12, 12))\n",
    "colors = plt.cm.jet(properties.index.astype(np.int32))\n",
    "\n",
    "# xy projection:\n",
    "ax_xy = spot_fig.add_subplot(111)\n",
    "ax_xy.imshow(image_max.max(axis=0), cmap='gray')\n",
    "ax_xy.scatter(spot_properties['y'],\n",
    "              spot_properties['x'], c=colors, alpha=1)\n",
    "\n",
    "divider = make_axes_locatable(ax_xy)\n",
    "ax_zx = divider.append_axes(\"top\", 2, pad=0.2, sharex=ax_xy)\n",
    "ax_zx.imshow(image_max.max(axis=1), aspect=z_scale/xy_scale, cmap='gray')\n",
    "ax_zx.scatter(spot_properties['y'],\n",
    "              spot_properties['z'], c=colors, alpha=1)\n",
    "ax_yz = divider.append_axes(\"right\", 2, pad=0.2, sharey=ax_xy)\n",
    "ax_yz.imshow(image_max.max(axis=2).T, aspect=xy_scale/z_scale, cmap='gray')\n",
    "ax_yz.scatter(spot_properties['z'],\n",
    "              spot_properties['x'], c=colors, alpha=1)\n",
    "plt.draw()"
   ]
  },
  {
   "cell_type": "code",
   "execution_count": null,
   "metadata": {
    "collapsed": true
   },
   "outputs": [],
   "source": [
    "##Simplify this shit\n",
    "spot_properties = []\n",
    "columns = ('x', 'y', 'z', 'I', 'w')\n",
    "spot_indices = []\n",
    "min_spot_r=0\n",
    "max_spot_r=50\n",
    "\n",
    "for z, frame in enumerate(labeled_spots):\n",
    "    g_prop = regionprops(frame.astype(np.int),\n",
    "                         intensity_image=im[z,:,:,1]) #GFP\n",
    "    for d in g_prop:\n",
    "        radius = (d.area / np.pi)**0.5\n",
    "        if (min_spot_r  < radius < max_spot_r):\n",
    "            spot_properties.append([d.weighted_centroid[0],\n",
    "                               d.weighted_centroid[1],\n",
    "                               z, \n",
    "                               d.mean_intensity * d.area,\n",
    "                               radius])\n",
    "            spot_indices.append(d.label)\n",
    "        if not len(indices):\n",
    "            all_props = pd.DataFrame([], index=[])\n",
    "            spot_indices = pd.Index(indices, name='label')\n",
    "spot_properties = pd.DataFrame(spot_properties, index=indices, columns=columns)\n",
    "#properties['I'] /= properties['I'].max() #This will normalise the intensities to the brightest."
   ]
  },
  {
   "cell_type": "code",
   "execution_count": null,
   "metadata": {
    "collapsed": false
   },
   "outputs": [],
   "source": [
    "##Should really just call the same labelling function used for nuclei labelling again here\n",
    "spot_properties = []\n",
    "columns = ('x', 'y', 'z', 'I', 'w')\n",
    "spot_indices = []\n",
    "min_spot_r=0\n",
    "max_spot_r=50\n",
    "\n",
    "for z, frame in enumerate(labeled_spots):\n",
    "    g_prop = regionprops(frame.astype(np.int),\n",
    "                         intensity_image=im[z,:,:,1]) #GFP\n",
    "    for d in g_prop:\n",
    "        radius = (d.area / np.pi)**0.5\n",
    "        if (min_spot_r  < radius < max_spot_r):\n",
    "            spot_properties.append([d.weighted_centroid[0],\n",
    "                               d.weighted_centroid[1],\n",
    "                               z, \n",
    "                               d.mean_intensity * d.area,\n",
    "                               radius])\n",
    "            spot_indices.append(d.label)\n",
    "        if not len(indices):\n",
    "            all_props = pd.DataFrame([], index=[])\n",
    "            spot_indices = pd.Index(indices, name='label')\n",
    "spot_properties = pd.DataFrame(spot_properties, index=indices, columns=columns)\n",
    "#properties['I'] /= properties['I'].max() #This will normalise the intensities to the brightest."
   ]
  },
  {
   "cell_type": "markdown",
   "metadata": {},
   "source": [
    "**Cluster puncta**"
   ]
  },
  {
   "cell_type": "code",
   "execution_count": null,
   "metadata": {
    "collapsed": false
   },
   "outputs": [],
   "source": [
    "size=5\n",
    "peak_threshold=5000\n",
    "\n",
    "#Find puncta\n",
    "image_max = ndimage.maximum_filter(im[3,:,:,1], size=size, mode='constant')\n",
    "puncta = (im[3,:,:,1] == image_max) #What is happening here\n",
    "im[:,:,:,1] *= puncta\n",
    "\n",
    "# Find peaks\n",
    "image_t = (im[3,:,:,1] > peak_threshold) * 1\n",
    "\n",
    "# get coordinates of peaks\n",
    "f = np.transpose(image_t.nonzero())\n",
    "\n",
    "# Show\n",
    "img = plt.imshow(np.asarray(im[3,:,:,1]), cmap='gray')\n",
    "plt.plot(f[:, 1], f[:, 0], 'o', markeredgewidth=0.45, markeredgecolor='b', markerfacecolor='None')\n",
    "\n",
    "plt.axis('off')\n",
    "plt.savefig('local_max.png', format='png', bbox_inches='tight')\n",
    "plt.show()                                "
   ]
  },
  {
   "cell_type": "code",
   "execution_count": null,
   "metadata": {
    "collapsed": true
   },
   "outputs": [],
   "source": []
  }
 ],
 "metadata": {
  "anaconda-cloud": {},
  "kernelspec": {
   "display_name": "Python [conda root]",
   "language": "python",
   "name": "conda-root-py"
  },
  "language_info": {
   "codemirror_mode": {
    "name": "ipython",
    "version": 2
   },
   "file_extension": ".py",
   "mimetype": "text/x-python",
   "name": "python",
   "nbconvert_exporter": "python",
   "pygments_lexer": "ipython2",
   "version": "2.7.12"
  }
 },
 "nbformat": 4,
 "nbformat_minor": 1
}
