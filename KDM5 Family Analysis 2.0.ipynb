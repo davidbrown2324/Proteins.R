{
 "cells": [
  {
   "cell_type": "markdown",
   "metadata": {},
   "source": [
    "# KDM5 Protein Family Analysis\n",
    "This is my attempt to investigate KDM5 protein sequences using python.\n",
    "\n",
    "The following website is very helpful.  \n",
    "http://biopython.org/DIST/docs/tutorial/Tutorial.html#htoc40"
   ]
  },
  {
   "cell_type": "code",
   "execution_count": 2,
   "metadata": {
    "collapsed": false
   },
   "outputs": [],
   "source": [
    "#Load uniprot Ids for the KDM5 family, square brackets specify a 'list'\n",
    "KDM5s = [\"Q3UXZ9\",\"Q38JA7\",\"Q30DN6\",\"Q62240\",\"Q5F3R2\",\"Q80Y84\",\"A1YVX4\",\"Q61T02\",\"Q9VMJ7\",\"P41228\",\"P41229\",\"Q5XUN4\",\"Q23541\",\"P29375\",\"Q9UGL1\",\"P41230\",\"Q9BY66\",\"Q6IQX0\",\"P47156\",\"Q8GUI6\"]\n"
   ]
  },
  {
   "cell_type": "code",
   "execution_count": 3,
   "metadata": {
    "collapsed": true
   },
   "outputs": [],
   "source": [
    "#Aim: Get peptide sequences and descriptions for each id using Biopython or 'Bio' as it is sometimes confusingly called.\n"
   ]
  },
  {
   "cell_type": "code",
   "execution_count": 4,
   "metadata": {
    "collapsed": false
   },
   "outputs": [],
   "source": [
    "from Bio import ExPASy\n",
    "from Bio import SwissProt\n",
    "\n",
    "#Define the input accession numbers\n",
    "accessions = KDM5s\n",
    "#Assign a 'list' of 'records' to save the output.\n",
    "records = []\n",
    "\n",
    "for accession in accessions:\n",
    "    #Get the data from the ExPASy website.\n",
    "    handle = ExPASy.get_sprot_raw(accession)\n",
    "    #Parse the data into a python accessible 'record'.\n",
    "    record = SwissProt.read(handle)\n",
    "    #Add the record to the list.\n",
    "    records.append(record)"
   ]
  },
  {
   "cell_type": "code",
   "execution_count": 5,
   "metadata": {
    "collapsed": false
   },
   "outputs": [],
   "source": [
    "#You can view the list of records (uncomment below) but it is not useful.\n",
    "#records"
   ]
  },
  {
   "cell_type": "code",
   "execution_count": 6,
   "metadata": {
    "collapsed": false
   },
   "outputs": [
    {
     "name": "stdout",
     "output_type": "stream",
     "text": [
      "KDM5A_MOUSE\n",
      "Q3UXZ9,Q3TM94,Q3UMI5,Q66JZ3\n",
      "['Activator', 'Biological rhythms', 'Chromatin regulator', 'Complete proteome', 'Developmental protein', 'Dioxygenase', 'Direct protein sequencing', 'Iron', 'Isopeptide bond', 'Metal-binding', 'Nucleus', 'Oxidoreductase', 'Phosphoprotein', 'Reference proteome', 'Repeat', 'Transcription', 'Transcription regulation', 'Ubl conjugation', 'Zinc', 'Zinc-finger']\n",
      "'Mus musculus (Mouse).'\n",
      "MASVGPGGYAAEFVPPPECP...\n",
      "KDM5C_CANLF\n",
      "Q38JA7\n",
      "['Biological rhythms', 'Chromatin regulator', 'Complete proteome', 'Dioxygenase', 'Iron', 'Isopeptide bond', 'Metal-binding', 'Nucleus', 'Oxidoreductase', 'Phosphoprotein', 'Reference proteome', 'Repeat', 'Repressor', 'Transcription', 'Transcription regulation', 'Ubl conjugation', 'Zinc', 'Zinc-finger']\n",
      "'Canis lupus familiaris (Dog) (Canis familiaris).'\n",
      "MEPGSDDFLPPPECPVFEPS...\n",
      "KDM5D_CANLF\n",
      "Q30DN6\n",
      "['Chromatin regulator', 'Complete proteome', 'Dioxygenase', 'Iron', 'Isopeptide bond', 'Metal-binding', 'Nucleus', 'Oxidoreductase', 'Phosphoprotein', 'Reference proteome', 'Repeat', 'Ubl conjugation', 'Zinc', 'Zinc-finger']\n",
      "'Canis lupus familiaris (Dog) (Canis familiaris).'\n",
      "MESGSDDFLPPPECPVFEPT...\n",
      "KDM5D_MOUSE\n",
      "Q62240,Q3US03,Q6PCX3,Q9QVR9,Q9R040\n",
      "['Alternative splicing', 'Chromatin regulator', 'Complete proteome', 'Dioxygenase', 'Iron', 'Isopeptide bond', 'Metal-binding', 'Nucleus', 'Oxidoreductase', 'Phosphoprotein', 'Reference proteome', 'Repeat', 'Transcription', 'Transcription regulation', 'Ubl conjugation', 'Zinc', 'Zinc-finger']\n",
      "'Mus musculus (Mouse).'\n",
      "MKPGSDDFLPPPECPVFEPS...\n",
      "KDM5B_CHICK\n",
      "Q5F3R2\n",
      "['Biological rhythms', 'Chromatin regulator', 'Complete proteome', 'Dioxygenase', 'Iron', 'Metal-binding', 'Nucleus', 'Oxidoreductase', 'Reference proteome', 'Repeat', 'Repressor', 'Transcription', 'Transcription regulation', 'Zinc', 'Zinc-finger']\n",
      "'Gallus gallus (Chicken).'\n",
      "MAEFLPPPECPVFEPSWEEF...\n",
      "KDM5B_MOUSE\n",
      "Q80Y84,Q5DTR9,Q8BLU1,Q8JZL8\n",
      "['3D-structure', 'Acetylation', 'Alternative splicing', 'Biological rhythms', 'Chromatin regulator', 'Complete proteome', 'Dioxygenase', 'Iron', 'Isopeptide bond', 'Metal-binding', 'Nucleus', 'Oxidoreductase', 'Phosphoprotein', 'Reference proteome', 'Repeat', 'Repressor', 'Transcription', 'Transcription regulation', 'Ubl conjugation', 'Zinc', 'Zinc-finger']\n",
      "'Mus musculus (Mouse).'\n",
      "MEPATTLPPGPRPALPLGGP...\n",
      "KDM5C_PIG\n",
      "A1YVX4\n",
      "['Chromatin regulator', 'Complete proteome', 'Dioxygenase', 'Iron', 'Isopeptide bond', 'Metal-binding', 'Nucleus', 'Oxidoreductase', 'Phosphoprotein', 'Reference proteome', 'Repeat', 'Transcription', 'Transcription regulation', 'Ubl conjugation', 'Zinc', 'Zinc-finger']\n",
      "'Sus scrofa (Pig).'\n",
      "MEPGSDDFLPPPECPVFEPS...\n",
      "KDM5_CAEBR\n",
      "Q61T02,A8X185\n",
      "['Chromatin regulator', 'Coiled coil', 'Complete proteome', 'Dioxygenase', 'Iron', 'Metal-binding', 'Nucleus', 'Oxidoreductase', 'Reference proteome', 'Repeat', 'Transcription', 'Transcription regulation', 'Zinc', 'Zinc-finger']\n",
      "'Caenorhabditis briggsae.'\n",
      "MRGRRQEDIATTSSAPSTST...\n",
      "KDM5_DROME\n",
      "Q9VMJ7\n",
      "['3D-structure', 'Biological rhythms', 'Chromatin regulator', 'Coiled coil', 'Complete proteome', 'Developmental protein', 'Dioxygenase', 'Iron', 'Metal-binding', 'Nucleus', 'Oxidoreductase', 'Phosphoprotein', 'Reference proteome', 'Repeat', 'Transcription', 'Transcription regulation', 'Zinc', 'Zinc-finger']\n",
      "'Drosophila melanogaster (Fruit fly).'\n",
      "MSAKTEADNTTAANSGGGGV...\n",
      "KDM5C_CRIGR\n",
      "P41228\n",
      "['Biological rhythms', 'Chromatin regulator', 'Dioxygenase', 'Iron', 'Metal-binding', 'Nucleus', 'Oxidoreductase', 'Phosphoprotein', 'Repeat', 'Repressor', 'Transcription', 'Transcription regulation']\n",
      "'Cricetulus griseus (Chinese hamster) (Cricetulus barabensis griseus).'\n",
      "QDWFHGRCVTVPRLLSSQRP...\n",
      "KDM5C_HUMAN\n",
      "P41229,B0QZ44,B4E3I2,F5H3T1,Q5JUX3,Q5JUX4,Q5JUX5,Q7Z5S5\n",
      "['3D-structure', 'Alternative splicing', 'Biological rhythms', 'Chromatin regulator', 'Complete proteome', 'Dioxygenase', 'Disease mutation', 'Iron', 'Isopeptide bond', 'Mental retardation', 'Metal-binding', 'Nucleus', 'Oxidoreductase', 'Phosphoprotein', 'Reference proteome', 'Repeat', 'Repressor', 'Transcription', 'Transcription regulation', 'Ubl conjugation', 'Zinc', 'Zinc-finger']\n",
      "'Homo sapiens (Human).'\n",
      "MEPGSDDFLPPPECPVFEPS...\n",
      "KDM5D_PANTR\n",
      "Q5XUN4\n",
      "['Chromatin regulator', 'Complete proteome', 'Dioxygenase', 'Iron', 'Isopeptide bond', 'Metal-binding', 'Nucleus', 'Oxidoreductase', 'Phosphoprotein', 'Reference proteome', 'Repeat', 'Ubl conjugation', 'Zinc', 'Zinc-finger']\n",
      "'Pan troglodytes (Chimpanzee).'\n",
      "MEPGCNEFLPPPECPVFEPS...\n",
      "KDM5_CAEEL\n",
      "Q23541\n",
      "['Chromatin regulator', 'Coiled coil', 'Complete proteome', 'Dioxygenase', 'Iron', 'Metal-binding', 'Nucleus', 'Oxidoreductase', 'Reference proteome', 'Repeat', 'Transcription', 'Transcription regulation', 'Zinc', 'Zinc-finger']\n",
      "'Caenorhabditis elegans.'\n",
      "MRARRQENSISTPSAPSTST...\n",
      "KDM5A_HUMAN\n",
      "P29375,A8MV76,Q4LE72,Q86XZ1\n",
      "['3D-structure', 'Activator', 'Alternative splicing', 'Biological rhythms', 'Chromatin regulator', 'Complete proteome', 'Developmental protein', 'Dioxygenase', 'Iron', 'Isopeptide bond', 'Metal-binding', 'Nucleus', 'Oxidoreductase', 'Phosphoprotein', 'Polymorphism', 'Reference proteome', 'Repeat', 'Transcription', 'Transcription regulation', 'Ubl conjugation', 'Zinc', 'Zinc-finger']\n",
      "'Homo sapiens (Human).'\n",
      "MAGVGPGGYAAEFVPPPECP...\n",
      "KDM5B_HUMAN\n",
      "Q9UGL1,O95811,Q15752,Q9Y3Q5\n",
      "['3D-structure', 'Acetylation', 'Alternative splicing', 'Biological rhythms', 'Chromatin regulator', 'Complete proteome', 'Dioxygenase', 'Iron', 'Isopeptide bond', 'Metal-binding', 'Nucleus', 'Oxidoreductase', 'Phosphoprotein', 'Reference proteome', 'Repeat', 'Repressor', 'Transcription', 'Transcription regulation', 'Ubl conjugation', 'Zinc', 'Zinc-finger']\n",
      "'Homo sapiens (Human).'\n",
      "MEAATTLHPGPRPALPLGGP...\n",
      "KDM5C_MOUSE\n",
      "P41230,O54995,Q3TYU8,Q3U1X6,Q3U282,Q6ZQF8,Q80XQ9,Q9CVI4,Q9D0C3,Q9QVR8,Q9R039\n",
      "['Alternative splicing', 'Biological rhythms', 'Chromatin regulator', 'Complete proteome', 'Dioxygenase', 'Iron', 'Isopeptide bond', 'Metal-binding', 'Nucleus', 'Oxidoreductase', 'Phosphoprotein', 'Reference proteome', 'Repeat', 'Repressor', 'Transcription', 'Transcription regulation', 'Ubl conjugation', 'Zinc', 'Zinc-finger']\n",
      "'Mus musculus (Mouse).'\n",
      "MELGSDDFLPPPECPVFEPS...\n",
      "KDM5D_HUMAN\n",
      "Q9BY66,A2RU19,A6H8V7,B7ZLX1,Q92509,Q92809,Q9HCU1\n",
      "['3D-structure', 'Alternative splicing', 'Chromatin regulator', 'Complete proteome', 'Dioxygenase', 'Iron', 'Isopeptide bond', 'Metal-binding', 'Nucleus', 'Oxidoreductase', 'Phosphoprotein', 'Polymorphism', 'Reference proteome', 'Repeat', 'Transcription', 'Transcription regulation', 'Ubl conjugation', 'Zinc', 'Zinc-finger']\n",
      "'Homo sapiens (Human).'\n",
      "MEPGCDEFLPPPECPVFEPS...\n",
      "KD5BB_DANRE\n",
      "Q6IQX0,B0S5X8,B0S5X9\n",
      "['Alternative splicing', 'Chromatin regulator', 'Complete proteome', 'Dioxygenase', 'Iron', 'Metal-binding', 'Nucleus', 'Oxidoreductase', 'Reference proteome', 'Repeat', 'Transcription', 'Transcription regulation', 'Zinc', 'Zinc-finger']\n",
      "'Danio rerio (Zebrafish) (Brachydanio rerio).'\n",
      "MTQQGPAEFTPPPECPVFEP...\n",
      "JHD2_YEAST\n",
      "P47156,D6VWT8\n",
      "['Chromatin regulator', 'Complete proteome', 'Dioxygenase', 'Iron', 'Metal-binding', 'Nucleus', 'Oxidoreductase', 'Reference proteome', 'Zinc', 'Zinc-finger']\n",
      "\"Saccharomyces cerevisiae (strain ATCC 204508 / S288c) (Baker's yeast).\"\n",
      "MEEIPALYPTEQEFKNPIDY...\n",
      "JMJ14_ARATH\n",
      "Q8GUI6,F4JUW8,Q9SUN9\n",
      "['3D-structure', 'Alternative splicing', 'Chromatin regulator', 'Complete proteome', 'Dioxygenase', 'Flowering', 'Iron', 'Metal-binding', 'Nucleus', 'Oxidoreductase', 'Reference proteome', 'Repressor', 'Transcription', 'Transcription regulation']\n",
      "'Arabidopsis thaliana (Mouse-ear cress).'\n",
      "MDQLASLAESVAMEEDSEKQ...\n"
     ]
    }
   ],
   "source": [
    "#This is how to query 'records'\n",
    "#http://biopython.org/DIST/docs/api/Bio.SwissProt.Record-class.html\n",
    "for record in records:\n",
    "    print(record.entry_name)\n",
    "    print(\",\".join(record.accessions))\n",
    "    print(record.keywords)\n",
    "    print(repr(record.organism))\n",
    "    print(record.sequence[:20] + \"...\")"
   ]
  },
  {
   "cell_type": "code",
   "execution_count": 7,
   "metadata": {
    "collapsed": false
   },
   "outputs": [
    {
     "name": "stdout",
     "output_type": "stream",
     "text": [
      "KDM5A_MOUSE\n",
      "MASVGPGGYAAEFVPPPECPVFEPSWEEFTDPLSFIGRIRPFAEKTGICKIRPPKDWQPPFACEVKTFRFTPRVQRLNELEAMTRVRLDFLDQLAKFWEL...\n",
      "KDM5C_CANLF\n",
      "MEPGSDDFLPPPECPVFEPSWAEFRDPLGYIAKIRPIAEKSGICKIRPPADWQPPFAVEVDNFRFTPRIQRLNELEAQTRVKLNYLDQIAKFWEIQGSSL...\n",
      "KDM5D_CANLF\n",
      "MESGSDDFLPPPECPVFEPTWAEFRDPLDYITKIRPIAEKSGICKIRPPADWQPPFAVEVDNFRFTPRIQRLNELEAQTRVKLNYLDQIAKFWEIQGSSL...\n",
      "KDM5D_MOUSE\n",
      "MKPGSDDFLPPPECPVFEPSWAEFRDPLGYIAKIRPIAEKSGICKIRPPADWQPPFAVEVDNFRFTPRIQRLNELEAQTRVKLNYLDQIAKFWEIQGSSL...\n",
      "KDM5B_CHICK\n",
      "MAEFLPPPECPVFEPSWEEFADPFAFIHKIRPIAEQTGICKVRPPPDWQPPFACDVDKLHFTPRIQRLNELEAQTRVKLNFLDQIAKFWELQGCTLKIPH...\n",
      "KDM5B_MOUSE\n",
      "MEPATTLPPGPRPALPLGGPGPLGEFLPPPECPVFEPSWEEFADPFAFIHKIRPIAEQTGICKVRPPPDWQPPFACDVDKLHFTPRIQRLNELEAQTRVK...\n",
      "KDM5C_PIG\n",
      "MEPGSDDFLPPPECPVFEPSWAEFRDPLGYIAKIRPIAEKSGICKIRPPADWQPPFAVEVDNFRFTPRIQRLNELEIVVEEGGYEAICKDRRWARVAQRL...\n",
      "KDM5_CAEBR\n",
      "MRGRRQEDIATTSSAPSTSTSHKKKTVSSNGSFRPRTQSNPGGKMEMYDHFYKNFQRPPMAPVYYPTSEEFADPIEYVAKIRPDAERYGVVKIVPPSDFK...\n",
      "KDM5_DROME\n",
      "MSAKTEADNTTAANSGGGGVGSGTSSGGGASANGTATPARRLRTRNSTGNGTNSGSESVKKSNANDEPSTPVTPAGATGSHTHAPPGISPAVMERPMPSV...\n",
      "KDM5C_CRIGR\n",
      "QDWFHGRCVTVPRLLSSQRPGFTSSPLLAWWEWDTKFLCPLCMRSRRPRLETILALLVALQRLPVRLPEGEALQCLTERAISWQGRARQVLASEEVTALL...\n",
      "KDM5C_HUMAN\n",
      "MEPGSDDFLPPPECPVFEPSWAEFRDPLGYIAKIRPIAEKSGICKIRPPADWQPPFAVEVDNFRFTPRIQRLNELEAQTRVKLNYLDQIAKFWEIQGSSL...\n",
      "KDM5D_PANTR\n",
      "MEPGCNEFLPPPECPVFEPSWAEFQDPLGYIAKIRPIAEKSGICKIRPPADWQPPFAVEVDNFRFTPRIQRLNELEAQTRVKLNYLDQIAKFWEIQGSSL...\n",
      "KDM5_CAEEL\n",
      "MRARRQENSISTPSAPSTSTSPRKKASIGNSRSKNHGSKMEMYDQFYKKFVRPPMAPIYYPTEEEFSDPIEYVAKIRHEAEKFGVVKIVPPANFKPPFAI...\n",
      "KDM5A_HUMAN\n",
      "MAGVGPGGYAAEFVPPPECPVFEPSWEEFTDPLSFIGRIRPLAEKTGICKIRPPKDWQPPFACEVKSFRFTPRVQRLNELEAMTRVRLDFLDQLAKFWEL...\n",
      "KDM5B_HUMAN\n",
      "MEAATTLHPGPRPALPLGGPGPLGEFLPPPECPVFEPSWEEFADPFAFIHKIRPIAEQTGICKVRPPPDWQPPFACDVDKLHFTPRIQRLNELEAQTRVK...\n",
      "KDM5C_MOUSE\n",
      "MELGSDDFLPPPECPVFEPSWAEFRDPLGYIAKIRPIAEKSGICKIRPPADWQPPFAVEVDNFRFTPRIQRLNELEAQTRVKLNYLDQIAKFWEIQGSSL...\n",
      "KDM5D_HUMAN\n",
      "MEPGCDEFLPPPECPVFEPSWAEFQDPLGYIAKIRPIAEKSGICKIRPPADWQPPFAVEVDNFRFTPRVQRLNELEAQTRVKLNYLDQIAKFWEIQGSSL...\n",
      "KD5BB_DANRE\n",
      "MTQQGPAEFTPPPECPVFEPSWEEFKDPFAFINKIRPIAEKTGICKVRPPPDWQPPFACDVDRLHFTPRIQRLNELEAQTRVKLNFLDQIAKFWDLQGCT...\n",
      "JHD2_YEAST\n",
      "MEEIPALYPTEQEFKNPIDYLSNPHIKRLGVRYGMVKVVPPNGFCPPLSIDMENFTFQPRIQNLENLDLKNRCRLFFMKQLNNFKRSVKDPSKLILREPY...\n",
      "JMJ14_ARATH\n",
      "MDQLASLAESVAMEEDSEKQSIKGESSLEPDSTPSSPKITARWNPSEACRPLVDDAPIFYPTNEDFDDPLGYIEKLRSKAESYGICRIVPPVAWRPPCPL...\n"
     ]
    }
   ],
   "source": [
    "##Now I need to figure out how to query domain positions\n",
    "for record in records:\n",
    "    print(record.entry_name)\n",
    "    print(record.sequence[:100] + \"...\")"
   ]
  },
  {
   "cell_type": "markdown",
   "metadata": {},
   "source": [
    "Here is a list of the 'record' attributes\n",
    "\n",
    "Attributes:\n",
    "- entry_name Name of this entry, e.g. RL1_ECOLI.\n",
    "- data_class Either 'STANDARD' or 'PRELIMINARY'.\n",
    "- molecule_type Type of molecule, 'PRT',\n",
    "- sequence_length Number of residues.\n",
    "- accessions List of the accession numbers, e.g. ['P00321']\n",
    "- created A tuple of (date, release).\n",
    "- sequence_update A tuple of (date, release).\n",
    "- annotation_update A tuple of (date, release).\n",
    "- description Free-format description.\n",
    "- gene_name Gene name. See userman.txt for description.\n",
    "- organism The source of the sequence.\n",
    "- organelle The origin of the sequence.\n",
    "- organism_classification The taxonomy classification. List of strings. (http://www.ncbi.nlm.nih.gov/Taxonomy/)\n",
    "- taxonomy_id A list of NCBI taxonomy id's.\n",
    "- host_organism A list of names of the hosts of a virus, if any.\n",
    "- host_taxonomy_id A list of NCBI taxonomy id's of the hosts, if any.\n",
    "- references List of Reference objects.\n",
    "- comments List of strings.\n",
    "- cross_references List of tuples (db, id1[, id2][, id3]). See the docs.\n",
    "- keywords List of the keywords.\n",
    "- features List of tuples (key name, from, to, description). from and to can be either integers for the residue numbers, '<', '>', or '?'\n",
    "- protein_existence Numerical value describing the evidence for the existence of the protein.\n",
    "- seqinfo tuple of (length, molecular weight, CRC32 value)\n",
    "- sequence The sequence."
   ]
  },
  {
   "cell_type": "code",
   "execution_count": 8,
   "metadata": {
    "collapsed": false
   },
   "outputs": [
    {
     "name": "stdout",
     "output_type": "stream",
     "text": [
      "KDM5A_MOUSE\n",
      "[('CHAIN', 1, 1690, 'Lysine-specific demethylase 5A.', 'PRO_0000292411'), ('DOMAIN', 19, 60, 'JmjN. {ECO:0000255|PROSITE- ProRule:PRU00537}.', ''), ('DOMAIN', 84, 174, 'ARID. {ECO:0000255|PROSITE- ProRule:PRU00355}.', ''), ('DOMAIN', 437, 603, 'JmjC. {ECO:0000255|PROSITE- ProRule:PRU00538}.', ''), ('ZN_FING', 293, 343, 'PHD-type 1. {ECO:0000255|PROSITE- ProRule:PRU00146}.', ''), ('ZN_FING', 676, 728, 'C5HC2. {ECO:0000250|UniProtKB:P29375}.', ''), ('ZN_FING', 1153, 1210, 'PHD-type 2. {ECO:0000255|PROSITE- ProRule:PRU00146}.', ''), ('ZN_FING', 1599, 1653, 'PHD-type 3. {ECO:0000255|PROSITE- ProRule:PRU00146}.', ''), ('REGION', 1622, 1690, 'Interaction with LMO2. {ECO:0000250|UniProtKB:P29375}.', ''), ('MOTIF', 419, 423, 'GSGFP motif. {ECO:0000269|PubMed:20064375}.', ''), ('COMPBIAS', 1484, 1579, 'Lys-rich.', ''), ('METAL', 483, 483, 'Iron; catalytic. {ECO:0000255|PROSITE- ProRule:PRU00538}.', ''), ('METAL', 485, 485, 'Iron; catalytic. {ECO:0000250|UniProtKB:P29375}.', ''), ('METAL', 571, 571, 'Iron; catalytic. {ECO:0000255|PROSITE- ProRule:PRU00538}.', ''), ('BINDING', 409, 409, '2-oxoglutarate. {ECO:0000250|UniProtKB:P29375}.', ''), ('BINDING', 491, 491, '2-oxoglutarate. {ECO:0000250|UniProtKB:P29375}.', ''), ('BINDING', 493, 493, '2-oxoglutarate. {ECO:0000250|UniProtKB:P29375}.', ''), ('BINDING', 501, 501, '2-oxoglutarate. {ECO:0000250|UniProtKB:P29375}.', ''), ('MOD_RES', 204, 204, 'Phosphoserine. {ECO:0000250|UniProtKB:P29375}.', ''), ('MOD_RES', 1111, 1111, 'Phosphoserine. {ECO:0000244|PubMed:19144319, ECO:0000244|PubMed:21183079}.', ''), ('MOD_RES', 1330, 1330, 'Phosphoserine. {ECO:0000250|UniProtKB:P29375}.', ''), ('MOD_RES', 1331, 1331, 'Phosphoserine. {ECO:0000250|UniProtKB:P29375}.', ''), ('MOD_RES', 1343, 1343, 'Phosphothreonine. {ECO:0000244|PubMed:21183079}.', ''), ('MOD_RES', 1345, 1345, 'Phosphoserine. {ECO:0000244|PubMed:21183079}.', ''), ('MOD_RES', 1438, 1438, 'Phosphoserine. {ECO:0000250|UniProtKB:P29375}.', ''), ('MOD_RES', 1488, 1488, 'Phosphoserine. {ECO:0000250|UniProtKB:P29375}.', ''), ('MOD_RES', 1595, 1595, 'Phosphotyrosine. {ECO:0000244|PubMed:21183079}.', ''), ('MOD_RES', 1598, 1598, 'Phosphoserine. {ECO:0000244|PubMed:21183079}.', ''), ('MOD_RES', 1603, 1603, 'Phosphoserine. {ECO:0000244|PubMed:21183079}.', ''), ('MOD_RES', 1666, 1666, 'Phosphoserine. {ECO:0000244|PubMed:21183079}.', ''), ('CROSSLNK', 191, 191, 'Glycyl lysine isopeptide (Lys-Gly) (interchain with G-Cter in SUMO2). {ECO:0000250|UniProtKB:P29375}.', ''), ('CROSSLNK', 1007, 1007, 'Glycyl lysine isopeptide (Lys-Gly) (interchain with G-Cter in SUMO2). {ECO:0000250|UniProtKB:P29375}.', ''), ('CONFLICT', 10, 10, 'A -> S (in Ref. 2; BAE38548). {ECO:0000305}.', ''), ('CONFLICT', 14, 14, 'V -> R (in Ref. 2; BAE38548). {ECO:0000305}.', ''), ('CONFLICT', 17, 17, 'P -> A (in Ref. 2; BAE38548). {ECO:0000305}.', ''), ('CONFLICT', 24, 24, 'P -> A (in Ref. 2; BAE38548). {ECO:0000305}.', ''), ('CONFLICT', 544, 544, 'V -> A (in Ref. 2; BAE38548). {ECO:0000305}.', ''), ('CONFLICT', 1272, 1272, 'A -> P (in Ref. 2; BAE22414). {ECO:0000305}.', '')]\n",
      "KDM5C_CANLF\n",
      "[('CHAIN', 1, 1556, 'Lysine-specific demethylase 5C.', 'PRO_0000292416'), ('DOMAIN', 14, 55, 'JmjN. {ECO:0000255|PROSITE- ProRule:PRU00537}.', ''), ('DOMAIN', 79, 169, 'ARID. {ECO:0000255|PROSITE- ProRule:PRU00355}.', ''), ('DOMAIN', 468, 634, 'JmjC. {ECO:0000255|PROSITE- ProRule:PRU00538}.', ''), ('ZN_FING', 324, 374, 'PHD-type 1. {ECO:0000255|PROSITE- ProRule:PRU00146}.', ''), ('ZN_FING', 1185, 1250, 'PHD-type 2. {ECO:0000255|PROSITE- ProRule:PRU00146}.', ''), ('COMPBIAS', 1454, 1458, 'Poly-Arg.', ''), ('COMPBIAS', 1491, 1498, 'Poly-Glu.', ''), ('METAL', 514, 514, 'Iron; catalytic. {ECO:0000255|PROSITE- ProRule:PRU00538}.', ''), ('METAL', 517, 517, 'Iron; catalytic. {ECO:0000255|PROSITE- ProRule:PRU00538}.', ''), ('METAL', 602, 602, 'Iron; catalytic. {ECO:0000255|PROSITE- ProRule:PRU00538}.', ''), ('MOD_RES', 287, 287, 'Phosphoserine. {ECO:0000250|UniProtKB:P41229}.', ''), ('MOD_RES', 301, 301, 'Phosphoserine. {ECO:0000250|UniProtKB:P41229}.', ''), ('MOD_RES', 317, 317, 'Phosphoserine. {ECO:0000250|UniProtKB:P41229}.', ''), ('MOD_RES', 893, 893, 'Phosphoserine. {ECO:0000250|UniProtKB:P41230}.', ''), ('MOD_RES', 897, 897, 'Phosphoserine. {ECO:0000250|UniProtKB:P41229}.', ''), ('MOD_RES', 1359, 1359, 'Phosphoserine. {ECO:0000250|UniProtKB:P41229}.', ''), ('CROSSLNK', 205, 205, 'Glycyl lysine isopeptide (Lys-Gly) (interchain with G-Cter in SUMO2). {ECO:0000250|UniProtKB:P41229}.', ''), ('CROSSLNK', 229, 229, 'Glycyl lysine isopeptide (Lys-Gly) (interchain with G-Cter in SUMO2). {ECO:0000250|UniProtKB:P41229}.', ''), ('CROSSLNK', 244, 244, 'Glycyl lysine isopeptide (Lys-Gly) (interchain with G-Cter in SUMO2). {ECO:0000250|UniProtKB:P41229}.', ''), ('CROSSLNK', 274, 274, 'Glycyl lysine isopeptide (Lys-Gly) (interchain with G-Cter in SUMO2). {ECO:0000250|UniProtKB:P41229}.', ''), ('CROSSLNK', 295, 295, 'Glycyl lysine isopeptide (Lys-Gly) (interchain with G-Cter in SUMO2). {ECO:0000250|UniProtKB:P41229}.', ''), ('CROSSLNK', 1127, 1127, 'Glycyl lysine isopeptide (Lys-Gly) (interchain with G-Cter in SUMO2). {ECO:0000250|UniProtKB:P41229}.', '')]\n",
      "KDM5D_CANLF\n",
      "[('CHAIN', 1, 1545, 'Lysine-specific demethylase 5D.', 'PRO_0000292418'), ('DOMAIN', 14, 55, 'JmjN. {ECO:0000255|PROSITE- ProRule:PRU00537}.', ''), ('DOMAIN', 79, 169, 'ARID. {ECO:0000255|PROSITE- ProRule:PRU00355}.', ''), ('DOMAIN', 461, 627, 'JmjC. {ECO:0000255|PROSITE- ProRule:PRU00538}.', ''), ('ZN_FING', 317, 367, 'PHD-type 1. {ECO:0000255|PROSITE- ProRule:PRU00146}.', ''), ('ZN_FING', 700, 752, 'C5HC2. {ECO:0000250|UniProtKB:P29375}.', ''), ('ZN_FING', 1177, 1242, 'PHD-type 2. {ECO:0000255|PROSITE- ProRule:PRU00146}.', ''), ('COMPBIAS', 1446, 1449, 'Poly-Arg.', ''), ('COMPBIAS', 1485, 1492, 'Poly-Glu.', ''), ('METAL', 507, 507, 'Iron; catalytic. {ECO:0000255|PROSITE- ProRule:PRU00538}.', ''), ('METAL', 509, 509, 'Iron; catalytic. {ECO:0000250|UniProtKB:P29375}.', ''), ('METAL', 595, 595, 'Iron; catalytic. {ECO:0000255|PROSITE- ProRule:PRU00538}.', ''), ('BINDING', 433, 433, '2-oxoglutarate. {ECO:0000250|UniProtKB:P29375}.', ''), ('BINDING', 515, 515, '2-oxoglutarate. {ECO:0000250|UniProtKB:P29375}.', ''), ('BINDING', 517, 517, '2-oxoglutarate. {ECO:0000250|UniProtKB:P29375}.', ''), ('BINDING', 525, 525, '2-oxoglutarate. {ECO:0000250|UniProtKB:P29375}.', ''), ('MOD_RES', 295, 295, 'Phosphoserine. {ECO:0000250|UniProtKB:P41229}.', ''), ('MOD_RES', 310, 310, 'Phosphoserine. {ECO:0000250|UniProtKB:P41229}.', ''), ('MOD_RES', 883, 883, 'Phosphoserine. {ECO:0000250|UniProtKB:P41230}.', ''), ('MOD_RES', 887, 887, 'Phosphoserine. {ECO:0000250|UniProtKB:P41229}.', ''), ('MOD_RES', 1350, 1350, 'Phosphoserine. {ECO:0000250|UniProtKB:P41229}.', ''), ('CROSSLNK', 229, 229, 'Glycyl lysine isopeptide (Lys-Gly) (interchain with G-Cter in SUMO2). {ECO:0000250|UniProtKB:P41229}.', ''), ('CROSSLNK', 244, 244, 'Glycyl lysine isopeptide (Lys-Gly) (interchain with G-Cter in SUMO2). {ECO:0000250|UniProtKB:P41229}.', ''), ('CROSSLNK', 274, 274, 'Glycyl lysine isopeptide (Lys-Gly) (interchain with G-Cter in SUMO2). {ECO:0000250|UniProtKB:P41229}.', '')]\n",
      "KDM5D_MOUSE\n",
      "[('CHAIN', 1, 1548, 'Lysine-specific demethylase 5D.', 'PRO_0000200589'), ('DOMAIN', 14, 55, 'JmjN. {ECO:0000255|PROSITE- ProRule:PRU00537}.', ''), ('DOMAIN', 79, 169, 'ARID. {ECO:0000255|PROSITE- ProRule:PRU00355}.', ''), ('DOMAIN', 467, 633, 'JmjC. {ECO:0000255|PROSITE- ProRule:PRU00538}.', ''), ('ZN_FING', 325, 371, 'PHD-type 1. {ECO:0000255|PROSITE- ProRule:PRU00146}.', ''), ('ZN_FING', 706, 758, 'C5HC2. {ECO:0000250|UniProtKB:P29375}.', ''), ('ZN_FING', 1182, 1243, 'PHD-type 2. {ECO:0000255|PROSITE- ProRule:PRU00146}.', ''), ('METAL', 513, 513, 'Iron; catalytic. {ECO:0000255|PROSITE- ProRule:PRU00538}.', ''), ('METAL', 515, 515, 'Iron; catalytic. {ECO:0000250|UniProtKB:P29375}.', ''), ('METAL', 601, 601, 'Iron; catalytic. {ECO:0000255|PROSITE- ProRule:PRU00538}.', ''), ('BINDING', 439, 439, '2-oxoglutarate. {ECO:0000250|UniProtKB:P29375}.', ''), ('BINDING', 521, 521, '2-oxoglutarate. {ECO:0000250|UniProtKB:P29375}.', ''), ('BINDING', 523, 523, '2-oxoglutarate. {ECO:0000250|UniProtKB:P29375}.', ''), ('BINDING', 531, 531, '2-oxoglutarate. {ECO:0000250|UniProtKB:P29375}.', ''), ('MOD_RES', 300, 300, 'Phosphoserine. {ECO:0000250|UniProtKB:P41229}.', ''), ('MOD_RES', 316, 316, 'Phosphoserine. {ECO:0000250|UniProtKB:P41229}.', ''), ('MOD_RES', 889, 889, 'Phosphoserine. {ECO:0000250|UniProtKB:P41230}.', ''), ('MOD_RES', 893, 893, 'Phosphoserine. {ECO:0000250|UniProtKB:P41229}.', ''), ('MOD_RES', 1355, 1355, 'Phosphoserine. {ECO:0000250|UniProtKB:P41229}.', ''), ('CROSSLNK', 205, 205, 'Glycyl lysine isopeptide (Lys-Gly) (interchain with G-Cter in SUMO2). {ECO:0000250|UniProtKB:P41229}.', ''), ('CROSSLNK', 229, 229, 'Glycyl lysine isopeptide (Lys-Gly) (interchain with G-Cter in SUMO2). {ECO:0000250|UniProtKB:P41229}.', ''), ('CROSSLNK', 244, 244, 'Glycyl lysine isopeptide (Lys-Gly) (interchain with G-Cter in SUMO2). {ECO:0000250|UniProtKB:P41229}.', ''), ('CROSSLNK', 279, 279, 'Glycyl lysine isopeptide (Lys-Gly) (interchain with G-Cter in SUMO2). {ECO:0000250|UniProtKB:P41229}.', ''), ('CROSSLNK', 1123, 1123, 'Glycyl lysine isopeptide (Lys-Gly) (interchain with G-Cter in SUMO2). {ECO:0000250|UniProtKB:P41229}.', ''), ('VAR_SEQ', 1, 398, 'Missing (in isoform 2). {ECO:0000303|PubMed:15489334}.', 'VSP_026412'), ('VAR_SEQ', 583, 586, 'VRTN -> SIWK (in isoform 3). {ECO:0000303|PubMed:7524912}.', 'VSP_026413'), ('VAR_SEQ', 587, 1548, 'Missing (in isoform 3). {ECO:0000303|PubMed:7524912}.', 'VSP_026414'), ('VAR_SEQ', 687, 691, 'GITEA -> LSLQA (in isoform 4). {ECO:0000303|PubMed:16141072}.', 'VSP_026415'), ('VAR_SEQ', 692, 1548, 'Missing (in isoform 4). {ECO:0000303|PubMed:16141072}.', 'VSP_026416'), ('CONFLICT', 160, 162, 'IIY -> SFT (in Ref. 4; CAA82760). {ECO:0000305}.', ''), ('CONFLICT', 167, 167, 'F -> S (in Ref. 4; CAA82760). {ECO:0000305}.', ''), ('CONFLICT', 215, 215, 'R -> K (in Ref. 4; CAA82760). {ECO:0000305}.', '')]\n",
      "KDM5B_CHICK\n",
      "[('CHAIN', 1, 1522, 'Lysine-specific demethylase 5B.', 'PRO_0000292414'), ('DOMAIN', 10, 51, 'JmjN. {ECO:0000255|PROSITE- ProRule:PRU00537}.', ''), ('DOMAIN', 75, 165, 'ARID. {ECO:0000255|PROSITE- ProRule:PRU00355}.', ''), ('DOMAIN', 428, 594, 'JmjC. {ECO:0000255|PROSITE- ProRule:PRU00538}.', ''), ('ZN_FING', 284, 334, 'PHD-type 1. {ECO:0000255|PROSITE- ProRule:PRU00146}.', ''), ('ZN_FING', 667, 719, 'C5HC2. {ECO:0000250|UniProtKB:Q9UGL1}.', ''), ('ZN_FING', 1151, 1199, 'PHD-type 2. {ECO:0000255|PROSITE- ProRule:PRU00146}.', ''), ('ZN_FING', 1462, 1516, 'PHD-type 3. {ECO:0000255|PROSITE- ProRule:PRU00146}.', ''), ('COMPBIAS', 1409, 1414, 'Poly-Lys.', ''), ('COMPBIAS', 1422, 1425, 'Poly-Ser.', ''), ('METAL', 474, 474, 'Iron; catalytic. {ECO:0000255|PROSITE- ProRule:PRU00538}.', ''), ('METAL', 476, 476, 'Iron; catalytic. {ECO:0000250|UniProtKB:P29375}.', ''), ('METAL', 562, 562, 'Iron; catalytic. {ECO:0000255|PROSITE- ProRule:PRU00538}.', ''), ('BINDING', 400, 400, '2-oxoglutarate. {ECO:0000250|UniProtKB:P29375}.', ''), ('BINDING', 482, 482, '2-oxoglutarate. {ECO:0000250|UniProtKB:P29375}.', ''), ('BINDING', 484, 484, '2-oxoglutarate. {ECO:0000250|UniProtKB:P29375}.', ''), ('BINDING', 492, 492, '2-oxoglutarate. {ECO:0000250|UniProtKB:P29375}.', '')]\n",
      "KDM5B_MOUSE\n",
      "[('CHAIN', 1, 1544, 'Lysine-specific demethylase 5B.', 'PRO_0000292413'), ('DOMAIN', 32, 73, 'JmjN. {ECO:0000255|PROSITE- ProRule:PRU00537}.', ''), ('DOMAIN', 97, 187, 'ARID. {ECO:0000255|PROSITE- ProRule:PRU00355}.', ''), ('DOMAIN', 453, 619, 'JmjC. {ECO:0000255|PROSITE- ProRule:PRU00538}.', ''), ('ZN_FING', 309, 359, 'PHD-type 1. {ECO:0000255|PROSITE- ProRule:PRU00146}.', ''), ('ZN_FING', 692, 744, 'C5HC2. {ECO:0000250|UniProtKB:Q9UGL1}.', ''), ('ZN_FING', 1176, 1224, 'PHD-type 2. {ECO:0000255|PROSITE- ProRule:PRU00146}.', ''), ('ZN_FING', 1484, 1538, 'PHD-type 3. {ECO:0000255|PROSITE- ProRule:PRU00146}.', ''), ('METAL', 499, 499, 'Iron; catalytic. {ECO:0000255|PROSITE- ProRule:PRU00538}.', ''), ('METAL', 501, 501, 'Iron; catalytic. {ECO:0000250|UniProtKB:P29375}.', ''), ('METAL', 587, 587, 'Iron; catalytic. {ECO:0000255|PROSITE- ProRule:PRU00538}.', ''), ('BINDING', 425, 425, '2-oxoglutarate. {ECO:0000250|UniProtKB:P29375}.', ''), ('BINDING', 507, 507, '2-oxoglutarate. {ECO:0000250|UniProtKB:P29375}.', ''), ('BINDING', 509, 509, '2-oxoglutarate. {ECO:0000250|UniProtKB:P29375}.', ''), ('BINDING', 517, 517, '2-oxoglutarate. {ECO:0000250|UniProtKB:P29375}.', ''), ('MOD_RES', 832, 832, 'N6-acetyllysine. {ECO:0000244|PubMed:23806337}.', ''), ('MOD_RES', 986, 986, 'Phosphoserine. {ECO:0000250|UniProtKB:Q9UGL1}.', ''), ('MOD_RES', 1328, 1328, 'Phosphoserine. {ECO:0000250|UniProtKB:Q9UGL1}.', ''), ('MOD_RES', 1456, 1456, 'Phosphoserine. {ECO:0000250|UniProtKB:Q9UGL1}.', ''), ('CROSSLNK', 148, 148, 'Glycyl lysine isopeptide (Lys-Gly) (interchain with G-Cter in SUMO2). {ECO:0000250|UniProtKB:Q9UGL1}.', ''), ('CROSSLNK', 204, 204, 'Glycyl lysine isopeptide (Lys-Gly) (interchain with G-Cter in SUMO2). {ECO:0000250|UniProtKB:Q9UGL1}.', ''), ('CROSSLNK', 209, 209, 'Glycyl lysine isopeptide (Lys-Gly) (interchain with G-Cter in SUMO2). {ECO:0000250|UniProtKB:Q9UGL1}.', ''), ('CROSSLNK', 242, 242, 'Glycyl lysine isopeptide (Lys-Gly) (interchain with G-Cter in SUMO2). {ECO:0000250|UniProtKB:Q9UGL1}.', ''), ('CROSSLNK', 274, 274, 'Glycyl lysine isopeptide (Lys-Gly) (interchain with G-Cter in SUMO2). {ECO:0000250|UniProtKB:Q9UGL1}.', ''), ('CROSSLNK', 278, 278, 'Glycyl lysine isopeptide (Lys-Gly) (interchain with G-Cter in SUMO2). {ECO:0000250|UniProtKB:Q9UGL1}.', ''), ('CROSSLNK', 769, 769, 'Glycyl lysine isopeptide (Lys-Gly) (interchain with G-Cter in SUMO2). {ECO:0000250|UniProtKB:Q9UGL1}.', ''), ('CROSSLNK', 1450, 1450, 'Glycyl lysine isopeptide (Lys-Gly) (interchain with G-Cter in SUMO2). {ECO:0000250|UniProtKB:Q9UGL1}.', ''), ('VAR_SEQ', 1501, 1544, 'DWVQCDGSCNQWFHQVCVGVSPEMAEKEDYICVRCTGKDAP SRK -> SEVWAIEDALSPNSETL (in isoform 2). {ECO:0000303|Ref.2}.', 'VSP_026409'), ('MUTAGEN', 499, 499, 'H->A: Abolishes enzymatic activity. {ECO:0000269|PubMed:17310255}.', ''), ('CONFLICT', 28, 28, 'P -> S (in Ref. 2; BAD90482). {ECO:0000305}.', ''), ('CONFLICT', 139, 139, 'E -> Q (in Ref. 4; BAC30898). {ECO:0000305}.', ''), ('CONFLICT', 761, 761, 'N -> Y (in Ref. 1; AAL92848/AAL92849). {ECO:0000305}.', ''), ('CONFLICT', 1428, 1428, 'K -> R (in Ref. 1; AAL92848/AAL92849). {ECO:0000305}.', ''), ('HELIX', 97, 114, '{ECO:0000244|PDB:2EQY}.', ''), ('STRAND', 122, 127, '{ECO:0000244|PDB:2EQY}.', ''), ('HELIX', 130, 140, '{ECO:0000244|PDB:2EQY}.', ''), ('HELIX', 143, 148, '{ECO:0000244|PDB:2EQY}.', ''), ('TURN', 149, 151, '{ECO:0000244|PDB:2EQY}.', ''), ('HELIX', 152, 158, '{ECO:0000244|PDB:2EQY}.', ''), ('STRAND', 163, 165, '{ECO:0000244|PDB:2EQY}.', ''), ('HELIX', 166, 177, '{ECO:0000244|PDB:2EQY}.', ''), ('HELIX', 179, 187, '{ECO:0000244|PDB:2EQY}.', '')]\n",
      "KDM5C_PIG\n",
      "[('CHAIN', 1, 1516, 'Lysine-specific demethylase 5C.', 'PRO_0000292417'), ('DOMAIN', 14, 55, 'JmjN. {ECO:0000255|PROSITE- ProRule:PRU00537}.', ''), ('DOMAIN', 24, 128, 'ARID. {ECO:0000255|PROSITE- ProRule:PRU00355}.', ''), ('DOMAIN', 427, 593, 'JmjC. {ECO:0000255|PROSITE- ProRule:PRU00538}.', ''), ('ZN_FING', 283, 333, 'PHD-type 1. {ECO:0000255|PROSITE- ProRule:PRU00146}.', ''), ('ZN_FING', 666, 718, 'C5HC2. {ECO:0000250|UniProtKB:P29375}.', ''), ('ZN_FING', 1144, 1209, 'PHD-type 2. {ECO:0000255|PROSITE- ProRule:PRU00146}.', ''), ('COMPBIAS', 1413, 1417, 'Poly-Arg.', ''), ('COMPBIAS', 1450, 1457, 'Poly-Glu.', ''), ('METAL', 473, 473, 'Iron; catalytic. {ECO:0000255|PROSITE- ProRule:PRU00538}.', ''), ('METAL', 475, 475, 'Iron; catalytic. {ECO:0000250|UniProtKB:P29375}.', ''), ('METAL', 561, 561, 'Iron; catalytic. {ECO:0000255|PROSITE- ProRule:PRU00538}.', ''), ('BINDING', 399, 399, '2-oxoglutarate. {ECO:0000250|UniProtKB:P29375}.', ''), ('BINDING', 481, 481, '2-oxoglutarate. {ECO:0000250|UniProtKB:P29375}.', ''), ('BINDING', 483, 483, '2-oxoglutarate. {ECO:0000250|UniProtKB:P29375}.', ''), ('BINDING', 491, 491, '2-oxoglutarate. {ECO:0000250|UniProtKB:P29375}.', ''), ('MOD_RES', 246, 246, 'Phosphoserine. {ECO:0000250|UniProtKB:P41229}.', ''), ('MOD_RES', 260, 260, 'Phosphoserine. {ECO:0000250|UniProtKB:P41229}.', ''), ('MOD_RES', 276, 276, 'Phosphoserine. {ECO:0000250|UniProtKB:P41229}.', ''), ('MOD_RES', 852, 852, 'Phosphoserine. {ECO:0000250|UniProtKB:P41230}.', ''), ('MOD_RES', 856, 856, 'Phosphoserine. {ECO:0000250|UniProtKB:P41229}.', ''), ('MOD_RES', 1318, 1318, 'Phosphoserine. {ECO:0000250|UniProtKB:P41229}.', ''), ('CROSSLNK', 164, 164, 'Glycyl lysine isopeptide (Lys-Gly) (interchain with G-Cter in SUMO2). {ECO:0000250|UniProtKB:P41229}.', ''), ('CROSSLNK', 188, 188, 'Glycyl lysine isopeptide (Lys-Gly) (interchain with G-Cter in SUMO2). {ECO:0000250|UniProtKB:P41229}.', ''), ('CROSSLNK', 203, 203, 'Glycyl lysine isopeptide (Lys-Gly) (interchain with G-Cter in SUMO2). {ECO:0000250|UniProtKB:P41229}.', ''), ('CROSSLNK', 233, 233, 'Glycyl lysine isopeptide (Lys-Gly) (interchain with G-Cter in SUMO2). {ECO:0000250|UniProtKB:P41229}.', ''), ('CROSSLNK', 254, 254, 'Glycyl lysine isopeptide (Lys-Gly) (interchain with G-Cter in SUMO2). {ECO:0000250|UniProtKB:P41229}.', ''), ('CROSSLNK', 1086, 1086, 'Glycyl lysine isopeptide (Lys-Gly) (interchain with G-Cter in SUMO2). {ECO:0000250|UniProtKB:P41229}.', '')]\n",
      "KDM5_CAEBR\n",
      "[('CHAIN', 1, 1482, 'Lysine-specific demethylase rbr-2.', 'PRO_0000292419'), ('DOMAIN', 61, 102, 'JmjN. {ECO:0000255|PROSITE- ProRule:PRU00537}.', ''), ('DOMAIN', 126, 223, 'ARID. {ECO:0000255|PROSITE- ProRule:PRU00355}.', ''), ('DOMAIN', 471, 637, 'JmjC. {ECO:0000255|PROSITE- ProRule:PRU00538}.', ''), ('ZN_FING', 322, 374, 'PHD-type 1. {ECO:0000255|PROSITE- ProRule:PRU00146}.', ''), ('ZN_FING', 1206, 1260, 'PHD-type 2. {ECO:0000255|PROSITE- ProRule:PRU00146}.', ''), ('ZN_FING', 1416, 1471, 'PHD-type 3. {ECO:0000255|PROSITE- ProRule:PRU00146}.', ''), ('COMPBIAS', 781, 784, 'Poly-Asp.', ''), ('METAL', 517, 517, 'Iron; catalytic. {ECO:0000255|PROSITE- ProRule:PRU00538}.', ''), ('METAL', 520, 520, 'Iron; catalytic. {ECO:0000255|PROSITE- ProRule:PRU00538}.', ''), ('METAL', 605, 605, 'Iron; catalytic. {ECO:0000255|PROSITE- ProRule:PRU00538}.', '')]\n",
      "KDM5_DROME\n",
      "[('CHAIN', 1, 1838, 'Lysine-specific demethylase lid.', 'PRO_0000292421'), ('DOMAIN', 161, 202, 'JmjN. {ECO:0000255|PROSITE- ProRule:PRU00537}.', ''), ('DOMAIN', 226, 316, 'ARID. {ECO:0000255|PROSITE- ProRule:PRU00355}.', ''), ('DOMAIN', 591, 757, 'JmjC. {ECO:0000255|PROSITE- ProRule:PRU00538}.', ''), ('ZN_FING', 448, 498, 'PHD-type 1. {ECO:0000255|PROSITE- ProRule:PRU00146}.', ''), ('ZN_FING', 1293, 1354, 'PHD-type 2. {ECO:0000255|PROSITE- ProRule:PRU00146}.', ''), ('ZN_FING', 1753, 1808, 'PHD-type 3. {ECO:0000255|PROSITE- ProRule:PRU00146}.', ''), ('COILED', 960, 1049, '{ECO:0000255}.', ''), ('COMPBIAS', 16, 23, 'Poly-Gly.', ''), ('COMPBIAS', 1415, 1418, 'Poly-Gln.', ''), ('COMPBIAS', 1454, 1462, 'Poly-Asp.', ''), ('COMPBIAS', 1697, 1719, 'Asn-rich.', ''), ('METAL', 637, 637, 'Iron; catalytic. {ECO:0000255|PROSITE- ProRule:PRU00538}.', ''), ('METAL', 640, 640, 'Iron; catalytic. {ECO:0000255|PROSITE- ProRule:PRU00538}.', ''), ('METAL', 725, 725, 'Iron; catalytic. {ECO:0000255|PROSITE- ProRule:PRU00538}.', ''), ('MOD_RES', 323, 323, 'Phosphothreonine. {ECO:0000269|PubMed:18327897}.', ''), ('MOD_RES', 1422, 1422, 'Phosphoserine. {ECO:0000269|PubMed:18327897}.', ''), ('MOD_RES', 1433, 1433, 'Phosphoserine. {ECO:0000269|PubMed:18327897}.', ''), ('MOD_RES', 1474, 1474, 'Phosphoserine. {ECO:0000269|PubMed:17372656}.', ''), ('MOD_RES', 1635, 1635, 'Phosphoserine. {ECO:0000269|PubMed:18327897}.', ''), ('MOD_RES', 1640, 1640, 'Phosphoserine. {ECO:0000269|PubMed:18327897}.', ''), ('MUTAGEN', 637, 637, 'H->A: Abolishes enzymatic activity; when associated with A-536. {ECO:0000269|PubMed:17311883}.', ''), ('MUTAGEN', 639, 639, 'E->A: Abolishes enzymatic activity; when associated with A-534. {ECO:0000269|PubMed:17311883}.', ''), ('STRAND', 217, 219, '{ECO:0000244|PDB:2LM1}.', ''), ('HELIX', 227, 240, '{ECO:0000244|PDB:2LM1}.', ''), ('TURN', 241, 243, '{ECO:0000244|PDB:2LM1}.', ''), ('TURN', 252, 254, '{ECO:0000244|PDB:2LM1}.', ''), ('HELIX', 259, 269, '{ECO:0000244|PDB:2LM1}.', ''), ('HELIX', 272, 278, '{ECO:0000244|PDB:2LM1}.', ''), ('HELIX', 281, 287, '{ECO:0000244|PDB:2LM1}.', ''), ('HELIX', 294, 315, '{ECO:0000244|PDB:2LM1}.', ''), ('TURN', 433, 436, '{ECO:0000244|PDB:2MIQ}.', ''), ('STRAND', 443, 446, '{ECO:0000244|PDB:2MIQ}.', ''), ('TURN', 452, 455, '{ECO:0000244|PDB:2MIQ}.', ''), ('HELIX', 460, 462, '{ECO:0000244|PDB:2MIQ}.', ''), ('STRAND', 463, 465, '{ECO:0000244|PDB:2MIQ}.', ''), ('STRAND', 472, 474, '{ECO:0000244|PDB:2MIQ}.', ''), ('TURN', 475, 477, '{ECO:0000244|PDB:2MIQ}.', ''), ('STRAND', 478, 480, '{ECO:0000244|PDB:2MIQ}.', ''), ('HELIX', 493, 496, '{ECO:0000244|PDB:2MIQ}.', '')]\n",
      "KDM5C_CRIGR\n",
      "[('CHAIN', '<1', '>180', 'Lysine-specific demethylase 5C.', 'PRO_0000200585'), ('MOD_RES', 148, 148, 'Phosphoserine. {ECO:0000250|UniProtKB:P41229}.', ''), ('NON_TER', 1, 1, '', ''), ('NON_TER', 180, 180, '', '')]\n",
      "KDM5C_HUMAN\n",
      "[('CHAIN', 1, 1560, 'Lysine-specific demethylase 5C.', 'PRO_0000200586'), ('DOMAIN', 14, 55, 'JmjN. {ECO:0000255|PROSITE- ProRule:PRU00537}.', ''), ('DOMAIN', 79, 169, 'ARID. {ECO:0000255|PROSITE- ProRule:PRU00355}.', ''), ('DOMAIN', 468, 634, 'JmjC. {ECO:0000255|PROSITE- ProRule:PRU00538}.', ''), ('ZN_FING', 326, 372, 'PHD-type 1. {ECO:0000255|PROSITE- ProRule:PRU00146}.', ''), ('ZN_FING', 707, 759, 'C5HC2. {ECO:0000269|PubMed:27214403}.', ''), ('ZN_FING', 1187, 1248, 'PHD-type 2. {ECO:0000255|PROSITE- ProRule:PRU00146}.', ''), ('METAL', 514, 514, 'Iron; catalytic. {ECO:0000305|PubMed:27214403}.', ''), ('METAL', 516, 516, 'Iron; catalytic. {ECO:0000305|PubMed:27214403}.', ''), ('METAL', 602, 602, 'Iron; catalytic. {ECO:0000305|PubMed:27214403}.', ''), ('BINDING', 440, 440, '2-oxoglutarate. {ECO:0000250|UniProtKB:P29375}.', ''), ('BINDING', 522, 522, '2-oxoglutarate. {ECO:0000250|UniProtKB:P29375}.', ''), ('BINDING', 524, 524, '2-oxoglutarate. {ECO:0000250|UniProtKB:P29375}.', ''), ('BINDING', 532, 532, '2-oxoglutarate. {ECO:0000250|UniProtKB:P29375}.', ''), ('MOD_RES', 287, 287, 'Phosphoserine. {ECO:0000244|PubMed:23186163}.', ''), ('MOD_RES', 301, 301, 'Phosphoserine. {ECO:0000244|PubMed:23186163}.', ''), ('MOD_RES', 317, 317, 'Phosphoserine. {ECO:0000244|PubMed:18669648, ECO:0000244|PubMed:23186163}.', ''), ('MOD_RES', 893, 893, 'Phosphoserine. {ECO:0000250|UniProtKB:P41230}.', ''), ('MOD_RES', 897, 897, 'Phosphoserine. {ECO:0000244|PubMed:23186163}.', ''), ('MOD_RES', 1359, 1359, 'Phosphoserine. {ECO:0000244|PubMed:16964243, ECO:0000244|PubMed:19690332, ECO:0000244|PubMed:20068231, ECO:0000244|PubMed:21406692, ECO:0000244|PubMed:23186163}.', ''), ('CROSSLNK', 205, 205, 'Glycyl lysine isopeptide (Lys-Gly) (interchain with G-Cter in SUMO2). {ECO:0000244|PubMed:28112733}.', ''), ('CROSSLNK', 229, 229, 'Glycyl lysine isopeptide (Lys-Gly) (interchain with G-Cter in SUMO2). {ECO:0000244|PubMed:28112733}.', ''), ('CROSSLNK', 244, 244, 'Glycyl lysine isopeptide (Lys-Gly) (interchain with G-Cter in SUMO2). {ECO:0000244|PubMed:28112733}.', ''), ('CROSSLNK', 274, 274, 'Glycyl lysine isopeptide (Lys-Gly) (interchain with G-Cter in SUMO2). {ECO:0000244|PubMed:28112733}.', ''), ('CROSSLNK', 295, 295, 'Glycyl lysine isopeptide (Lys-Gly) (interchain with G-Cter in SUMO2). {ECO:0000244|PubMed:28112733}.', ''), ('CROSSLNK', 1127, 1127, 'Glycyl lysine isopeptide (Lys-Gly) (interchain with G-Cter in SUMO2). {ECO:0000244|PubMed:28112733}.', ''), ('VAR_SEQ', 51, 76, 'Missing (in isoform 4). {ECO:0000303|PubMed:14702039}.', 'VSP_043752'), ('VAR_SEQ', 77, 117, 'Missing (in isoform 3 and isoform 4). {ECO:0000303|PubMed:14702039}.', 'VSP_026410'), ('VAR_SEQ', 175, 175, 'Missing (in isoform 5). {ECO:0000303|PubMed:15489334}.', 'VSP_053420'), ('VAR_SEQ', 1370, 1372, 'Missing (in isoform 2, isoform 3 and isoform 4). {ECO:0000303|PubMed:14702039}.', 'VSP_000315'), ('VAR_SEQ', 1420, 1560, 'WQLLQAGQPPDLERIRTLLELEKAERHGSRARGRALERRRR RKVDRGGEGDDPAREELEPKRVRSSGPEAEEVQEEEELEEE TGGEGPPAPIPTTGSPSTQENQNGLEPAEGTTSGPSAPFST LTPRLHLPCPQQPPQQQL -> PESLDFCILTPRYCSDLSS WGPAPGVFPPW (in isoform 4). {ECO:0000303|PubMed:14702039}.', 'VSP_043753'), ('VARIANT', 87, 87, 'D -> G (in MRXSCJ; no effect on subcellular location and enzymatic activity). {ECO:0000269|PubMed:16541399, ECO:0000269|PubMed:17468742}.', 'VAR_032986'), ('VARIANT', 388, 388, 'A -> P (in MRXSCJ; impairs enzymatic activity and binding to H3-K9Me3; dbSNP:rs199422235). {ECO:0000269|PubMed:15586325, ECO:0000269|PubMed:17320160}.', 'VAR_022730'), ('VARIANT', 402, 402, 'D -> Y (in MRXSCJ; decreases enzymatic activity). {ECO:0000269|PubMed:15586325, ECO:0000269|PubMed:17468742, ECO:0000269|PubMed:25666439}.', 'VAR_022731'), ('VARIANT', 451, 451, 'S -> R (in MRXSCJ; dbSNP:rs199422237). {ECO:0000269|PubMed:16538222}.', 'VAR_032987'), ('VARIANT', 480, 480, 'P -> L (in MRXSCJ; patient fibroblasts show decreased enzymatic activity; dbSNP:rs1057518697). {ECO:0000269|PubMed:23356856, ECO:0000269|PubMed:25666439}.', 'VAR_074308'), ('VARIANT', 640, 640, 'C -> Y (de novo mutation found in a patient with mental retardation). {ECO:0000269|PubMed:21076407}.', 'VAR_065091'), ('VARIANT', 642, 642, 'F -> L (in MRXSCJ; impairs enzymatic activity). {ECO:0000269|PubMed:16541399, ECO:0000269|PubMed:17320160}.', 'VAR_032988'), ('VARIANT', 698, 698, 'E -> K (in MRXSCJ; dbSNP:rs1057517955). {ECO:0000269|PubMed:15586325}.', 'VAR_022732'), ('VARIANT', 731, 731, 'L -> F (in MRXSCJ; impairs enzymatic activity; dbSNP:rs199422234). {ECO:0000269|PubMed:15586325, ECO:0000269|PubMed:17320160}.', 'VAR_022733'), ('VARIANT', 750, 750, 'R -> W (in MRXSCJ). {ECO:0000269|PubMed:16541399}.', 'VAR_032989'), ('VARIANT', 751, 751, 'Y -> C (in MRXSCJ; impairs enzymatic activity). {ECO:0000269|PubMed:16541399, ECO:0000269|PubMed:17320160, ECO:0000269|PubMed:17468742}.', 'VAR_032990'), ('MUTAGEN', 514, 516, 'HIE->AIA: Abolishes lysine-specific histone demethylase activity. {ECO:0000269|PubMed:28262558}.', ''), ('MUTAGEN', 514, 514, 'H->A: Abolishes lysine-specific histone demethylase activity. {ECO:0000269|PubMed:17320160, ECO:0000269|PubMed:17468742}.', ''), ('CONFLICT', 16, 16, 'V -> L (in Ref. 2; BAG65494). {ECO:0000305}.', ''), ('CONFLICT', 23, 23, 'E -> G (in Ref. 2; BAG65494). {ECO:0000305}.', ''), ('CONFLICT', 342, 342, 'C -> Y (in Ref. 6; CAA82758). {ECO:0000305}.', ''), ('CONFLICT', 1199, 1199, 'A -> R (in Ref. 1; AAA61302). {ECO:0000305}.', ''), ('CONFLICT', 1419, 1419, 'I -> T (in Ref. 2; BAG65494). {ECO:0000305}.', ''), ('HELIX', 73, 76, '{ECO:0000244|PDB:2JRZ}.', ''), ('TURN', 79, 81, '{ECO:0000244|PDB:2JRZ}.', ''), ('HELIX', 82, 94, '{ECO:0000244|PDB:2JRZ}.', ''), ('TURN', 95, 97, '{ECO:0000244|PDB:2JRZ}.', ''), ('HELIX', 112, 122, '{ECO:0000244|PDB:2JRZ}.', ''), ('HELIX', 125, 130, '{ECO:0000244|PDB:2JRZ}.', ''), ('TURN', 131, 133, '{ECO:0000244|PDB:2JRZ}.', ''), ('HELIX', 134, 140, '{ECO:0000244|PDB:2JRZ}.', ''), ('HELIX', 149, 159, '{ECO:0000244|PDB:2JRZ}.', ''), ('HELIX', 162, 172, '{ECO:0000244|PDB:2JRZ}.', ''), ('TURN', 178, 180, '{ECO:0000244|PDB:2JRZ}.', ''), ('HELIX', 181, 185, '{ECO:0000244|PDB:2JRZ}.', ''), ('HELIX', 394, 409, '{ECO:0000244|PDB:5FWJ}.', ''), ('HELIX', 418, 429, '{ECO:0000244|PDB:5FWJ}.', ''), ('STRAND', 437, 445, '{ECO:0000244|PDB:5FWJ}.', ''), ('HELIX', 446, 449, '{ECO:0000244|PDB:5FWJ}.', ''), ('HELIX', 464, 471, '{ECO:0000244|PDB:5FWJ}.', ''), ('TURN', 476, 478, '{ECO:0000244|PDB:5FWJ}.', ''), ('HELIX', 479, 481, '{ECO:0000244|PDB:5FWJ}.', ''), ('HELIX', 486, 489, '{ECO:0000244|PDB:5FWJ}.', ''), ('TURN', 495, 497, '{ECO:0000244|PDB:5FWJ}.', ''), ('STRAND', 501, 505, '{ECO:0000244|PDB:5FWJ}.', ''), ('STRAND', 510, 514, '{ECO:0000244|PDB:5FWJ}.', ''), ('HELIX', 517, 519, '{ECO:0000244|PDB:5FWJ}.', ''), ('STRAND', 521, 530, '{ECO:0000244|PDB:5FWJ}.', ''), ('STRAND', 532, 536, '{ECO:0000244|PDB:5FWJ}.', ''), ('HELIX', 539, 541, '{ECO:0000244|PDB:5FWJ}.', ''), ('HELIX', 542, 552, '{ECO:0000244|PDB:5FWJ}.', ''), ('HELIX', 573, 577, '{ECO:0000244|PDB:5FWJ}.', ''), ('TURN', 578, 580, '{ECO:0000244|PDB:5FWJ}.', ''), ('STRAND', 584, 588, '{ECO:0000244|PDB:5FWJ}.', ''), ('STRAND', 593, 596, '{ECO:0000244|PDB:5FWJ}.', ''), ('STRAND', 602, 617, '{ECO:0000244|PDB:5FWJ}.', ''), ('HELIX', 620, 622, '{ECO:0000244|PDB:5FWJ}.', ''), ('HELIX', 623, 636, '{ECO:0000244|PDB:5FWJ}.', ''), ('HELIX', 644, 652, '{ECO:0000244|PDB:5FWJ}.', ''), ('HELIX', 655, 657, '{ECO:0000244|PDB:5FWJ}.', ''), ('HELIX', 660, 687, '{ECO:0000244|PDB:5FWJ}.', ''), ('STRAND', 692, 694, '{ECO:0000244|PDB:5FWJ}.', ''), ('HELIX', 697, 699, '{ECO:0000244|PDB:5FWJ}.', ''), ('HELIX', 702, 704, '{ECO:0000244|PDB:5FWJ}.', ''), ('TURN', 708, 710, '{ECO:0000244|PDB:5FWJ}.', ''), ('STRAND', 716, 723, '{ECO:0000244|PDB:5FWJ}.', ''), ('HELIX', 731, 733, '{ECO:0000244|PDB:5FWJ}.', ''), ('HELIX', 742, 744, '{ECO:0000244|PDB:5FWJ}.', ''), ('STRAND', 745, 751, '{ECO:0000244|PDB:5FWJ}.', ''), ('HELIX', 755, 767, '{ECO:0000244|PDB:5FWJ}.', '')]\n",
      "KDM5D_PANTR\n",
      "[('CHAIN', 1, 1535, 'Lysine-specific demethylase 5D.', 'PRO_0000200590'), ('DOMAIN', 14, 55, 'JmjN. {ECO:0000255|PROSITE- ProRule:PRU00537}.', ''), ('DOMAIN', 79, 169, 'ARID. {ECO:0000255|PROSITE- ProRule:PRU00355}.', ''), ('DOMAIN', 458, 624, 'JmjC. {ECO:0000255|PROSITE- ProRule:PRU00538}.', ''), ('ZN_FING', 314, 364, 'PHD-type 1. {ECO:0000255|PROSITE- ProRule:PRU00146}.', ''), ('ZN_FING', 697, 749, 'C5HC2. {ECO:0000250|UniProtKB:P29375}.', ''), ('ZN_FING', 1174, 1235, 'PHD-type 2. {ECO:0000255|PROSITE- ProRule:PRU00146}.', ''), ('METAL', 504, 504, 'Iron; catalytic. {ECO:0000255|PROSITE- ProRule:PRU00538}.', ''), ('METAL', 506, 506, 'Iron; catalytic. {ECO:0000250|UniProtKB:P29375}.', ''), ('METAL', 592, 592, 'Iron; catalytic. {ECO:0000255|PROSITE- ProRule:PRU00538}.', ''), ('BINDING', 430, 430, '2-oxoglutarate. {ECO:0000250|UniProtKB:P29375}.', ''), ('BINDING', 512, 512, '2-oxoglutarate. {ECO:0000250|UniProtKB:P29375}.', ''), ('BINDING', 514, 514, '2-oxoglutarate. {ECO:0000250|UniProtKB:P29375}.', ''), ('BINDING', 522, 522, '2-oxoglutarate. {ECO:0000250|UniProtKB:P29375}.', ''), ('MOD_RES', 291, 291, 'Phosphoserine. {ECO:0000250|UniProtKB:P41229}.', ''), ('MOD_RES', 307, 307, 'Phosphoserine. {ECO:0000250|UniProtKB:P41229}.', ''), ('MOD_RES', 884, 884, 'Phosphoserine. {ECO:0000250|UniProtKB:P41229}.', ''), ('MOD_RES', 1342, 1342, 'Phosphoserine. {ECO:0000250|UniProtKB:P41229}.', ''), ('CROSSLNK', 205, 205, 'Glycyl lysine isopeptide (Lys-Gly) (interchain with G-Cter in SUMO2). {ECO:0000250|UniProtKB:P41229}.', ''), ('CROSSLNK', 229, 229, 'Glycyl lysine isopeptide (Lys-Gly) (interchain with G-Cter in SUMO2). {ECO:0000250|UniProtKB:P41229}.', ''), ('CROSSLNK', 244, 244, 'Glycyl lysine isopeptide (Lys-Gly) (interchain with G-Cter in SUMO2). {ECO:0000250|UniProtKB:P41229}.', ''), ('CROSSLNK', 272, 272, 'Glycyl lysine isopeptide (Lys-Gly) (interchain with G-Cter in SUMO2). {ECO:0000250|UniProtKB:P41229}.', '')]\n",
      "KDM5_CAEEL\n",
      "[('CHAIN', 1, 1477, 'Lysine-specific demethylase rbr-2.', 'PRO_0000292420'), ('DOMAIN', 56, 97, 'JmjN. {ECO:0000255|PROSITE- ProRule:PRU00537}.', ''), ('DOMAIN', 121, 218, 'ARID. {ECO:0000255|PROSITE- ProRule:PRU00355}.', ''), ('DOMAIN', 468, 634, 'JmjC. {ECO:0000255|PROSITE- ProRule:PRU00538}.', ''), ('ZN_FING', 319, 371, 'PHD-type 1. {ECO:0000255|PROSITE- ProRule:PRU00146}.', ''), ('ZN_FING', 1203, 1257, 'PHD-type 2. {ECO:0000255|PROSITE- ProRule:PRU00146}.', ''), ('ZN_FING', 1411, 1466, 'PHD-type 3. {ECO:0000255|PROSITE- ProRule:PRU00146}.', ''), ('COILED', 874, 926, '{ECO:0000255}.', ''), ('COMPBIAS', 309, 315, 'Poly-Asp.', ''), ('METAL', 514, 514, 'Iron; catalytic. {ECO:0000255|PROSITE- ProRule:PRU00538}.', ''), ('METAL', 517, 517, 'Iron; catalytic. {ECO:0000255|PROSITE- ProRule:PRU00538}.', ''), ('METAL', 602, 602, 'Iron; catalytic. {ECO:0000255|PROSITE- ProRule:PRU00538}.', '')]\n",
      "KDM5A_HUMAN\n",
      "[('CHAIN', 1, 1690, 'Lysine-specific demethylase 5A.', 'PRO_0000200584'), ('DOMAIN', 19, 60, 'JmjN. {ECO:0000255|PROSITE- ProRule:PRU00537}.', ''), ('DOMAIN', 84, 174, 'ARID. {ECO:0000255|PROSITE- ProRule:PRU00355}.', ''), ('DOMAIN', 437, 603, 'JmjC. {ECO:0000255|PROSITE- ProRule:PRU00538}.', ''), ('ZN_FING', 293, 343, 'PHD-type 1. {ECO:0000255|PROSITE- ProRule:PRU00146}.', ''), ('ZN_FING', 676, 728, 'C5HC2. {ECO:0000244|PDB:5CEH, ECO:0000269|PubMed:27214401, ECO:0000269|PubMed:27499454}.', ''), ('ZN_FING', 1161, 1218, 'PHD-type 2. {ECO:0000255|PROSITE- ProRule:PRU00146}.', ''), ('ZN_FING', 1607, 1661, 'PHD-type 3. {ECO:0000269|PubMed:19430464}.', ''), ('REGION', 1623, 1690, 'Interaction with LMO2. {ECO:0000269|PubMed:9129143}.', ''), ('MOTIF', 419, 423, 'GSGFP motif. {ECO:0000250|UniProtKB:Q3UXZ9}.', ''), ('COMPBIAS', 1492, 1587, 'Lys-rich.', ''), ('METAL', 483, 483, 'Iron; catalytic. {ECO:0000255|PROSITE- ProRule:PRU00538, ECO:0000305|PubMed:26645689, ECO:0000305|PubMed:27214401, ECO:0000305|PubMed:27427228, ECO:0000305|PubMed:27499454}.', ''), ('METAL', 485, 485, 'Iron; catalytic. {ECO:0000305|PubMed:26645689, ECO:0000305|PubMed:27214401, ECO:0000305|PubMed:27427228, ECO:0000305|PubMed:27499454}.', ''), ('METAL', 571, 571, 'Iron; catalytic. {ECO:0000255|PROSITE- ProRule:PRU00538, ECO:0000305|PubMed:26645689, ECO:0000305|PubMed:27214401, ECO:0000305|PubMed:27427228, ECO:0000305|PubMed:27499454}.', ''), ('BINDING', 409, 409, '2-oxoglutarate. {ECO:0000269|PubMed:26645689, ECO:0000269|PubMed:27427228}.', ''), ('BINDING', 491, 491, '2-oxoglutarate. {ECO:0000269|PubMed:26645689, ECO:0000269|PubMed:27427228}.', ''), ('BINDING', 493, 493, '2-oxoglutarate. {ECO:0000269|PubMed:26645689, ECO:0000269|PubMed:27427228}.', ''), ('BINDING', 501, 501, '2-oxoglutarate. {ECO:0000269|PubMed:26645689, ECO:0000269|PubMed:27427228}.', ''), ('MOD_RES', 204, 204, 'Phosphoserine. {ECO:0000244|PubMed:23186163}.', ''), ('MOD_RES', 1111, 1111, 'Phosphoserine. {ECO:0000244|PubMed:18669648, ECO:0000244|PubMed:19690332, ECO:0000244|PubMed:20068231, ECO:0000244|PubMed:24275569}.', ''), ('MOD_RES', 1330, 1330, 'Phosphoserine. {ECO:0000244|PubMed:23186163}.', ''), ('MOD_RES', 1331, 1331, 'Phosphoserine. {ECO:0000244|PubMed:18669648}.', ''), ('MOD_RES', 1343, 1343, 'Phosphothreonine. {ECO:0000250|UniProtKB:Q3UXZ9}.', ''), ('MOD_RES', 1345, 1345, 'Phosphoserine. {ECO:0000250|UniProtKB:Q3UXZ9}.', ''), ('MOD_RES', 1438, 1438, 'Phosphoserine. {ECO:0000244|PubMed:23186163}.', ''), ('MOD_RES', 1488, 1488, 'Phosphoserine. {ECO:0000244|PubMed:23186163}.', ''), ('MOD_RES', 1595, 1595, 'Phosphotyrosine. {ECO:0000250|UniProtKB:Q3UXZ9}.', ''), ('MOD_RES', 1598, 1598, 'Phosphoserine. {ECO:0000244|PubMed:17081983}.', ''), ('MOD_RES', 1603, 1603, 'Phosphoserine. {ECO:0000244|PubMed:17081983}.', ''), ('MOD_RES', 1666, 1666, 'Phosphoserine. {ECO:0000244|PubMed:23186163}.', ''), ('CROSSLNK', 191, 191, 'Glycyl lysine isopeptide (Lys-Gly) (interchain with G-Cter in SUMO2). {ECO:0000244|PubMed:28112733}.', ''), ('CROSSLNK', 1007, 1007, 'Glycyl lysine isopeptide (Lys-Gly) (interchain with G-Cter in SUMO2). {ECO:0000244|PubMed:28112733}.', ''), ('VAR_SEQ', 1623, 1690, 'VDWVQCDGGCDEWFHQVCVGVSPEMAENEDYICINCAKKQG PVSPGPAPPPSFIMSYKLPMEDLKETS -> GVVFVTEEER DKKY (in isoform 2). {ECO:0000303|PubMed:8414517}.', 'VSP_035746'), ('VARIANT', 865, 865, 'M -> T (in dbSNP:rs11062385).', 'VAR_032984'), ('VARIANT', 1190, 1190, 'P -> A (in dbSNP:rs2229353).', 'VAR_032985'), ('MUTAGEN', 112, 112, 'R->E: Decreases DNA-binding. {ECO:0000269|PubMed:18270511}.', ''), ('MUTAGEN', 152, 152, 'K->E: Abolishes DNA-binding. {ECO:0000269|PubMed:18270511}.', ''), ('MUTAGEN', 156, 156, 'S->D: Decreases DNA-binding. {ECO:0000269|PubMed:18270511}.', ''), ('MUTAGEN', 157, 157, 'L->E: Decreases DNA-binding. {ECO:0000269|PubMed:18270511}.', ''), ('MUTAGEN', 626, 626, 'C->S: No effect on lysine-specific histone demethylase activity; when associated with S-636. {ECO:0000269|PubMed:27427228}.', ''), ('MUTAGEN', 636, 636, 'C->S: No effect on lysine-specific histone demethylase activity; when associated with S-626. {ECO:0000269|PubMed:27427228}.', ''), ('MUTAGEN', 1609, 1609, \"V->G: No effect on interaction with histone H3 di- and trimethylated at 'Lys- 4'. {ECO:0000269|PubMed:19430464}.\", ''), ('MUTAGEN', 1625, 1625, \"W->A: Abolishes interaction with histone H3 di- and trimethylated at 'Lys-4'. {ECO:0000269|PubMed:19430464}.\", ''), ('MUTAGEN', 1634, 1635, \"EW->AA: Abolishes interaction with histone H3 di- and trimethylated at 'Lys- 4'. {ECO:0000269|PubMed:19430464}.\", ''), ('CONFLICT', 1411, 1411, 'Q -> QVFFGK (in Ref. 1; AAB28544). {ECO:0000305}.', ''), ('CONFLICT', 1547, 1547, 'E -> K (in Ref. 1; AAB28544). {ECO:0000305}.', ''), ('CONFLICT', 1612, 1614, 'AQN -> EPD (in Ref. 1; AAB28544). {ECO:0000305}.', ''), ('HELIX', 28, 30, '{ECO:0000244|PDB:6BGY}.', ''), ('HELIX', 32, 43, '{ECO:0000244|PDB:6BGY}.', ''), ('TURN', 44, 46, '{ECO:0000244|PDB:6BGY}.', ''), ('STRAND', 47, 51, '{ECO:0000244|PDB:6BGY}.', ''), ('TURN', 65, 67, '{ECO:0000244|PDB:6BGY}.', ''), ('STRAND', 73, 76, '{ECO:0000244|PDB:6BGY}.', ''), ('TURN', 77, 82, '{ECO:0000244|PDB:6BGY}.', ''), ('HELIX', 85, 100, '{ECO:0000244|PDB:5V9P}.', ''), ('HELIX', 117, 126, '{ECO:0000244|PDB:5V9P}.', ''), ('HELIX', 130, 136, '{ECO:0000244|PDB:5V9P}.', ''), ('HELIX', 139, 145, '{ECO:0000244|PDB:5V9P}.', ''), ('HELIX', 154, 173, '{ECO:0000244|PDB:5V9P}.', ''), ('STRAND', 174, 176, '{ECO:0000244|PDB:5V9P}.', ''), ('HELIX', 198, 201, '{ECO:0000244|PDB:5V9T}.', ''), ('TURN', 350, 353, '{ECO:0000244|PDB:5IVC}.', ''), ('HELIX', 363, 378, '{ECO:0000244|PDB:6BGY}.', ''), ('HELIX', 382, 384, '{ECO:0000244|PDB:6BGY}.', ''), ('HELIX', 387, 399, '{ECO:0000244|PDB:6BGY}.', ''), ('STRAND', 401, 403, '{ECO:0000244|PDB:5E6H}.', ''), ('STRAND', 406, 414, '{ECO:0000244|PDB:6BGY}.', ''), ('HELIX', 415, 418, '{ECO:0000244|PDB:6BGY}.', ''), ('STRAND', 426, 429, '{ECO:0000244|PDB:6BGY}.', ''), ('HELIX', 433, 435, '{ECO:0000244|PDB:6BGY}.', ''), ('HELIX', 436, 440, '{ECO:0000244|PDB:6BGY}.', ''), ('HELIX', 445, 447, '{ECO:0000244|PDB:6BGY}.', ''), ('HELIX', 448, 450, '{ECO:0000244|PDB:5V9P}.', ''), ('HELIX', 455, 459, '{ECO:0000244|PDB:6BGY}.', ''), ('STRAND', 465, 468, '{ECO:0000244|PDB:5V9T}.', ''), ('STRAND', 470, 474, '{ECO:0000244|PDB:6BGY}.', ''), ('STRAND', 479, 483, '{ECO:0000244|PDB:6BGY}.', ''), ('HELIX', 486, 488, '{ECO:0000244|PDB:6BGY}.', ''), ('STRAND', 490, 499, '{ECO:0000244|PDB:6BGY}.', ''), ('STRAND', 501, 506, '{ECO:0000244|PDB:6BGY}.', ''), ('HELIX', 508, 510, '{ECO:0000244|PDB:6BGY}.', ''), ('HELIX', 511, 521, '{ECO:0000244|PDB:6BGY}.', ''), ('HELIX', 524, 526, '{ECO:0000244|PDB:6BGY}.', ''), ('HELIX', 531, 534, '{ECO:0000244|PDB:6BGY}.', ''), ('TURN', 535, 537, '{ECO:0000244|PDB:6BGV}.', ''), ('HELIX', 542, 547, '{ECO:0000244|PDB:6BGY}.', ''), ('STRAND', 553, 557, '{ECO:0000244|PDB:6BGY}.', ''), ('STRAND', 562, 565, '{ECO:0000244|PDB:6BGY}.', ''), ('STRAND', 570, 586, '{ECO:0000244|PDB:6BGY}.', ''), ('HELIX', 589, 591, '{ECO:0000244|PDB:5V9P}.', ''), ('HELIX', 592, 604, '{ECO:0000244|PDB:5V9P}.', ''), ('HELIX', 613, 621, '{ECO:0000244|PDB:5V9P}.', ''), ('HELIX', 629, 655, '{ECO:0000244|PDB:5V9P}.', ''), ('STRAND', 661, 663, '{ECO:0000244|PDB:5K4L}.', ''), ('HELIX', 666, 668, '{ECO:0000244|PDB:5V9P}.', ''), ('HELIX', 671, 673, '{ECO:0000244|PDB:5V9P}.', ''), ('STRAND', 674, 676, '{ECO:0000244|PDB:5V9T}.', ''), ('STRAND', 685, 688, '{ECO:0000244|PDB:5V9P}.', ''), ('STRAND', 691, 693, '{ECO:0000244|PDB:5V9P}.', ''), ('HELIX', 703, 705, '{ECO:0000244|PDB:5CEH}.', ''), ('STRAND', 711, 713, '{ECO:0000244|PDB:5CEH}.', ''), ('STRAND', 716, 720, '{ECO:0000244|PDB:5V9P}.', ''), ('HELIX', 724, 743, '{ECO:0000244|PDB:5V9P}.', ''), ('HELIX', 766, 772, '{ECO:0000244|PDB:5V9P}.', ''), ('TURN', 780, 784, '{ECO:0000244|PDB:5V9P}.', ''), ('STRAND', 1620, 1627, '{ECO:0000244|PDB:3GL6}.', ''), ('STRAND', 1629, 1632, '{ECO:0000244|PDB:3GL6}.', ''), ('STRAND', 1635, 1637, '{ECO:0000244|PDB:3GL6}.', ''), ('HELIX', 1639, 1641, '{ECO:0000244|PDB:3GL6}.', ''), ('HELIX', 1645, 1650, '{ECO:0000244|PDB:3GL6}.', ''), ('TURN', 1656, 1658, '{ECO:0000244|PDB:3GL6}.', '')]\n",
      "KDM5B_HUMAN\n",
      "[('CHAIN', 1, 1544, 'Lysine-specific demethylase 5B.', 'PRO_0000292412'), ('DOMAIN', 32, 73, 'JmjN. {ECO:0000255|PROSITE- ProRule:PRU00537}.', ''), ('DOMAIN', 97, 187, 'ARID. {ECO:0000255|PROSITE- ProRule:PRU00355}.', ''), ('DOMAIN', 453, 619, 'JmjC. {ECO:0000255|PROSITE- ProRule:PRU00538}.', ''), ('ZN_FING', 309, 359, 'PHD-type 1. {ECO:0000244|PDB:2MNY, ECO:0000269|PubMed:24952722}.', ''), ('ZN_FING', 692, 744, 'C5HC2. {ECO:0000269|PubMed:26741168, ECO:0000269|PubMed:27214403, ECO:0000269|PubMed:28262558}.', ''), ('ZN_FING', 1176, 1224, 'PHD-type 2. {ECO:0000255|PROSITE- ProRule:PRU00146}.', ''), ('ZN_FING', 1484, 1538, 'PHD-type 3. {ECO:0000244|PDB:2MA5}.', ''), ('COMPBIAS', 1434, 1439, 'Poly-Lys.', ''), ('METAL', 499, 499, 'Iron; catalytic. {ECO:0000305|PubMed:26741168, ECO:0000305|PubMed:27214403, ECO:0000305|PubMed:28262558}.', ''), ('METAL', 501, 501, 'Iron; catalytic. {ECO:0000305|PubMed:26741168, ECO:0000305|PubMed:27214403, ECO:0000305|PubMed:28262558}.', ''), ('METAL', 587, 587, 'Iron; catalytic. {ECO:0000305|PubMed:26741168, ECO:0000305|PubMed:27214403, ECO:0000305|PubMed:28262558}.', ''), ('BINDING', 425, 425, '2-oxoglutarate. {ECO:0000250|UniProtKB:P29375}.', ''), ('BINDING', 507, 507, '2-oxoglutarate. {ECO:0000250|UniProtKB:P29375}.', ''), ('BINDING', 509, 509, '2-oxoglutarate. {ECO:0000250|UniProtKB:P29375}.', ''), ('BINDING', 517, 517, '2-oxoglutarate. {ECO:0000250|UniProtKB:P29375}.', ''), ('MOD_RES', 832, 832, 'N6-acetyllysine. {ECO:0000250|UniProtKB:Q80Y84}.', ''), ('MOD_RES', 986, 986, 'Phosphoserine. {ECO:0000244|PubMed:23186163}.', ''), ('MOD_RES', 1328, 1328, 'Phosphoserine. {ECO:0000244|PubMed:23186163}.', ''), ('MOD_RES', 1456, 1456, 'Phosphoserine. {ECO:0000244|PubMed:23186163}.', ''), ('CROSSLNK', 148, 148, 'Glycyl lysine isopeptide (Lys-Gly) (interchain with G-Cter in SUMO2). {ECO:0000244|PubMed:28112733}.', ''), ('CROSSLNK', 204, 204, 'Glycyl lysine isopeptide (Lys-Gly) (interchain with G-Cter in SUMO2). {ECO:0000244|PubMed:28112733}.', ''), ('CROSSLNK', 209, 209, 'Glycyl lysine isopeptide (Lys-Gly) (interchain with G-Cter in SUMO2). {ECO:0000244|PubMed:28112733}.', ''), ('CROSSLNK', 242, 242, 'Glycyl lysine isopeptide (Lys-Gly) (interchain with G-Cter in SUMO2). {ECO:0000244|PubMed:25218447, ECO:0000244|PubMed:25755297, ECO:0000244|PubMed:28112733}.', ''), ('CROSSLNK', 274, 274, 'Glycyl lysine isopeptide (Lys-Gly) (interchain with G-Cter in SUMO2). {ECO:0000244|PubMed:28112733}.', ''), ('CROSSLNK', 278, 278, 'Glycyl lysine isopeptide (Lys-Gly) (interchain with G-Cter in SUMO2). {ECO:0000244|PubMed:25218447, ECO:0000244|PubMed:25755297, ECO:0000244|PubMed:28112733}.', ''), ('CROSSLNK', 769, 769, 'Glycyl lysine isopeptide (Lys-Gly) (interchain with G-Cter in SUMO2). {ECO:0000244|PubMed:25755297, ECO:0000244|PubMed:28112733}.', ''), ('CROSSLNK', 1450, 1450, 'Glycyl lysine isopeptide (Lys-Gly) (interchain with G-Cter in SUMO2). {ECO:0000244|PubMed:28112733}.', ''), ('VAR_SEQ', 237, 237, 'E -> ERQSLAVLPRLECSGAILAHCNLRLLDSSNSSASAS Q (in isoform 2). {ECO:0000303|PubMed:10616211}.', 'VSP_026408'), ('MUTAGEN', 308, 308, 'D->A: Slightly decreases interaction with histone H3. Decreases by 21% demethylase activity and repression of tumor suppressor genes expression. {ECO:0000269|PubMed:24952722}.', ''), ('MUTAGEN', 309, 309, 'L->A: No effect on interaction with histone H3. {ECO:0000269|PubMed:24952722}.', ''), ('MUTAGEN', 310, 310, 'Y->A: Slightly decreases interaction with histone H3. {ECO:0000269|PubMed:24952722}.', ''), ('MUTAGEN', 310, 310, 'Y->F: No effect on interaction with histone H3. {ECO:0000269|PubMed:24952722}.', ''), ('MUTAGEN', 311, 311, 'V->A: No effect on interaction with histone H3. {ECO:0000269|PubMed:24952722}.', ''), ('MUTAGEN', 321, 321, 'E->A: Decreases interaction with histone H3. {ECO:0000269|PubMed:24952722}.', ''), ('MUTAGEN', 322, 322, 'D->A: No effect on interaction with histone H3. {ECO:0000269|PubMed:24952722}.', ''), ('MUTAGEN', 324, 324, 'L->A: No effect on interaction with histone H3. {ECO:0000269|PubMed:24952722}.', ''), ('MUTAGEN', 325, 325, 'L->A: Abolishes interaction with histone H3. Decreases by 44% demethylase activity and repression of tumor suppressor genes expression; when associated with A-328. {ECO:0000269|PubMed:24952722}.', ''), ('MUTAGEN', 326, 326, 'L->A: No effect on interaction with histone H3. {ECO:0000269|PubMed:24952722}.', ''), ('MUTAGEN', 328, 328, 'D->A: Almost abolishes interaction with histone H3. Decreases by 44% demethylase activity and repression of tumor suppressor genes expression; when associated with A-325. {ECO:0000269|PubMed:24952722}.', ''), ('MUTAGEN', 332, 332, 'D->A: No effect on interaction with histone H3. {ECO:0000269|PubMed:24952722}.', ''), ('MUTAGEN', 333, 333, 'S->A: No effect on interaction with histone H3. {ECO:0000269|PubMed:24952722}.', ''), ('MUTAGEN', 334, 334, 'Y->A: No effect on interaction with histone H3. {ECO:0000269|PubMed:24952722}.', ''), ('MUTAGEN', 335, 335, 'H->A: Slightly impairs transcription repression ability. {ECO:0000269|PubMed:17373667}.', ''), ('MUTAGEN', 345, 345, 'D->A: No effect on interaction with histone H3. {ECO:0000269|PubMed:24952722}.', ''), ('MUTAGEN', 351, 351, 'W->A: Abolishes interaction with histone H3. Decreases by 28% demethylase activity and repression of tumor suppressor genes expression. {ECO:0000269|PubMed:24952722}.', ''), ('MUTAGEN', 499, 501, 'HIE->AIA: Abolishes lysine-specific histone demethylase activity. {ECO:0000269|PubMed:28262558}.', ''), ('MUTAGEN', 499, 499, 'H->Y: Abolishes lysine-specific histone demethylase activity. {ECO:0000269|PubMed:17363312}.', ''), ('MUTAGEN', 1200, 1200, 'H->A: Impairs transcription repression ability and interaction with HDAC4. {ECO:0000269|PubMed:17373667}.', ''), ('CONFLICT', 78, 78, 'V -> G (in Ref. 3; CAB63108). {ECO:0000305}.', ''), ('CONFLICT', 585, 589, 'AYHSG -> VPQW (in Ref. 2; AAD16061). {ECO:0000305}.', ''), ('CONFLICT', 708, 708, 'C -> W (in Ref. 2; AAD16061). {ECO:0000305}.', ''), ('CONFLICT', 759, 759, 'A -> P (in Ref. 2; AAD16061). {ECO:0000305}.', ''), ('CONFLICT', 771, 771, 'N -> T (in Ref. 2; AAD16061 and 3; CAB63108). {ECO:0000305}.', ''), ('CONFLICT', 1182, 1182, 'Q -> R (in Ref. 2; AAD16061). {ECO:0000305}.', ''), ('CONFLICT', 1293, 1293, 'A -> P (in Ref. 2; AAD16061). {ECO:0000305}.', ''), ('CONFLICT', 1307, 1307, 'P -> L (in Ref. 2; AAD16061). {ECO:0000305}.', ''), ('CONFLICT', 1331, 1331, 'S -> ST (in Ref. 2; AAD16061). {ECO:0000305}.', ''), ('HELIX', 39, 42, '{ECO:0000244|PDB:5FYZ}.', ''), ('HELIX', 45, 56, '{ECO:0000244|PDB:5FYZ}.', ''), ('TURN', 57, 59, '{ECO:0000244|PDB:5FYZ}.', ''), ('STRAND', 60, 64, '{ECO:0000244|PDB:5FYZ}.', ''), ('TURN', 78, 80, '{ECO:0000244|PDB:5FYZ}.', ''), ('STRAND', 86, 89, '{ECO:0000244|PDB:5FYZ}.', ''), ('STRAND', 96, 98, '{ECO:0000244|PDB:5FYS}.', ''), ('STRAND', 308, 310, '{ECO:0000244|PDB:2MNY}.', ''), ('STRAND', 313, 315, '{ECO:0000244|PDB:2MNZ}.', ''), ('HELIX', 319, 323, '{ECO:0000244|PDB:2MNY}.', ''), ('STRAND', 324, 326, '{ECO:0000244|PDB:2MNY}.', ''), ('STRAND', 328, 331, '{ECO:0000244|PDB:2MNY}.', ''), ('STRAND', 333, 335, '{ECO:0000244|PDB:2MNY}.', ''), ('TURN', 336, 339, '{ECO:0000244|PDB:2MNY}.', ''), ('TURN', 358, 360, '{ECO:0000244|PDB:6EK6}.', ''), ('STRAND', 363, 366, '{ECO:0000244|PDB:6EK6}.', ''), ('HELIX', 379, 394, '{ECO:0000244|PDB:5FYZ}.', ''), ('HELIX', 398, 400, '{ECO:0000244|PDB:5FYZ}.', ''), ('HELIX', 403, 415, '{ECO:0000244|PDB:5FYZ}.', ''), ('STRAND', 422, 429, '{ECO:0000244|PDB:5FYZ}.', ''), ('STRAND', 432, 434, '{ECO:0000244|PDB:5FYT}.', ''), ('STRAND', 443, 445, '{ECO:0000244|PDB:5A3N}.', ''), ('HELIX', 449, 454, '{ECO:0000244|PDB:5FYZ}.', ''), ('STRAND', 458, 460, '{ECO:0000244|PDB:5FZ7}.', ''), ('TURN', 461, 466, '{ECO:0000244|PDB:5FYZ}.', ''), ('STRAND', 467, 469, '{ECO:0000244|PDB:5A3P}.', ''), ('HELIX', 472, 474, '{ECO:0000244|PDB:5FYZ}.', ''), ('HELIX', 480, 483, '{ECO:0000244|PDB:5FYZ}.', ''), ('STRAND', 486, 490, '{ECO:0000244|PDB:5FYZ}.', ''), ('STRAND', 495, 499, '{ECO:0000244|PDB:5FYZ}.', ''), ('HELIX', 502, 504, '{ECO:0000244|PDB:5FYZ}.', ''), ('STRAND', 506, 515, '{ECO:0000244|PDB:5FYZ}.', ''), ('STRAND', 517, 521, '{ECO:0000244|PDB:5FYZ}.', ''), ('HELIX', 524, 526, '{ECO:0000244|PDB:5FYZ}.', ''), ('HELIX', 527, 537, '{ECO:0000244|PDB:5FYZ}.', ''), ('HELIX', 539, 542, '{ECO:0000244|PDB:5FYZ}.', ''), ('HELIX', 548, 550, '{ECO:0000244|PDB:5FYZ}.', ''), ('STRAND', 552, 554, '{ECO:0000244|PDB:5FZG}.', ''), ('HELIX', 558, 563, '{ECO:0000244|PDB:5FYZ}.', ''), ('STRAND', 569, 573, '{ECO:0000244|PDB:5FYZ}.', ''), ('STRAND', 578, 581, '{ECO:0000244|PDB:5FYZ}.', ''), ('STRAND', 587, 602, '{ECO:0000244|PDB:5FYZ}.', ''), ('HELIX', 605, 607, '{ECO:0000244|PDB:5FYZ}.', ''), ('HELIX', 608, 621, '{ECO:0000244|PDB:5FYZ}.', ''), ('HELIX', 629, 637, '{ECO:0000244|PDB:5FYZ}.', ''), ('HELIX', 638, 642, '{ECO:0000244|PDB:5FYZ}.', ''), ('HELIX', 645, 671, '{ECO:0000244|PDB:5FYZ}.', ''), ('STRAND', 676, 679, '{ECO:0000244|PDB:5FYZ}.', ''), ('HELIX', 682, 684, '{ECO:0000244|PDB:5FYZ}.', ''), ('HELIX', 687, 689, '{ECO:0000244|PDB:5FYZ}.', ''), ('STRAND', 690, 692, '{ECO:0000244|PDB:5FYZ}.', ''), ('TURN', 693, 695, '{ECO:0000244|PDB:5FYZ}.', ''), ('STRAND', 701, 706, '{ECO:0000244|PDB:5FYZ}.', ''), ('HELIX', 719, 721, '{ECO:0000244|PDB:5FYZ}.', ''), ('HELIX', 727, 729, '{ECO:0000244|PDB:5FYZ}.', ''), ('STRAND', 730, 735, '{ECO:0000244|PDB:5FYZ}.', ''), ('HELIX', 738, 752, '{ECO:0000244|PDB:5FYZ}.', ''), ('STRAND', 1495, 1500, '{ECO:0000244|PDB:2MA5}.', ''), ('STRAND', 1502, 1505, '{ECO:0000244|PDB:2MA5}.', ''), ('TURN', 1506, 1509, '{ECO:0000244|PDB:2MA5}.', ''), ('STRAND', 1511, 1514, '{ECO:0000244|PDB:2MA5}.', ''), ('HELIX', 1515, 1518, '{ECO:0000244|PDB:2MA5}.', ''), ('HELIX', 1522, 1526, '{ECO:0000244|PDB:2MA5}.', ''), ('HELIX', 1533, 1537, '{ECO:0000244|PDB:2MA5}.', '')]\n",
      "KDM5C_MOUSE\n",
      "[('CHAIN', 1, 1554, 'Lysine-specific demethylase 5C.', 'PRO_0000200587'), ('DOMAIN', 14, 55, 'JmjN. {ECO:0000255|PROSITE- ProRule:PRU00537}.', ''), ('DOMAIN', 79, 169, 'ARID. {ECO:0000255|PROSITE- ProRule:PRU00355}.', ''), ('DOMAIN', 468, 634, 'JmjC. {ECO:0000255|PROSITE- ProRule:PRU00538}.', ''), ('ZN_FING', 326, 372, 'PHD-type 1. {ECO:0000255|PROSITE- ProRule:PRU00146}.', ''), ('ZN_FING', 1187, 1248, 'PHD-type 2. {ECO:0000255|PROSITE- ProRule:PRU00146}.', ''), ('METAL', 514, 514, 'Iron; catalytic. {ECO:0000255|PROSITE- ProRule:PRU00538}.', ''), ('METAL', 517, 517, 'Iron; catalytic. {ECO:0000255|PROSITE- ProRule:PRU00538}.', ''), ('METAL', 602, 602, 'Iron; catalytic. {ECO:0000255|PROSITE- ProRule:PRU00538}.', ''), ('MOD_RES', 287, 287, 'Phosphoserine. {ECO:0000250|UniProtKB:P41229}.', ''), ('MOD_RES', 301, 301, 'Phosphoserine. {ECO:0000250|UniProtKB:P41229}.', ''), ('MOD_RES', 317, 317, 'Phosphoserine. {ECO:0000244|PubMed:21183079}.', ''), ('MOD_RES', 893, 893, 'Phosphoserine. {ECO:0000244|PubMed:21183079}.', ''), ('MOD_RES', 897, 897, 'Phosphoserine. {ECO:0000250|UniProtKB:P41229}.', ''), ('MOD_RES', 1353, 1353, 'Phosphoserine. {ECO:0000250|UniProtKB:P41229}.', ''), ('CROSSLNK', 205, 205, 'Glycyl lysine isopeptide (Lys-Gly) (interchain with G-Cter in SUMO2). {ECO:0000250|UniProtKB:P41229}.', ''), ('CROSSLNK', 229, 229, 'Glycyl lysine isopeptide (Lys-Gly) (interchain with G-Cter in SUMO2). {ECO:0000250|UniProtKB:P41229}.', ''), ('CROSSLNK', 244, 244, 'Glycyl lysine isopeptide (Lys-Gly) (interchain with G-Cter in SUMO2). {ECO:0000250|UniProtKB:P41229}.', ''), ('CROSSLNK', 274, 274, 'Glycyl lysine isopeptide (Lys-Gly) (interchain with G-Cter in SUMO2). {ECO:0000250|UniProtKB:P41229}.', ''), ('CROSSLNK', 295, 295, 'Glycyl lysine isopeptide (Lys-Gly) (interchain with G-Cter in SUMO2). {ECO:0000250|UniProtKB:P41229}.', ''), ('CROSSLNK', 1127, 1127, 'Glycyl lysine isopeptide (Lys-Gly) (interchain with G-Cter in SUMO2). {ECO:0000250|UniProtKB:P41229}.', ''), ('VAR_SEQ', 77, 117, 'Missing (in isoform 3). {ECO:0000303|PubMed:15489334}.', 'VSP_026411'), ('VAR_SEQ', 1364, 1366, 'Missing (in isoform 2 and isoform 3). {ECO:0000303|PubMed:10441747, ECO:0000303|PubMed:15489334, ECO:0000303|PubMed:16141072}.', 'VSP_000316'), ('CONFLICT', 3, 3, 'L -> M (in Ref. 7; AAB96762). {ECO:0000305}.', ''), ('CONFLICT', 26, 26, 'D -> G (in Ref. 7; AAB96762). {ECO:0000305}.', ''), ('CONFLICT', 123, 123, 'G -> S (in Ref. 2; BAE33161/BAE33260). {ECO:0000305}.', ''), ('CONFLICT', 249, 249, 'G -> D (in Ref. 2; BAE34464). {ECO:0000305}.', ''), ('CONFLICT', 726, 726, 'D -> N (in Ref. 5; BAC97906). {ECO:0000305}.', ''), ('CONFLICT', 865, 865, 'C -> L (in Ref. 1; AAD53049 and 4; CAA82759). {ECO:0000305}.', ''), ('CONFLICT', 1068, 1068, 'L -> P (in Ref. 4; CAA82759). {ECO:0000305}.', ''), ('CONFLICT', 1126, 1126, 'Y -> C (in Ref. 2; BAE33367). {ECO:0000305}.', '')]\n",
      "KDM5D_HUMAN\n",
      "[('CHAIN', 1, 1539, 'Lysine-specific demethylase 5D.', 'PRO_0000200588'), ('DOMAIN', 14, 55, 'JmjN. {ECO:0000255|PROSITE- ProRule:PRU00537}.', ''), ('DOMAIN', 79, 169, 'ARID. {ECO:0000255|PROSITE- ProRule:PRU00355}.', ''), ('DOMAIN', 458, 624, 'JmjC. {ECO:0000255|PROSITE- ProRule:PRU00538}.', ''), ('ZN_FING', 316, 362, 'PHD-type 1. {ECO:0000255|PROSITE- ProRule:PRU00146}.', ''), ('ZN_FING', 697, 749, 'C5HC2. {ECO:0000250|UniProtKB:P29375}.', ''), ('ZN_FING', 1174, 1235, 'PHD-type 2. {ECO:0000255|PROSITE- ProRule:PRU00146}.', ''), ('METAL', 504, 504, 'Iron; catalytic. {ECO:0000255|PROSITE- ProRule:PRU00538}.', ''), ('METAL', 506, 506, 'Iron; catalytic. {ECO:0000250|UniProtKB:P29375}.', ''), ('METAL', 592, 592, 'Iron; catalytic. {ECO:0000255|PROSITE- ProRule:PRU00538}.', ''), ('BINDING', 430, 430, '2-oxoglutarate. {ECO:0000250|UniProtKB:P29375}.', ''), ('BINDING', 512, 512, '2-oxoglutarate. {ECO:0000250|UniProtKB:P29375}.', ''), ('BINDING', 514, 514, '2-oxoglutarate. {ECO:0000250|UniProtKB:P29375}.', ''), ('BINDING', 522, 522, '2-oxoglutarate. {ECO:0000250|UniProtKB:P29375}.', ''), ('MOD_RES', 291, 291, 'Phosphoserine. {ECO:0000250|UniProtKB:P41229}.', ''), ('MOD_RES', 307, 307, 'Phosphoserine. {ECO:0000250|UniProtKB:P41229}.', ''), ('MOD_RES', 884, 884, 'Phosphoserine. {ECO:0000250|UniProtKB:P41229}.', ''), ('MOD_RES', 1346, 1346, 'Phosphoserine. {ECO:0000250|UniProtKB:P41229}.', ''), ('CROSSLNK', 205, 205, 'Glycyl lysine isopeptide (Lys-Gly) (interchain with G-Cter in SUMO2). {ECO:0000250|UniProtKB:P41229}.', ''), ('CROSSLNK', 229, 229, 'Glycyl lysine isopeptide (Lys-Gly) (interchain with G-Cter in SUMO2). {ECO:0000250|UniProtKB:P41229}.', ''), ('CROSSLNK', 244, 244, 'Glycyl lysine isopeptide (Lys-Gly) (interchain with G-Cter in SUMO2). {ECO:0000250|UniProtKB:P41229}.', ''), ('CROSSLNK', 272, 272, 'Glycyl lysine isopeptide (Lys-Gly) (interchain with G-Cter in SUMO2). {ECO:0000250|UniProtKB:P41229}.', ''), ('VAR_SEQ', 118, 174, 'Missing (in isoform 2). {ECO:0000303|PubMed:15489334, ECO:0000303|PubMed:9039502}.', 'VSP_000317'), ('VAR_SEQ', 457, 457, 'K -> KRQSLTVLTRLISSFWAQAVLPPWPPKVLGLQ (in isoform 3). {ECO:0000303|PubMed:15489334}.', 'VSP_043320'), ('VARIANT', 1186, 1186, 'V -> L (in dbSNP:rs1050807). {ECO:0000269|PubMed:8841177}.', 'VAR_032991'), ('MUTAGEN', 534, 534, 'H->A: Abolishes enzymatic activity; when associated with A-536. {ECO:0000269|PubMed:17320162}.', ''), ('MUTAGEN', 536, 536, 'E->A: Abolishes enzymatic activity; when associated with A-534. {ECO:0000269|PubMed:17320162}.', ''), ('CONFLICT', 327, 327, 'D -> N (in Ref. 1; AAC50806 and 8; AAC51135). {ECO:0000305}.', ''), ('CONFLICT', 1285, 1285, 'S -> F (in Ref. 1; AAC50806). {ECO:0000305}.', ''), ('CONFLICT', 1352, 1352, 'P -> L (in Ref. 9; AAK27839). {ECO:0000305}.', ''), ('CONFLICT', 1391, 1391, 'D -> G (in Ref. 1; AAC50806). {ECO:0000305}.', ''), ('HELIX', 81, 96, '{ECO:0000244|PDB:2YQE}.', ''), ('STRAND', 106, 109, '{ECO:0000244|PDB:2YQE}.', ''), ('HELIX', 112, 122, '{ECO:0000244|PDB:2YQE}.', ''), ('HELIX', 125, 130, '{ECO:0000244|PDB:2YQE}.', ''), ('TURN', 131, 133, '{ECO:0000244|PDB:2YQE}.', ''), ('HELIX', 134, 140, '{ECO:0000244|PDB:2YQE}.', ''), ('HELIX', 149, 159, '{ECO:0000244|PDB:2YQE}.', ''), ('HELIX', 161, 167, '{ECO:0000244|PDB:2YQE}.', ''), ('STRAND', 318, 320, '{ECO:0000244|PDB:2E6R}.', ''), ('HELIX', 324, 328, '{ECO:0000244|PDB:2E6R}.', ''), ('TURN', 333, 335, '{ECO:0000244|PDB:2E6R}.', ''), ('STRAND', 341, 346, '{ECO:0000244|PDB:2E6R}.', ''), ('HELIX', 359, 366, '{ECO:0000244|PDB:2E6R}.', '')]\n",
      "KD5BB_DANRE\n",
      "[('CHAIN', 1, 1503, 'Lysine-specific demethylase 5B-B.', 'PRO_0000292415'), ('DOMAIN', 15, 56, 'JmjN. {ECO:0000255|PROSITE- ProRule:PRU00537}.', ''), ('DOMAIN', 80, 170, 'ARID. {ECO:0000255|PROSITE- ProRule:PRU00355}.', ''), ('DOMAIN', 439, 605, 'JmjC. {ECO:0000255|PROSITE- ProRule:PRU00538}.', ''), ('ZN_FING', 295, 345, 'PHD-type 1. {ECO:0000255|PROSITE- ProRule:PRU00146}.', ''), ('ZN_FING', 1168, 1216, 'PHD-type 2. {ECO:0000255|PROSITE- ProRule:PRU00146}.', ''), ('ZN_FING', 1444, 1497, 'PHD-type 3. {ECO:0000255|PROSITE- ProRule:PRU00146}.', ''), ('COMPBIAS', 286, 289, 'Poly-Pro.', ''), ('COMPBIAS', 1092, 1095, 'Poly-Lys.', ''), ('METAL', 485, 485, 'Iron; catalytic. {ECO:0000255|PROSITE- ProRule:PRU00538}.', ''), ('METAL', 488, 488, 'Iron; catalytic. {ECO:0000255|PROSITE- ProRule:PRU00538}.', ''), ('METAL', 573, 573, 'Iron; catalytic. {ECO:0000255|PROSITE- ProRule:PRU00538}.', ''), ('VAR_SEQ', 175, 175, 'L -> LAPEFAVKLTGFGEPPVLEE (in isoform 2). {ECO:0000305}.', 'VSP_035555'), ('CONFLICT', 1284, 1284, 'Y -> H (in Ref. 2; AAH71280). {ECO:0000305}.', ''), ('CONFLICT', 1293, 1293, 'L -> Q (in Ref. 2; AAH71280). {ECO:0000305}.', '')]\n",
      "JHD2_YEAST\n",
      "[('CHAIN', 1, 728, 'Histone demethylase JHD2.', 'PRO_0000203116'), ('DOMAIN', 4, 47, 'JmjN. {ECO:0000255|PROSITE- ProRule:PRU00537}.', ''), ('DOMAIN', 381, 549, 'JmjC. {ECO:0000255|PROSITE- ProRule:PRU00538}.', ''), ('ZN_FING', 235, 285, 'PHD-type. {ECO:0000255|PROSITE- ProRule:PRU00146}.', ''), ('METAL', 427, 427, 'Iron; catalytic. {ECO:0000305}.', ''), ('METAL', 430, 430, 'Iron; catalytic. {ECO:0000255|PROSITE- ProRule:PRU00538}.', ''), ('METAL', 517, 517, 'Iron; catalytic. {ECO:0000255|PROSITE- ProRule:PRU00538}.', ''), ('MUTAGEN', 427, 427, 'H->A: Abolishes enzymatic activity. {ECO:0000269|PubMed:17310255}.', '')]\n",
      "JMJ14_ARATH\n",
      "[('CHAIN', 1, 954, 'Probable lysine-specific demethylase JMJ14.', 'PRO_0000412633'), ('DOMAIN', 56, 97, 'JmjN. {ECO:0000255|PROSITE- ProRule:PRU00537}.', ''), ('DOMAIN', 263, 429, 'JmjC. {ECO:0000255|PROSITE- ProRule:PRU00538}.', ''), ('DOMAIN', 726, 784, 'FYR N-terminal. {ECO:0000255|PROSITE- ProRule:PRU00875}.', ''), ('DOMAIN', 786, 876, 'FYR C-terminal. {ECO:0000255|PROSITE- ProRule:PRU00876}.', ''), ('METAL', 309, 309, 'Iron; catalytic. {ECO:0000255|PROSITE- ProRule:PRU00538}.', ''), ('METAL', 311, 311, 'Iron; catalytic. {ECO:0000255|PROSITE- ProRule:PRU00538}.', ''), ('METAL', 397, 397, 'Iron; catalytic. {ECO:0000255|PROSITE- ProRule:PRU00538}.', ''), ('VAR_SEQ', 1, 64, 'MDQLASLAESVAMEEDSEKQSIKGESSLEPDSTPSSPKITA RWNPSEACRPLVDDAPIFYPTNE -> MILLHGQ (in isoform 2). {ECO:0000305}.', 'VSP_041728'), ('MUTAGEN', 387, 387, 'E->K: In jmj14-3; loss of transgenic photobleaching phenotype due to RNA silencing. {ECO:0000269|PubMed:20478993}.', ''), ('MUTAGEN', 397, 397, 'H->A: Loss of demethylation activity. {ECO:0000269|PubMed:20177424}.', ''), ('HELIX', 45, 47, '{ECO:0000244|PDB:5YKN}.', ''), ('HELIX', 63, 66, '{ECO:0000244|PDB:5YKN}.', ''), ('HELIX', 69, 80, '{ECO:0000244|PDB:5YKN}.', ''), ('TURN', 81, 83, '{ECO:0000244|PDB:5YKN}.', ''), ('STRAND', 84, 88, '{ECO:0000244|PDB:5YKN}.', ''), ('HELIX', 99, 101, '{ECO:0000244|PDB:5YKN}.', ''), ('HELIX', 103, 106, '{ECO:0000244|PDB:5YKN}.', ''), ('STRAND', 114, 117, '{ECO:0000244|PDB:5YKN}.', ''), ('HELIX', 118, 120, '{ECO:0000244|PDB:5YKN}.', ''), ('HELIX', 179, 194, '{ECO:0000244|PDB:5YKN}.', ''), ('HELIX', 214, 226, '{ECO:0000244|PDB:5YKN}.', ''), ('STRAND', 233, 241, '{ECO:0000244|PDB:5YKN}.', ''), ('HELIX', 242, 245, '{ECO:0000244|PDB:5YKN}.', ''), ('HELIX', 260, 266, '{ECO:0000244|PDB:5YKN}.', ''), ('HELIX', 271, 274, '{ECO:0000244|PDB:5YKN}.', ''), ('HELIX', 281, 284, '{ECO:0000244|PDB:5YKN}.', ''), ('TURN', 291, 293, '{ECO:0000244|PDB:5YKN}.', ''), ('STRAND', 296, 300, '{ECO:0000244|PDB:5YKN}.', ''), ('STRAND', 305, 309, '{ECO:0000244|PDB:5YKN}.', ''), ('HELIX', 312, 314, '{ECO:0000244|PDB:5YKN}.', ''), ('STRAND', 316, 325, '{ECO:0000244|PDB:5YKN}.', ''), ('STRAND', 327, 331, '{ECO:0000244|PDB:5YKN}.', ''), ('HELIX', 334, 336, '{ECO:0000244|PDB:5YKN}.', ''), ('HELIX', 337, 347, '{ECO:0000244|PDB:5YKN}.', ''), ('STRAND', 351, 354, '{ECO:0000244|PDB:5YKN}.', ''), ('TURN', 359, 361, '{ECO:0000244|PDB:5YKN}.', ''), ('HELIX', 368, 373, '{ECO:0000244|PDB:5YKN}.', ''), ('STRAND', 379, 383, '{ECO:0000244|PDB:5YKN}.', ''), ('STRAND', 388, 391, '{ECO:0000244|PDB:5YKN}.', ''), ('STRAND', 397, 412, '{ECO:0000244|PDB:5YKN}.', ''), ('HELIX', 415, 417, '{ECO:0000244|PDB:5YKN}.', ''), ('HELIX', 418, 431, '{ECO:0000244|PDB:5YKN}.', ''), ('HELIX', 439, 458, '{ECO:0000244|PDB:5YKN}.', ''), ('HELIX', 465, 471, '{ECO:0000244|PDB:5YKN}.', ''), ('STRAND', 475, 477, '{ECO:0000244|PDB:5YKN}.', ''), ('HELIX', 479, 497, '{ECO:0000244|PDB:5YKN}.', ''), ('STRAND', 504, 506, '{ECO:0000244|PDB:5YKN}.', ''), ('HELIX', 509, 511, '{ECO:0000244|PDB:5YKO}.', ''), ('STRAND', 512, 515, '{ECO:0000244|PDB:5YKO}.', ''), ('TURN', 520, 522, '{ECO:0000244|PDB:5YKN}.', ''), ('STRAND', 527, 536, '{ECO:0000244|PDB:5YKN}.', ''), ('HELIX', 543, 545, '{ECO:0000244|PDB:5YKN}.', ''), ('TURN', 554, 556, '{ECO:0000244|PDB:5YKN}.', ''), ('STRAND', 557, 563, '{ECO:0000244|PDB:5YKN}.', ''), ('HELIX', 565, 575, '{ECO:0000244|PDB:5YKN}.', ''), ('HELIX', 579, 586, '{ECO:0000244|PDB:5YKN}.', '')]\n"
     ]
    }
   ],
   "source": [
    "for record in records:\n",
    "    print(record.entry_name)\n",
    "    print(record.features)"
   ]
  },
  {
   "cell_type": "code",
   "execution_count": 9,
   "metadata": {
    "collapsed": false
   },
   "outputs": [
    {
     "name": "stdout",
     "output_type": "stream",
     "text": [
      "[('CHAIN', 1, 1690, 'Lysine-specific demethylase 5A.', 'PRO_0000292411'), ('DOMAIN', 19, 60, 'JmjN. {ECO:0000255|PROSITE- ProRule:PRU00537}.', ''), ('DOMAIN', 84, 174, 'ARID. {ECO:0000255|PROSITE- ProRule:PRU00355}.', ''), ('DOMAIN', 437, 603, 'JmjC. {ECO:0000255|PROSITE- ProRule:PRU00538}.', ''), ('ZN_FING', 293, 343, 'PHD-type 1. {ECO:0000255|PROSITE- ProRule:PRU00146}.', ''), ('ZN_FING', 676, 728, 'C5HC2. {ECO:0000250|UniProtKB:P29375}.', ''), ('ZN_FING', 1153, 1210, 'PHD-type 2. {ECO:0000255|PROSITE- ProRule:PRU00146}.', ''), ('ZN_FING', 1599, 1653, 'PHD-type 3. {ECO:0000255|PROSITE- ProRule:PRU00146}.', ''), ('REGION', 1622, 1690, 'Interaction with LMO2. {ECO:0000250|UniProtKB:P29375}.', ''), ('MOTIF', 419, 423, 'GSGFP motif. {ECO:0000269|PubMed:20064375}.', ''), ('COMPBIAS', 1484, 1579, 'Lys-rich.', ''), ('METAL', 483, 483, 'Iron; catalytic. {ECO:0000255|PROSITE- ProRule:PRU00538}.', ''), ('METAL', 485, 485, 'Iron; catalytic. {ECO:0000250|UniProtKB:P29375}.', ''), ('METAL', 571, 571, 'Iron; catalytic. {ECO:0000255|PROSITE- ProRule:PRU00538}.', ''), ('BINDING', 409, 409, '2-oxoglutarate. {ECO:0000250|UniProtKB:P29375}.', ''), ('BINDING', 491, 491, '2-oxoglutarate. {ECO:0000250|UniProtKB:P29375}.', ''), ('BINDING', 493, 493, '2-oxoglutarate. {ECO:0000250|UniProtKB:P29375}.', ''), ('BINDING', 501, 501, '2-oxoglutarate. {ECO:0000250|UniProtKB:P29375}.', ''), ('MOD_RES', 204, 204, 'Phosphoserine. {ECO:0000250|UniProtKB:P29375}.', ''), ('MOD_RES', 1111, 1111, 'Phosphoserine. {ECO:0000244|PubMed:19144319, ECO:0000244|PubMed:21183079}.', ''), ('MOD_RES', 1330, 1330, 'Phosphoserine. {ECO:0000250|UniProtKB:P29375}.', ''), ('MOD_RES', 1331, 1331, 'Phosphoserine. {ECO:0000250|UniProtKB:P29375}.', ''), ('MOD_RES', 1343, 1343, 'Phosphothreonine. {ECO:0000244|PubMed:21183079}.', ''), ('MOD_RES', 1345, 1345, 'Phosphoserine. {ECO:0000244|PubMed:21183079}.', ''), ('MOD_RES', 1438, 1438, 'Phosphoserine. {ECO:0000250|UniProtKB:P29375}.', ''), ('MOD_RES', 1488, 1488, 'Phosphoserine. {ECO:0000250|UniProtKB:P29375}.', ''), ('MOD_RES', 1595, 1595, 'Phosphotyrosine. {ECO:0000244|PubMed:21183079}.', ''), ('MOD_RES', 1598, 1598, 'Phosphoserine. {ECO:0000244|PubMed:21183079}.', ''), ('MOD_RES', 1603, 1603, 'Phosphoserine. {ECO:0000244|PubMed:21183079}.', ''), ('MOD_RES', 1666, 1666, 'Phosphoserine. {ECO:0000244|PubMed:21183079}.', ''), ('CROSSLNK', 191, 191, 'Glycyl lysine isopeptide (Lys-Gly) (interchain with G-Cter in SUMO2). {ECO:0000250|UniProtKB:P29375}.', ''), ('CROSSLNK', 1007, 1007, 'Glycyl lysine isopeptide (Lys-Gly) (interchain with G-Cter in SUMO2). {ECO:0000250|UniProtKB:P29375}.', ''), ('CONFLICT', 10, 10, 'A -> S (in Ref. 2; BAE38548). {ECO:0000305}.', ''), ('CONFLICT', 14, 14, 'V -> R (in Ref. 2; BAE38548). {ECO:0000305}.', ''), ('CONFLICT', 17, 17, 'P -> A (in Ref. 2; BAE38548). {ECO:0000305}.', ''), ('CONFLICT', 24, 24, 'P -> A (in Ref. 2; BAE38548). {ECO:0000305}.', ''), ('CONFLICT', 544, 544, 'V -> A (in Ref. 2; BAE38548). {ECO:0000305}.', ''), ('CONFLICT', 1272, 1272, 'A -> P (in Ref. 2; BAE22414). {ECO:0000305}.', '')]\n"
     ]
    }
   ],
   "source": [
    "    print(records[0].features)"
   ]
  },
  {
   "cell_type": "code",
   "execution_count": 10,
   "metadata": {
    "collapsed": false
   },
   "outputs": [
    {
     "ename": "AttributeError",
     "evalue": "'Record' object has no attribute 'annotations'",
     "output_type": "error",
     "traceback": [
      "\u001b[0;31m---------------------------------------------------------------------------\u001b[0m",
      "\u001b[0;31mAttributeError\u001b[0m                            Traceback (most recent call last)",
      "\u001b[0;32m<ipython-input-10-45a2c368bce9>\u001b[0m in \u001b[0;36m<module>\u001b[0;34m()\u001b[0m\n\u001b[0;32m----> 1\u001b[0;31m \u001b[1;32mprint\u001b[0m\u001b[1;33m(\u001b[0m\u001b[0mrecords\u001b[0m\u001b[1;33m[\u001b[0m\u001b[1;36m0\u001b[0m\u001b[1;33m]\u001b[0m\u001b[1;33m.\u001b[0m\u001b[0mannotations\u001b[0m\u001b[1;33m)\u001b[0m\u001b[1;33m\u001b[0m\u001b[0m\n\u001b[0m",
      "\u001b[0;31mAttributeError\u001b[0m: 'Record' object has no attribute 'annotations'"
     ]
    }
   ],
   "source": [
    "print(records[0].annotations)"
   ]
  },
  {
   "cell_type": "code",
   "execution_count": 21,
   "metadata": {
    "collapsed": false
   },
   "outputs": [],
   "source": [
    "#Convert record to SeqRecord\n",
    "from Bio import SeqIO\n",
    "seq_records= SeqIO.parse(records, \"swiss\")"
   ]
  },
  {
   "cell_type": "code",
   "execution_count": 27,
   "metadata": {
    "collapsed": false
   },
   "outputs": [
    {
     "ename": "ValueError",
     "evalue": "Unknown keyword '<B' found",
     "output_type": "error",
     "traceback": [
      "\u001b[0;31m---------------------------------------------------------------------------\u001b[0m",
      "\u001b[0;31mValueError\u001b[0m                                Traceback (most recent call last)",
      "\u001b[0;32m<ipython-input-27-042f9b6cdf0d>\u001b[0m in \u001b[0;36m<module>\u001b[0;34m()\u001b[0m\n\u001b[1;32m      1\u001b[0m \u001b[1;31m#from Bio import SeqIO\u001b[0m\u001b[1;33m\u001b[0m\u001b[1;33m\u001b[0m\u001b[0m\n\u001b[0;32m----> 2\u001b[0;31m \u001b[0mseq_records\u001b[0m \u001b[1;33m=\u001b[0m \u001b[0mlist\u001b[0m\u001b[1;33m(\u001b[0m\u001b[0mSeqIO\u001b[0m\u001b[1;33m.\u001b[0m\u001b[0mparse\u001b[0m\u001b[1;33m(\u001b[0m\u001b[0mrecords\u001b[0m\u001b[1;33m,\u001b[0m \u001b[1;34m\"swiss\"\u001b[0m\u001b[1;33m)\u001b[0m\u001b[1;33m)\u001b[0m\u001b[1;33m\u001b[0m\u001b[0m\n\u001b[0m\u001b[1;32m      3\u001b[0m \u001b[1;33m\u001b[0m\u001b[0m\n\u001b[1;32m      4\u001b[0m \u001b[1;32mprint\u001b[0m\u001b[1;33m(\u001b[0m\u001b[1;34m\"Found %i records\"\u001b[0m \u001b[1;33m%\u001b[0m \u001b[0mlen\u001b[0m\u001b[1;33m(\u001b[0m\u001b[0mseq_records\u001b[0m\u001b[1;33m)\u001b[0m\u001b[1;33m)\u001b[0m\u001b[1;33m\u001b[0m\u001b[0m\n",
      "\u001b[0;32mC:\\Users\\David Brown\\Anaconda2\\lib\\site-packages\\Bio\\SeqIO\\__init__.pyc\u001b[0m in \u001b[0;36mparse\u001b[0;34m(handle, format, alphabet)\u001b[0m\n\u001b[1;32m    635\u001b[0m             \u001b[1;32mraise\u001b[0m \u001b[0mValueError\u001b[0m\u001b[1;33m(\u001b[0m\u001b[1;34m\"Unknown format '%s'\"\u001b[0m \u001b[1;33m%\u001b[0m \u001b[0mformat\u001b[0m\u001b[1;33m)\u001b[0m\u001b[1;33m\u001b[0m\u001b[0m\n\u001b[1;32m    636\u001b[0m         \u001b[1;31m# This imposes some overhead... wait until we drop Python 2.4 to fix it\u001b[0m\u001b[1;33m\u001b[0m\u001b[1;33m\u001b[0m\u001b[0m\n\u001b[0;32m--> 637\u001b[0;31m         \u001b[1;32mfor\u001b[0m \u001b[0mr\u001b[0m \u001b[1;32min\u001b[0m \u001b[0mi\u001b[0m\u001b[1;33m:\u001b[0m\u001b[1;33m\u001b[0m\u001b[0m\n\u001b[0m\u001b[1;32m    638\u001b[0m             \u001b[1;32myield\u001b[0m \u001b[0mr\u001b[0m\u001b[1;33m\u001b[0m\u001b[0m\n\u001b[1;32m    639\u001b[0m \u001b[1;33m\u001b[0m\u001b[0m\n",
      "\u001b[0;32mC:\\Users\\David Brown\\Anaconda2\\lib\\site-packages\\Bio\\SeqIO\\SwissIO.pyc\u001b[0m in \u001b[0;36mSwissIterator\u001b[0;34m(handle)\u001b[0m\n\u001b[1;32m     83\u001b[0m     \"\"\"\n\u001b[1;32m     84\u001b[0m     \u001b[0mswiss_records\u001b[0m \u001b[1;33m=\u001b[0m \u001b[0mSwissProt\u001b[0m\u001b[1;33m.\u001b[0m\u001b[0mparse\u001b[0m\u001b[1;33m(\u001b[0m\u001b[0mhandle\u001b[0m\u001b[1;33m)\u001b[0m\u001b[1;33m\u001b[0m\u001b[0m\n\u001b[0;32m---> 85\u001b[0;31m     \u001b[1;32mfor\u001b[0m \u001b[0mswiss_record\u001b[0m \u001b[1;32min\u001b[0m \u001b[0mswiss_records\u001b[0m\u001b[1;33m:\u001b[0m\u001b[1;33m\u001b[0m\u001b[0m\n\u001b[0m\u001b[1;32m     86\u001b[0m         \u001b[1;31m# Convert the SwissProt record to a SeqRecord\u001b[0m\u001b[1;33m\u001b[0m\u001b[1;33m\u001b[0m\u001b[0m\n\u001b[1;32m     87\u001b[0m         \u001b[0mseq\u001b[0m \u001b[1;33m=\u001b[0m \u001b[0mSeq\u001b[0m\u001b[1;33m.\u001b[0m\u001b[0mSeq\u001b[0m\u001b[1;33m(\u001b[0m\u001b[0mswiss_record\u001b[0m\u001b[1;33m.\u001b[0m\u001b[0msequence\u001b[0m\u001b[1;33m,\u001b[0m \u001b[0mAlphabet\u001b[0m\u001b[1;33m.\u001b[0m\u001b[0mgeneric_protein\u001b[0m\u001b[1;33m)\u001b[0m\u001b[1;33m\u001b[0m\u001b[0m\n",
      "\u001b[0;32mC:\\Users\\David Brown\\Anaconda2\\lib\\site-packages\\Bio\\SwissProt\\__init__.pyc\u001b[0m in \u001b[0;36mparse\u001b[0;34m(handle)\u001b[0m\n\u001b[1;32m    138\u001b[0m \u001b[1;32mdef\u001b[0m \u001b[0mparse\u001b[0m\u001b[1;33m(\u001b[0m\u001b[0mhandle\u001b[0m\u001b[1;33m)\u001b[0m\u001b[1;33m:\u001b[0m\u001b[1;33m\u001b[0m\u001b[0m\n\u001b[1;32m    139\u001b[0m     \u001b[1;32mwhile\u001b[0m \u001b[0mTrue\u001b[0m\u001b[1;33m:\u001b[0m\u001b[1;33m\u001b[0m\u001b[0m\n\u001b[0;32m--> 140\u001b[0;31m         \u001b[0mrecord\u001b[0m \u001b[1;33m=\u001b[0m \u001b[0m_read\u001b[0m\u001b[1;33m(\u001b[0m\u001b[0mhandle\u001b[0m\u001b[1;33m)\u001b[0m\u001b[1;33m\u001b[0m\u001b[0m\n\u001b[0m\u001b[1;32m    141\u001b[0m         \u001b[1;32mif\u001b[0m \u001b[1;32mnot\u001b[0m \u001b[0mrecord\u001b[0m\u001b[1;33m:\u001b[0m\u001b[1;33m\u001b[0m\u001b[0m\n\u001b[1;32m    142\u001b[0m             \u001b[1;32mreturn\u001b[0m\u001b[1;33m\u001b[0m\u001b[0m\n",
      "\u001b[0;32mC:\\Users\\David Brown\\Anaconda2\\lib\\site-packages\\Bio\\SwissProt\\__init__.pyc\u001b[0m in \u001b[0;36m_read\u001b[0;34m(handle)\u001b[0m\n\u001b[1;32m    271\u001b[0m             \u001b[1;32mreturn\u001b[0m \u001b[0mrecord\u001b[0m\u001b[1;33m\u001b[0m\u001b[0m\n\u001b[1;32m    272\u001b[0m         \u001b[1;32melse\u001b[0m\u001b[1;33m:\u001b[0m\u001b[1;33m\u001b[0m\u001b[0m\n\u001b[0;32m--> 273\u001b[0;31m             \u001b[1;32mraise\u001b[0m \u001b[0mValueError\u001b[0m\u001b[1;33m(\u001b[0m\u001b[1;34m\"Unknown keyword '%s' found\"\u001b[0m \u001b[1;33m%\u001b[0m \u001b[0mkey\u001b[0m\u001b[1;33m)\u001b[0m\u001b[1;33m\u001b[0m\u001b[0m\n\u001b[0m\u001b[1;32m    274\u001b[0m     \u001b[1;32mif\u001b[0m \u001b[0mrecord\u001b[0m\u001b[1;33m:\u001b[0m\u001b[1;33m\u001b[0m\u001b[0m\n\u001b[1;32m    275\u001b[0m         \u001b[1;32mraise\u001b[0m \u001b[0mValueError\u001b[0m\u001b[1;33m(\u001b[0m\u001b[1;34m\"Unexpected end of stream.\"\u001b[0m\u001b[1;33m)\u001b[0m\u001b[1;33m\u001b[0m\u001b[0m\n",
      "\u001b[0;31mValueError\u001b[0m: Unknown keyword '<B' found"
     ]
    }
   ],
   "source": [
    "#from Bio import SeqIO\n",
    "seq_records = list(SeqIO.parse(records, \"swiss\"))\n",
    "\n",
    "print(\"Found %i records\" % len(seq_records))\n"
   ]
  },
  {
   "cell_type": "code",
   "execution_count": 23,
   "metadata": {
    "collapsed": false
   },
   "outputs": [
    {
     "ename": "ValueError",
     "evalue": "Unknown keyword '<B' found",
     "output_type": "error",
     "traceback": [
      "\u001b[0;31m---------------------------------------------------------------------------\u001b[0m",
      "\u001b[0;31mValueError\u001b[0m                                Traceback (most recent call last)",
      "\u001b[0;32m<ipython-input-23-ab607f4e9b9f>\u001b[0m in \u001b[0;36m<module>\u001b[0;34m()\u001b[0m\n\u001b[0;32m----> 1\u001b[0;31m \u001b[1;32mfor\u001b[0m \u001b[0mseq_record\u001b[0m \u001b[1;32min\u001b[0m \u001b[0mseq_records\u001b[0m\u001b[1;33m:\u001b[0m\u001b[1;33m\u001b[0m\u001b[0m\n\u001b[0m\u001b[1;32m      2\u001b[0m    \u001b[1;32mprint\u001b[0m\u001b[1;33m(\u001b[0m\u001b[0mseq_record\u001b[0m\u001b[1;33m.\u001b[0m\u001b[0mid\u001b[0m\u001b[1;33m)\u001b[0m\u001b[1;33m\u001b[0m\u001b[0m\n\u001b[1;32m      3\u001b[0m    \u001b[1;32mprint\u001b[0m\u001b[1;33m(\u001b[0m\u001b[0mrepr\u001b[0m\u001b[1;33m(\u001b[0m\u001b[0mseq_record\u001b[0m\u001b[1;33m.\u001b[0m\u001b[0mseq\u001b[0m\u001b[1;33m)\u001b[0m\u001b[1;33m)\u001b[0m\u001b[1;33m\u001b[0m\u001b[0m\n\u001b[1;32m      4\u001b[0m    \u001b[1;32mprint\u001b[0m\u001b[1;33m(\u001b[0m\u001b[0mlen\u001b[0m\u001b[1;33m(\u001b[0m\u001b[0mseq_record\u001b[0m\u001b[1;33m)\u001b[0m\u001b[1;33m)\u001b[0m\u001b[1;33m\u001b[0m\u001b[0m\n",
      "\u001b[0;32mC:\\Users\\David Brown\\Anaconda2\\lib\\site-packages\\Bio\\SeqIO\\__init__.pyc\u001b[0m in \u001b[0;36mparse\u001b[0;34m(handle, format, alphabet)\u001b[0m\n\u001b[1;32m    635\u001b[0m             \u001b[1;32mraise\u001b[0m \u001b[0mValueError\u001b[0m\u001b[1;33m(\u001b[0m\u001b[1;34m\"Unknown format '%s'\"\u001b[0m \u001b[1;33m%\u001b[0m \u001b[0mformat\u001b[0m\u001b[1;33m)\u001b[0m\u001b[1;33m\u001b[0m\u001b[0m\n\u001b[1;32m    636\u001b[0m         \u001b[1;31m# This imposes some overhead... wait until we drop Python 2.4 to fix it\u001b[0m\u001b[1;33m\u001b[0m\u001b[1;33m\u001b[0m\u001b[0m\n\u001b[0;32m--> 637\u001b[0;31m         \u001b[1;32mfor\u001b[0m \u001b[0mr\u001b[0m \u001b[1;32min\u001b[0m \u001b[0mi\u001b[0m\u001b[1;33m:\u001b[0m\u001b[1;33m\u001b[0m\u001b[0m\n\u001b[0m\u001b[1;32m    638\u001b[0m             \u001b[1;32myield\u001b[0m \u001b[0mr\u001b[0m\u001b[1;33m\u001b[0m\u001b[0m\n\u001b[1;32m    639\u001b[0m \u001b[1;33m\u001b[0m\u001b[0m\n",
      "\u001b[0;32mC:\\Users\\David Brown\\Anaconda2\\lib\\site-packages\\Bio\\SeqIO\\SwissIO.pyc\u001b[0m in \u001b[0;36mSwissIterator\u001b[0;34m(handle)\u001b[0m\n\u001b[1;32m     83\u001b[0m     \"\"\"\n\u001b[1;32m     84\u001b[0m     \u001b[0mswiss_records\u001b[0m \u001b[1;33m=\u001b[0m \u001b[0mSwissProt\u001b[0m\u001b[1;33m.\u001b[0m\u001b[0mparse\u001b[0m\u001b[1;33m(\u001b[0m\u001b[0mhandle\u001b[0m\u001b[1;33m)\u001b[0m\u001b[1;33m\u001b[0m\u001b[0m\n\u001b[0;32m---> 85\u001b[0;31m     \u001b[1;32mfor\u001b[0m \u001b[0mswiss_record\u001b[0m \u001b[1;32min\u001b[0m \u001b[0mswiss_records\u001b[0m\u001b[1;33m:\u001b[0m\u001b[1;33m\u001b[0m\u001b[0m\n\u001b[0m\u001b[1;32m     86\u001b[0m         \u001b[1;31m# Convert the SwissProt record to a SeqRecord\u001b[0m\u001b[1;33m\u001b[0m\u001b[1;33m\u001b[0m\u001b[0m\n\u001b[1;32m     87\u001b[0m         \u001b[0mseq\u001b[0m \u001b[1;33m=\u001b[0m \u001b[0mSeq\u001b[0m\u001b[1;33m.\u001b[0m\u001b[0mSeq\u001b[0m\u001b[1;33m(\u001b[0m\u001b[0mswiss_record\u001b[0m\u001b[1;33m.\u001b[0m\u001b[0msequence\u001b[0m\u001b[1;33m,\u001b[0m \u001b[0mAlphabet\u001b[0m\u001b[1;33m.\u001b[0m\u001b[0mgeneric_protein\u001b[0m\u001b[1;33m)\u001b[0m\u001b[1;33m\u001b[0m\u001b[0m\n",
      "\u001b[0;32mC:\\Users\\David Brown\\Anaconda2\\lib\\site-packages\\Bio\\SwissProt\\__init__.pyc\u001b[0m in \u001b[0;36mparse\u001b[0;34m(handle)\u001b[0m\n\u001b[1;32m    138\u001b[0m \u001b[1;32mdef\u001b[0m \u001b[0mparse\u001b[0m\u001b[1;33m(\u001b[0m\u001b[0mhandle\u001b[0m\u001b[1;33m)\u001b[0m\u001b[1;33m:\u001b[0m\u001b[1;33m\u001b[0m\u001b[0m\n\u001b[1;32m    139\u001b[0m     \u001b[1;32mwhile\u001b[0m \u001b[0mTrue\u001b[0m\u001b[1;33m:\u001b[0m\u001b[1;33m\u001b[0m\u001b[0m\n\u001b[0;32m--> 140\u001b[0;31m         \u001b[0mrecord\u001b[0m \u001b[1;33m=\u001b[0m \u001b[0m_read\u001b[0m\u001b[1;33m(\u001b[0m\u001b[0mhandle\u001b[0m\u001b[1;33m)\u001b[0m\u001b[1;33m\u001b[0m\u001b[0m\n\u001b[0m\u001b[1;32m    141\u001b[0m         \u001b[1;32mif\u001b[0m \u001b[1;32mnot\u001b[0m \u001b[0mrecord\u001b[0m\u001b[1;33m:\u001b[0m\u001b[1;33m\u001b[0m\u001b[0m\n\u001b[1;32m    142\u001b[0m             \u001b[1;32mreturn\u001b[0m\u001b[1;33m\u001b[0m\u001b[0m\n",
      "\u001b[0;32mC:\\Users\\David Brown\\Anaconda2\\lib\\site-packages\\Bio\\SwissProt\\__init__.pyc\u001b[0m in \u001b[0;36m_read\u001b[0;34m(handle)\u001b[0m\n\u001b[1;32m    271\u001b[0m             \u001b[1;32mreturn\u001b[0m \u001b[0mrecord\u001b[0m\u001b[1;33m\u001b[0m\u001b[0m\n\u001b[1;32m    272\u001b[0m         \u001b[1;32melse\u001b[0m\u001b[1;33m:\u001b[0m\u001b[1;33m\u001b[0m\u001b[0m\n\u001b[0;32m--> 273\u001b[0;31m             \u001b[1;32mraise\u001b[0m \u001b[0mValueError\u001b[0m\u001b[1;33m(\u001b[0m\u001b[1;34m\"Unknown keyword '%s' found\"\u001b[0m \u001b[1;33m%\u001b[0m \u001b[0mkey\u001b[0m\u001b[1;33m)\u001b[0m\u001b[1;33m\u001b[0m\u001b[0m\n\u001b[0m\u001b[1;32m    274\u001b[0m     \u001b[1;32mif\u001b[0m \u001b[0mrecord\u001b[0m\u001b[1;33m:\u001b[0m\u001b[1;33m\u001b[0m\u001b[0m\n\u001b[1;32m    275\u001b[0m         \u001b[1;32mraise\u001b[0m \u001b[0mValueError\u001b[0m\u001b[1;33m(\u001b[0m\u001b[1;34m\"Unexpected end of stream.\"\u001b[0m\u001b[1;33m)\u001b[0m\u001b[1;33m\u001b[0m\u001b[0m\n",
      "\u001b[0;31mValueError\u001b[0m: Unknown keyword '<B' found"
     ]
    }
   ],
   "source": [
    " for seq_record in seq_records:\n",
    "    print(seq_record.id)\n",
    "    print(repr(seq_record.seq))\n",
    "    print(len(seq_record))"
   ]
  },
  {
   "cell_type": "code",
   "execution_count": 25,
   "metadata": {
    "collapsed": false
   },
   "outputs": [
    {
     "ename": "TypeError",
     "evalue": "'generator' object has no attribute '__getitem__'",
     "output_type": "error",
     "traceback": [
      "\u001b[0;31m---------------------------------------------------------------------------\u001b[0m",
      "\u001b[0;31mTypeError\u001b[0m                                 Traceback (most recent call last)",
      "\u001b[0;32m<ipython-input-25-89a7358ffddf>\u001b[0m in \u001b[0;36m<module>\u001b[0;34m()\u001b[0m\n\u001b[0;32m----> 1\u001b[0;31m \u001b[1;32mprint\u001b[0m\u001b[1;33m(\u001b[0m\u001b[0mseq_records\u001b[0m\u001b[1;33m[\u001b[0m\u001b[1;36m0\u001b[0m\u001b[1;33m]\u001b[0m\u001b[1;33m.\u001b[0m\u001b[0mseq\u001b[0m\u001b[1;33m)\u001b[0m\u001b[1;33m\u001b[0m\u001b[0m\n\u001b[0m",
      "\u001b[0;31mTypeError\u001b[0m: 'generator' object has no attribute '__getitem__'"
     ]
    }
   ],
   "source": [
    "print(seq_records[0].seq)"
   ]
  },
  {
   "cell_type": "code",
   "execution_count": null,
   "metadata": {
    "collapsed": true
   },
   "outputs": [],
   "source": [
    "#Try aligning sequences"
   ]
  }
 ],
 "metadata": {
  "anaconda-cloud": {},
  "kernelspec": {
   "display_name": "Python [conda root]",
   "language": "python",
   "name": "conda-root-py"
  },
  "language_info": {
   "codemirror_mode": {
    "name": "ipython",
    "version": 2
   },
   "file_extension": ".py",
   "mimetype": "text/x-python",
   "name": "python",
   "nbconvert_exporter": "python",
   "pygments_lexer": "ipython2",
   "version": "2.7.12"
  }
 },
 "nbformat": 4,
 "nbformat_minor": 1
}
