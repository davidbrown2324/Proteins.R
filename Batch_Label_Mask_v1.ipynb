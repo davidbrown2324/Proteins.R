{
 "cells": [
  {
   "cell_type": "code",
   "execution_count": null,
   "metadata": {
    "collapsed": true
   },
   "outputs": [],
   "source": [
    "##How long would it take to process each object individually?"
   ]
  },
  {
   "cell_type": "code",
   "execution_count": null,
   "metadata": {
    "collapsed": true
   },
   "outputs": [],
   "source": [
    "import numpy as np\n",
    "\n",
    "##Import mask\n",
    "mask5=np.load('C:/Users/David Brown/Documents/Huang Lab/Exp0104_KDM5A_PHD2-fragments/Output/Well03_HeLa_PHD2-IDR-PHD3[W1625A]_3_Mask5.npy')"
   ]
  },
  {
   "cell_type": "code",
   "execution_count": null,
   "metadata": {
    "collapsed": true
   },
   "outputs": [],
   "source": [
    "import time"
   ]
  },
  {
   "cell_type": "code",
   "execution_count": null,
   "metadata": {
    "collapsed": false
   },
   "outputs": [],
   "source": [
    "import skimage\n",
    "skimage.__version__"
   ]
  },
  {
   "cell_type": "code",
   "execution_count": null,
   "metadata": {
    "collapsed": false
   },
   "outputs": [],
   "source": [
    "import matplotlib.pyplot as plt\n",
    "%matplotlib inline\n",
    "\n",
    "z=4"
   ]
  },
  {
   "cell_type": "code",
   "execution_count": null,
   "metadata": {
    "collapsed": false
   },
   "outputs": [],
   "source": [
    "##Check the mask\n",
    "plt.imshow(mask5[z])\n",
    "plt.axis('off')\n",
    "plt.title('Well03_HeLa_PHD2-IDR-PHD3[W1625A]_3')"
   ]
  },
  {
   "cell_type": "code",
   "execution_count": null,
   "metadata": {
    "collapsed": false
   },
   "outputs": [],
   "source": [
    "##Try Labeling objects\n",
    "import mahotas as mh\n",
    "\n",
    "labeled_mask5, nr_objects=mh.label(mask5)\n",
    "print('{} objects were detected.'.format(nr_objects))"
   ]
  },
  {
   "cell_type": "code",
   "execution_count": null,
   "metadata": {
    "collapsed": true
   },
   "outputs": [],
   "source": [
    "##Remove small objects\n",
    "from skimage import morphology\n",
    "\n",
    "min_vol = 8000\n",
    "\n",
    "#from skimage.morphology import remove_small_objects\n",
    "real=morphology.remove_small_objects(labeled_mask5, min_vol)"
   ]
  },
  {
   "cell_type": "code",
   "execution_count": null,
   "metadata": {
    "collapsed": false
   },
   "outputs": [],
   "source": [
    "##Count the labels, Reset counts (Maybe Randomize?), Find objects\n",
    "relabeled, n_left = mh.labeled.relabel(real)\n",
    "print('After filtering and relabeling, there are {} nuclei left.'.format(n_left))"
   ]
  },
  {
   "cell_type": "code",
   "execution_count": null,
   "metadata": {
    "collapsed": false
   },
   "outputs": [],
   "source": [
    "plt.imshow(relabeled[z])\n",
    "plt.axis('off')\n",
    "plt.title('3D Labeled Mask')"
   ]
  },
  {
   "cell_type": "code",
   "execution_count": null,
   "metadata": {
    "collapsed": false
   },
   "outputs": [],
   "source": [
    "import mahotas as mh\n",
    "from skimage import morphology\n",
    "\n",
    "##\n",
    "def labelNuceli(mask, min_vol = 8000):\n",
    "#By default min_vol = 8000\n",
    "    \n",
    "    labeled_mask, nr_objects=mh.label(mask)\n",
    "    print('{} objects were detected.'.format(nr_objects))\n",
    "    \n",
    "    real=morphology.remove_small_objects(labeled_mask, min_vol)\n",
    "    \n",
    "    #Reset counts  and count the labels, \n",
    "    relabeled, n_left = mh.labeled.relabel(real)\n",
    "    print('After filtering and relabeling, there are {} nuclei left.'.format(n_left))\n",
    "\n",
    "    return relabeled"
   ]
  },
  {
   "cell_type": "code",
   "execution_count": null,
   "metadata": {
    "collapsed": true
   },
   "outputs": [],
   "source": [
    "from scipy.ndimage import morphology\n",
    "\n",
    "##Define the fillObjects \n",
    "def fillObjects(labeled_mask):\n",
    "    \n",
    "    #Let's do every z slice\n",
    "    filled_mask=np.zeros_like(labeled_mask)\n",
    "    for z, frame in enumerate(labeled_mask):\n",
    "\n",
    "        #Could remove on boarders at this point?\n",
    "        final=np.zeros_like(frame)\n",
    "\n",
    "        for l in range(frame.max()):\n",
    "            ll=l+1\n",
    "            blob=morphology.binary_dilation(frame==ll, np.ones((20,20)))\n",
    "            filled_blob=morphology.binary_fill_holes(blob)\n",
    "            reduced=morphology.binary_erosion(filled_blob, np.ones((20,20)))*ll\n",
    "            final=final+reduced\n",
    "\n",
    "        filled_mask[z]=final\n",
    "    return filled_mask"
   ]
  },
  {
   "cell_type": "code",
   "execution_count": null,
   "metadata": {
    "collapsed": false
   },
   "outputs": [],
   "source": [
    "mask6=fillObjects(relabeled)"
   ]
  },
  {
   "cell_type": "code",
   "execution_count": null,
   "metadata": {
    "collapsed": false
   },
   "outputs": [],
   "source": [
    "##Compare\n",
    "plt.subplot(1,2,1),plt.imshow(mask5[z])\n",
    "plt.subplot(1,2,1),plt.axis('off')\n",
    "plt.subplot(1,2,1),plt.title('Mask')\n",
    "plt.subplot(1,2,2),plt.imshow(mask6[z])\n",
    "plt.subplot(1,2,2),plt.axis('off')\n",
    "plt.subplot(1,2,2),plt.title('Filled Mask')"
   ]
  },
  {
   "cell_type": "code",
   "execution_count": null,
   "metadata": {
    "collapsed": true
   },
   "outputs": [],
   "source": [
    "##Could you watershed these as you go?"
   ]
  },
  {
   "cell_type": "code",
   "execution_count": null,
   "metadata": {
    "collapsed": true
   },
   "outputs": [],
   "source": [
    "##Calculate distance transform\n",
    "from skimage.morphology import watershed\n",
    "from skimage.feature import peak_local_max\n",
    "from scipy import ndimage\n",
    "distance3D = ndimage.distance_transform_edt(mask6)\n",
    "\n",
    "distance_z4 = ndimage.distance_transform_edt(mask6[4])"
   ]
  },
  {
   "cell_type": "code",
   "execution_count": null,
   "metadata": {
    "collapsed": false
   },
   "outputs": [],
   "source": [
    "##Compare distance vs 3D distance transform\n",
    "plt.subplot(1,3,1),plt.imshow(mask6[z])\n",
    "plt.subplot(1,3,1),plt.axis('off')\n",
    "plt.subplot(1,3,1),plt.title('Labeled Mask')\n",
    "plt.subplot(1,3,2),plt.imshow(distance_z4)\n",
    "plt.subplot(1,3,2),plt.axis('off')\n",
    "plt.subplot(1,3,2),plt.title('2D distance')\n",
    "plt.subplot(1,3,3),plt.imshow(distance3D[z])\n",
    "plt.subplot(1,3,3),plt.axis('off')\n",
    "plt.subplot(1,3,3),plt.title('3D distance')\n",
    "\n",
    "##3D transform better resolves the gaps"
   ]
  },
  {
   "cell_type": "code",
   "execution_count": null,
   "metadata": {
    "collapsed": false
   },
   "outputs": [],
   "source": [
    "#local_maxi = peak_local_max(distance, indices=False, footprint=np.ones((1, 3, 3)), labels=mask6)\n",
    "local_max1 = peak_local_max(distance_z4, indices=False)\n",
    "local_max2 = peak_local_max(distance_z4, indices=False, labels=mask6[4])\n",
    "local_max3 = peak_local_max(distance_z4, indices=False, threshold_abs=3, labels=mask6[4])\n",
    "local_max4 = peak_local_max(distance_z4, indices=False, threshold_abs=3, footprint=np.ones((4, 4)), labels=mask6[4])"
   ]
  },
  {
   "cell_type": "code",
   "execution_count": null,
   "metadata": {
    "collapsed": true
   },
   "outputs": [],
   "source": [
    "#local_max5 = peak_local_max(distance_z4, indices=False, threshold_abs=3, footprint=np.ones((50, 50)), labels=mask6[4]) #50,50 works\n",
    "local_max6 = peak_local_max(distance_z4, indices=False, threshold_abs=3, footprint=np.ones((75, 75)), labels=mask6[4]) #50,50 works"
   ]
  },
  {
   "cell_type": "code",
   "execution_count": null,
   "metadata": {
    "collapsed": false
   },
   "outputs": [],
   "source": [
    "plt.imshow(morphology.binary_dilation(local_max5, np.ones((5,5))), cmap='gray')\n",
    "plt.axis('off')\n",
    "plt.title('Max 1')"
   ]
  },
  {
   "cell_type": "code",
   "execution_count": null,
   "metadata": {
    "collapsed": false,
    "scrolled": true
   },
   "outputs": [],
   "source": [
    "##Compare distance vs 3D distance transform\n",
    "plt.subplot(1,2,1),plt.imshow(mask6[z], cmap='gray')\n",
    "plt.subplot(1,2,1),plt.axis('off')\n",
    "plt.subplot(1,2,1),plt.title('Mask')\n",
    "plt.subplot(1,2,2),plt.imshow(morphology.binary_dilation(local_max5, np.ones((5,5))), cmap='gray')\n",
    "plt.subplot(1,2,2),plt.axis('off')\n",
    "plt.subplot(1,2,2),plt.title('Max 5')\n",
    "# plt.subplot(1,4,3),plt.imshow(local_max3, cmap='gray')\n",
    "# plt.subplot(1,4,3),plt.axis('off')\n",
    "# plt.subplot(1,4,3),plt.title('Max 3')\n",
    "# plt.subplot(1,4,4),plt.imshow(local_max4, cmap='gray')\n",
    "# plt.subplot(1,4,4),plt.axis('off')\n",
    "# plt.subplot(1,4,4),plt.title('Max 4')"
   ]
  },
  {
   "cell_type": "code",
   "execution_count": null,
   "metadata": {
    "collapsed": false
   },
   "outputs": [],
   "source": [
    "##Check local max using overlay\n",
    "plt.imshow(mh.overlay(mask6[z], morphology.binary_dilation(local_max6, np.ones((9,9)))))"
   ]
  },
  {
   "cell_type": "code",
   "execution_count": null,
   "metadata": {
    "collapsed": false,
    "scrolled": true
   },
   "outputs": [],
   "source": [
    "#Test 2D watershed\n",
    "markers, n_max = mh.label(local_max6)\n",
    "labels_ws = watershed(-distance_z4, markers, mask=mask6[z])"
   ]
  },
  {
   "cell_type": "code",
   "execution_count": null,
   "metadata": {
    "collapsed": false,
    "scrolled": true
   },
   "outputs": [],
   "source": [
    "plt.subplot(1,2,1),plt.imshow(mask6[z], cmap='gray')\n",
    "plt.subplot(1,2,1),plt.axis('off')\n",
    "plt.subplot(1,2,1),plt.title('Mask')\n",
    "plt.subplot(1,2,2),plt.imshow(labels_ws, cmap='gray')\n",
    "plt.subplot(1,2,2),plt.axis('off')\n",
    "plt.subplot(1,2,2),plt.title('Watershed')\n",
    "\n",
    "##Watershed did improve 2D but may split some nuclei"
   ]
  },
  {
   "cell_type": "code",
   "execution_count": null,
   "metadata": {
    "collapsed": true
   },
   "outputs": [],
   "source": [
    "##What about in 3D?\n",
    "#Detect 2D maxima in a single plane of the 3D distance image\n",
    "local_max7 = peak_local_max(distance3D[4], indices=False, threshold_abs=3, labels=mask6[4])\n",
    "\n",
    "#Detect maxima in 3D space\n",
    "local_max8 = peak_local_max(distance3D, indices=False, threshold_abs=3, labels=mask6)"
   ]
  },
  {
   "cell_type": "code",
   "execution_count": null,
   "metadata": {
    "collapsed": true
   },
   "outputs": [],
   "source": [
    "#Now try the improved 2D settings\n",
    "local_max9 = peak_local_max(distance3D, indices=False, threshold_abs=3, footprint=np.ones((1, 75, 75)), labels=mask6)"
   ]
  },
  {
   "cell_type": "code",
   "execution_count": null,
   "metadata": {
    "collapsed": true
   },
   "outputs": [],
   "source": [
    "#Can you improve further?\n",
    "local_max10 = peak_local_max(distance3D, indices=False, threshold_abs=5, footprint=np.ones((1, 100, 100)), labels=mask6)"
   ]
  },
  {
   "cell_type": "code",
   "execution_count": null,
   "metadata": {
    "collapsed": false
   },
   "outputs": [],
   "source": [
    "#Perhaps 2D peak detection within 3D distance map is best\n",
    "local_max11 = peak_local_max(distance3D[4], indices=False, threshold_abs=5, footprint=np.ones((100, 100)), labels=mask6[4])\n",
    "#This give identical peaks to local max10"
   ]
  },
  {
   "cell_type": "code",
   "execution_count": null,
   "metadata": {
    "collapsed": false
   },
   "outputs": [],
   "source": [
    "local_max10[4].all() == local_max11.all()"
   ]
  },
  {
   "cell_type": "code",
   "execution_count": null,
   "metadata": {
    "collapsed": false
   },
   "outputs": [],
   "source": [
    "##Compare 2D vs 3D local maxima\n",
    "plt.subplot(1,2,1),plt.imshow(morphology.binary_dilation(local_max10[4], np.ones((5,5))), cmap='gray')\n",
    "plt.subplot(1,2,1),plt.axis('off')\n",
    "plt.subplot(1,2,1),plt.title('Max 10')\n",
    "plt.subplot(1,2,2),plt.imshow(morphology.binary_dilation(local_max11, np.ones((5,5))), cmap='gray')\n",
    "plt.subplot(1,2,2),plt.axis('off')\n",
    "plt.subplot(1,2,2),plt.title('Max 11')"
   ]
  },
  {
   "cell_type": "code",
   "execution_count": null,
   "metadata": {
    "collapsed": false
   },
   "outputs": [],
   "source": [
    "##Check local max using overlay\n",
    "plt.imshow(mh.overlay(mask6[z], morphology.binary_dilation(local_max10[z], np.ones((9,9)))))"
   ]
  },
  {
   "cell_type": "code",
   "execution_count": null,
   "metadata": {
    "collapsed": true
   },
   "outputs": [],
   "source": [
    "#Test 3D watershed in 2D\n",
    "markers, n_max = mh.label(local_max10[4])\n",
    "labels_ws2 = watershed(-distance3D[4], markers, mask=mask6[z])"
   ]
  },
  {
   "cell_type": "code",
   "execution_count": null,
   "metadata": {
    "collapsed": false
   },
   "outputs": [],
   "source": [
    "plt.subplot(1,2,1),plt.imshow(labels_ws, cmap='gray')\n",
    "plt.subplot(1,2,1),plt.axis('off')\n",
    "plt.subplot(1,2,1),plt.title('Mask')\n",
    "plt.subplot(1,2,2),plt.imshow(labels_ws2, cmap='gray')\n",
    "plt.subplot(1,2,2),plt.axis('off')\n",
    "plt.subplot(1,2,2),plt.title('Watershed')"
   ]
  },
  {
   "cell_type": "code",
   "execution_count": null,
   "metadata": {
    "collapsed": true
   },
   "outputs": [],
   "source": [
    "##Increase the footprint even higher\n",
    "local_max12 = peak_local_max(distance3D, indices=False, threshold_abs=7, footprint=np.ones((1, 175, 175)), labels=mask6)"
   ]
  },
  {
   "cell_type": "code",
   "execution_count": null,
   "metadata": {
    "collapsed": false
   },
   "outputs": [],
   "source": [
    "##Check local max using overlay\n",
    "plt.imshow(mh.overlay(mask6[z], morphology.binary_dilation(local_max12[z], np.ones((9,9)))))"
   ]
  },
  {
   "cell_type": "code",
   "execution_count": null,
   "metadata": {
    "collapsed": true
   },
   "outputs": [],
   "source": [
    "markers, n_max = mh.label(local_max12)"
   ]
  },
  {
   "cell_type": "code",
   "execution_count": null,
   "metadata": {
    "collapsed": true
   },
   "outputs": [],
   "source": [
    "# ##Full 3D\n",
    "# labels_ws3 = watershed(-distance3D, markers, mask=mask6)\n",
    "# ##Full 3D sucks!!"
   ]
  },
  {
   "cell_type": "code",
   "execution_count": null,
   "metadata": {
    "collapsed": true
   },
   "outputs": [],
   "source": [
    "for f in range(24):\n",
    "    ws4[f] = watershed(-distance3D[f], markers[f], mask=mask6[f])"
   ]
  },
  {
   "cell_type": "code",
   "execution_count": null,
   "metadata": {
    "collapsed": true
   },
   "outputs": [],
   "source": [
    "def watershed3D(mask, markers, distance):\n",
    "\n",
    "    labels=np.zeros_like(mask)\n",
    "    \n",
    "    #Calculate labels in 2D\n",
    "    for f, frame in enumerate(mask):\n",
    "            \n",
    "        labels[f] = watershed(-distance[f], markers[f], mask=frame)\n",
    "        \n",
    "    return labels"
   ]
  },
  {
   "cell_type": "code",
   "execution_count": null,
   "metadata": {
    "collapsed": false,
    "scrolled": true
   },
   "outputs": [],
   "source": [
    "##Iterative Watershed\n",
    "ws4 = watershed3D(distance=distance3D, mask=mask6, markers=local_max12)"
   ]
  },
  {
   "cell_type": "code",
   "execution_count": null,
   "metadata": {
    "collapsed": false
   },
   "outputs": [],
   "source": [
    "plt.imshow(ws4[8])\n",
    "#plt.imshow(watershed(-distance3D[4], markers[4], mask=mask6[4]))\n",
    "#plt.imshow(watershed3D(distance=-distance3D[4], peaks=markers[4], mask=mask6[4]))"
   ]
  },
  {
   "cell_type": "code",
   "execution_count": null,
   "metadata": {
    "collapsed": true
   },
   "outputs": [],
   "source": [
    "##How do you separate distinct labels.\n",
    "from scipy.ndimage import morphology\n",
    "from skimage.morphology import disk\n",
    "\n",
    "##Define the fillObjects \n",
    "def splitWatershed(watershed_labels):\n",
    "    \n",
    "    ##Add conditional to only separate objects within the right parameters\n",
    "    \n",
    "    radius = 3\n",
    "    selem = disk(radius)\n",
    "    \n",
    "    #Let's do every z slice\n",
    "    split=np.zeros_like(watershed_labels)\n",
    "    for z, frame in enumerate(watershed_labels):\n",
    "        print(z)\n",
    "\n",
    "        #Could remove on boarders at this point?\n",
    "        final=np.zeros_like(frame)\n",
    "\n",
    "        for l in range(frame.max()):\n",
    "            #print(l)\n",
    "            ll=l+1\n",
    "            shrunk=morphology.binary_erosion(frame==ll, selem)*ll\n",
    "            final=final+shrunk\n",
    "        split[z]=final\n",
    "    return split"
   ]
  },
  {
   "cell_type": "code",
   "execution_count": null,
   "metadata": {
    "collapsed": false,
    "scrolled": true
   },
   "outputs": [],
   "source": [
    "#Try splitting the 3D watershed\n",
    "split=splitWatershed(ws4)"
   ]
  },
  {
   "cell_type": "code",
   "execution_count": null,
   "metadata": {
    "collapsed": false
   },
   "outputs": [],
   "source": [
    "plt.imshow(split[4])"
   ]
  },
  {
   "cell_type": "code",
   "execution_count": null,
   "metadata": {
    "collapsed": true
   },
   "outputs": [],
   "source": [
    "#Then relabel the whole stack\n"
   ]
  },
  {
   "cell_type": "code",
   "execution_count": null,
   "metadata": {
    "collapsed": false
   },
   "outputs": [],
   "source": [
    "from skimage.morphology import disk\n",
    "\n",
    "radius = 3\n",
    "selem = disk(radius)\n",
    "\n",
    "final=np.zeros_like(ws4[4])\n",
    "\n",
    "for l in range(ws4[4].max()):\n",
    "    ll=l+1\n",
    "    shrunk=morphology.binary_erosion(ws4[4]==ll, selem)*ll\n",
    "    final=final+shrunk"
   ]
  },
  {
   "cell_type": "code",
   "execution_count": null,
   "metadata": {
    "collapsed": false
   },
   "outputs": [],
   "source": [
    "split=np.zeros_like(ws4)\n",
    "    for z, frame in enumerate(ws4):\n",
    "\n",
    "        #Could remove on boarders at this point?\n",
    "        final=np.zeros_like(frame)\n",
    "\n",
    "        for l in range(frame.max()):\n",
    "            ll=l+1\n",
    "            shrunk=morphology.binary_erosion(frame==ll)*ll\n",
    "            final=final+shrunk\n",
    "    split[z]=final"
   ]
  },
  {
   "cell_type": "code",
   "execution_count": null,
   "metadata": {
    "collapsed": false
   },
   "outputs": [],
   "source": [
    "plt.subplot(1,2,1),plt.imshow(labels_ws, cmap='gray')\n",
    "plt.subplot(1,2,1),plt.axis('off')\n",
    "plt.subplot(1,2,1),plt.title('Mask')\n",
    "plt.subplot(1,2,2),plt.imshow(labels_ws3[4], cmap='gray')\n",
    "plt.subplot(1,2,2),plt.axis('off')\n",
    "plt.subplot(1,2,2),plt.title('Watershed')"
   ]
  },
  {
   "cell_type": "code",
   "execution_count": null,
   "metadata": {
    "collapsed": true
   },
   "outputs": [],
   "source": [
    "from scipy.ndimage import morphology\n",
    "\n",
    "##Define the fillObjects \n",
    "def fillAndWatershedObjects(labeled_mask):\n",
    "    \n",
    "    #Let's do every z slice\n",
    "    filled_mask=np.zeros_like(labeled_mask)\n",
    "    for z, frame in enumerate(labeled_mask):\n",
    "\n",
    "        #Could remove on boarders at this point?\n",
    "        final=np.zeros_like(frame)\n",
    "\n",
    "        for l in range(frame.max()):\n",
    "            ll=l+1\n",
    "            blob=morphology.binary_dilation(frame==ll, np.ones((20,20)))\n",
    "            filled_blob=morphology.binary_fill_holes(blob)\n",
    "            \n",
    "            ##Don't pass labels forward\n",
    "            reduced=morphology.binary_erosion(filled_blob, np.ones((20,20)))\n",
    "            final=final+reduced\n",
    "        \n",
    "        #In this script filled mask is binary\n",
    "        filled_mask[z]=final\n",
    "        \n",
    "    #3D Watershed\n",
    "    split_mask=ws(filled_mask)\n",
    "        \n",
    "    return split_mask"
   ]
  },
  {
   "cell_type": "code",
   "execution_count": null,
   "metadata": {
    "collapsed": false
   },
   "outputs": [],
   "source": [
    "##Compare\n",
    "plt.subplot(1,3,1),plt.imshow(mask6[z])\n",
    "plt.subplot(1,3,1),plt.axis('off')\n",
    "plt.subplot(1,3,1),plt.title('Mask')\n",
    "plt.subplot(1,3,2),plt.imshow(local_maxi[z])\n",
    "plt.subplot(1,3,2),plt.axis('off')\n",
    "plt.subplot(1,3,2),plt.title('Filled Mask')\n",
    "plt.subplot(1,3,3),plt.imshow(labels_ws[z])\n",
    "plt.subplot(1,3,3),plt.axis('off')\n",
    "plt.subplot(1,3,3),plt.title('Filled Mask')"
   ]
  },
  {
   "cell_type": "code",
   "execution_count": null,
   "metadata": {
    "collapsed": false
   },
   "outputs": [],
   "source": [
    "#What?\n",
    "plt.imshow(labels_ws[z])\n",
    "plt.axis('off')\n",
    "plt.title('Filled Mask')"
   ]
  },
  {
   "cell_type": "code",
   "execution_count": null,
   "metadata": {
    "collapsed": false
   },
   "outputs": [],
   "source": [
    "def ws(mask):\n",
    "    \n",
    "    from skimage.morphology import watershed\n",
    "    from skimage.feature import peak_local_max\n",
    "    from scipy import ndimage\n",
    "\n",
    "    #This bit is simple\n",
    "    distance = ndimage.distance_transform_edt(mask)\n",
    "\n",
    "    #This bit is the challenge   \n",
    "    local_maxi = peak_local_max(distance, \n",
    "                                indices=False,\n",
    "                                footprint=np.ones((1, 25, 25)),\n",
    "                                threshold_abs=3,\n",
    "                                num_peaks=80, \n",
    "                                labels=mask)\n",
    "    \n",
    "    #Find the centers\n",
    "    markers = morphology.label(local_maxi)\n",
    "    \n",
    "    #Watershed image\n",
    "    labels_ws = watershed(-distance, markers, mask=mask6)\n",
    "    \n",
    "    return labels_ws"
   ]
  },
  {
   "cell_type": "code",
   "execution_count": null,
   "metadata": {
    "collapsed": false
   },
   "outputs": [],
   "source": [
    "new_mask = ws(mask6)"
   ]
  },
  {
   "cell_type": "code",
   "execution_count": null,
   "metadata": {
    "collapsed": false
   },
   "outputs": [],
   "source": [
    "plt.subplot(1,3,1),plt.imshow(mask6[z])\n",
    "plt.subplot(1,3,1),plt.axis('off')\n",
    "plt.subplot(1,3,1),plt.title('Mask')\n",
    "plt.subplot(1,3,2),plt.imshow(distance[z])\n",
    "plt.subplot(1,3,2),plt.axis('off')\n",
    "plt.subplot(1,3,2),plt.title('Distance Transform')\n",
    "plt.subplot(1,3,3),plt.imshow(new_mask[z])\n",
    "plt.subplot(1,3,3),plt.axis('off')\n",
    "plt.subplot(1,3,3),plt.title('Filled Mask')"
   ]
  },
  {
   "cell_type": "code",
   "execution_count": null,
   "metadata": {
    "collapsed": false
   },
   "outputs": [],
   "source": [
    "#This bit is the challenge, optimise the footprint\n",
    "\n",
    "local_maxi_11 = peak_local_max(distance, \n",
    "                               threshold_abs=3, #Peak pixels must be more than 3 pixels from the background\n",
    "                               indices=False, \n",
    "                               footprint=np.ones((1, 11, 11)), #A difficult parameter to set\n",
    "                               labels=mask6,  #I think this will prevent peaks outside of labels\n",
    "                               num_peaks=80)  #set this to double the number of objects.\n",
    "\n",
    "#local_maxi_11 = peak_local_max(distance, indices=False, footprint=np.ones((1, 11, 11)), labels=mask6)"
   ]
  },
  {
   "cell_type": "code",
   "execution_count": null,
   "metadata": {
    "collapsed": false
   },
   "outputs": [],
   "source": [
    "#How appropriate is the local max detection\n",
    "plt.subplot(1,3,1),plt.imshow(distance[z], cmap='gray')\n",
    "plt.subplot(1,3,1),plt.axis('off')\n",
    "plt.subplot(1,3,1),plt.title('Distance')\n",
    "plt.subplot(1,3,2),plt.imshow(local_maxi[z], cmap='gray')\n",
    "plt.subplot(1,3,2),plt.axis('off')\n",
    "plt.subplot(1,3,2),plt.title('Local Max 3x3')\n",
    "plt.subplot(1,3,3),plt.imshow(local_maxi_11[z], cmap='gray')\n",
    "plt.subplot(1,3,3),plt.axis('off')\n",
    "plt.subplot(1,3,3),plt.title('Local Max 11x11')"
   ]
  },
  {
   "cell_type": "code",
   "execution_count": null,
   "metadata": {
    "collapsed": false
   },
   "outputs": [],
   "source": [
    "plt.imshow(local_maxi_11[z])\n",
    "plt.axis('off')\n",
    "plt.title('Local Max 11x11')"
   ]
  },
  {
   "cell_type": "code",
   "execution_count": null,
   "metadata": {
    "collapsed": true
   },
   "outputs": [],
   "source": [
    "#Find the centers\n",
    "markers = morphology.label(local_maxi_11)\n",
    "\n",
    "#Watershed image\n",
    "labels_ws = watershed(-distance, markers, mask=mask6)"
   ]
  },
  {
   "cell_type": "code",
   "execution_count": null,
   "metadata": {
    "collapsed": false
   },
   "outputs": [],
   "source": [
    "plt.imshow(labels_ws[z])\n",
    "plt.axis('off')\n",
    "plt.title('Watershed')"
   ]
  },
  {
   "cell_type": "code",
   "execution_count": null,
   "metadata": {
    "collapsed": false
   },
   "outputs": [],
   "source": [
    "splitMask=fillAndWatershedObjects(mask6)"
   ]
  },
  {
   "cell_type": "code",
   "execution_count": null,
   "metadata": {
    "collapsed": true
   },
   "outputs": [],
   "source": [
    "plt.imshow(splitMask[z])\n",
    "plt.axis('off')\n",
    "plt.title('Watershed')"
   ]
  },
  {
   "cell_type": "code",
   "execution_count": null,
   "metadata": {
    "collapsed": true
   },
   "outputs": [],
   "source": []
  }
 ],
 "metadata": {
  "kernelspec": {
   "display_name": "Python [conda root]",
   "language": "python",
   "name": "conda-root-py"
  },
  "language_info": {
   "codemirror_mode": {
    "name": "ipython",
    "version": 2
   },
   "file_extension": ".py",
   "mimetype": "text/x-python",
   "name": "python",
   "nbconvert_exporter": "python",
   "pygments_lexer": "ipython2",
   "version": "2.7.12"
  }
 },
 "nbformat": 4,
 "nbformat_minor": 1
}
