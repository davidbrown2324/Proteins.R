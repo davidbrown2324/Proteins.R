{
 "cells": [
  {
   "cell_type": "code",
   "execution_count": 11,
   "metadata": {
    "collapsed": false
   },
   "outputs": [
    {
     "data": {
      "text/plain": [
       "['Q3UXZ9',\n",
       " 'Q38JA7',\n",
       " 'Q30DN6',\n",
       " 'Q62240',\n",
       " 'Q5F3R2',\n",
       " 'Q80Y84',\n",
       " 'A1YVX4',\n",
       " 'Q61T02',\n",
       " 'Q9VMJ7',\n",
       " 'P41228',\n",
       " 'P41229',\n",
       " 'Q5XUN4',\n",
       " 'Q23541',\n",
       " 'P29375',\n",
       " 'Q9UGL1',\n",
       " 'P41230',\n",
       " 'Q9BY66',\n",
       " 'Q6IQX0',\n",
       " 'P47156',\n",
       " 'Q8GUI6']"
      ]
     },
     "execution_count": 11,
     "metadata": {},
     "output_type": "execute_result"
    }
   ],
   "source": [
    "#Load uniprot Ids for the KDM5 family\n",
    "KDM5s = [\"Q3UXZ9\",\"Q38JA7\",\"Q30DN6\",\"Q62240\",\"Q5F3R2\",\"Q80Y84\",\"A1YVX4\",\"Q61T02\",\"Q9VMJ7\",\"P41228\",\"P41229\",\"Q5XUN4\",\"Q23541\",\"P29375\",\"Q9UGL1\",\"P41230\",\"Q9BY66\",\"Q6IQX0\",\"P47156\",\"Q8GUI6\"]\n",
    "KDM5s"
   ]
  },
  {
   "cell_type": "code",
   "execution_count": 3,
   "metadata": {
    "collapsed": true
   },
   "outputs": [],
   "source": [
    "#Get peptide sequences and descriptions for each id\n"
   ]
  },
  {
   "cell_type": "code",
   "execution_count": 1,
   "metadata": {
    "collapsed": false
   },
   "outputs": [
    {
     "name": "stdout",
     "output_type": "stream",
     "text": [
      "Collecting UniProt\n",
      "  Downloading https://files.pythonhosted.org/packages/41/82/7d57f68ba49394c86f58792f57c47a79d7890589a911cbcaee84fa6081f4/uniprot-1.3.tar.gz\n",
      "Requirement already satisfied (use --upgrade to upgrade): requests in c:\\users\\david brown\\anaconda2\\lib\\site-packages (from UniProt)\n",
      "Building wheels for collected packages: UniProt\n",
      "  Running setup.py bdist_wheel for UniProt: started\n",
      "  Running setup.py bdist_wheel for UniProt: finished with status 'done'\n",
      "  Stored in directory: C:\\Users\\David Brown\\AppData\\Local\\pip\\Cache\\wheels\\65\\82\\5f\\eee846b016af05e0df8b7e0b886389edceca67ee0307a053a7\n",
      "Successfully built UniProt\n",
      "Installing collected packages: UniProt\n",
      "Successfully installed UniProt-1.3\n"
     ]
    },
    {
     "name": "stderr",
     "output_type": "stream",
     "text": [
      "You are using pip version 8.1.2, however version 10.0.1 is available.\n",
      "You should consider upgrading via the 'python -m pip install --upgrade pip' command.\n"
     ]
    }
   ],
   "source": [
    "!pip install UniProt"
   ]
  },
  {
   "cell_type": "code",
   "execution_count": 62,
   "metadata": {
    "collapsed": false
   },
   "outputs": [],
   "source": [
    "from Bio import UniProt"
   ]
  },
  {
   "cell_type": "code",
   "execution_count": 63,
   "metadata": {
    "collapsed": false
   },
   "outputs": [
    {
     "name": "stdout",
     "output_type": "stream",
     "text": [
      "Help on package Bio.UniProt in Bio:\n",
      "\n",
      "NAME\n",
      "    Bio.UniProt - Code for dealing with assorted UniProt file formats.\n",
      "\n",
      "FILE\n",
      "    c:\\users\\david brown\\anaconda2\\lib\\site-packages\\bio\\uniprot\\__init__.py\n",
      "\n",
      "DESCRIPTION\n",
      "    This currently include parsers for the GAF, GPA and GPI formats\n",
      "    from UniProt-GOA as the module Bio.UniProt.GOA.\n",
      "    \n",
      "    See also Bio.SwissProt and the \"swiss\" support in Bio.SeqIO for\n",
      "    the legacy plain text sequence format still used in UniProt.\n",
      "\n",
      "PACKAGE CONTENTS\n",
      "    GOA\n",
      "\n",
      "\n"
     ]
    }
   ],
   "source": [
    "help(UniProt)\n",
    "##UniProt seems to be a file parser rather than a database query tool"
   ]
  },
  {
   "cell_type": "code",
   "execution_count": 4,
   "metadata": {
    "collapsed": true
   },
   "outputs": [],
   "source": [
    "import uniprot"
   ]
  },
  {
   "cell_type": "code",
   "execution_count": 5,
   "metadata": {
    "collapsed": true
   },
   "outputs": [],
   "source": [
    "import requests"
   ]
  },
  {
   "cell_type": "code",
   "execution_count": 6,
   "metadata": {
    "collapsed": true
   },
   "outputs": [],
   "source": [
    "#It's super useful to import the pprint function to interrogate the data structures that the functions are returning:\n",
    "import pprint\n",
    "\n",
    "#https://github.com/boscoh/uniprot"
   ]
  },
  {
   "cell_type": "code",
   "execution_count": null,
   "metadata": {
    "collapsed": true
   },
   "outputs": [],
   "source": [
    "#A convenience function is provided to read seqids and sequences from a fasta file:\n",
    "    #not relevant right now\n",
    "seqids, fastas = uniprot.read_fasta('example.fasta')"
   ]
  },
  {
   "cell_type": "code",
   "execution_count": 16,
   "metadata": {
    "collapsed": false
   },
   "outputs": [
    {
     "name": "stdout",
     "output_type": "stream",
     "text": [
      "Fetching metadata for 6 Uniprot IDs from http://uniprot.org ...\n",
      "Error in fetching metadata\n"
     ]
    },
    {
     "data": {
      "text/plain": [
       "{}"
      ]
     },
     "execution_count": 16,
     "metadata": {},
     "output_type": "execute_result"
    }
   ],
   "source": [
    "uniprot_seqids = KDM5s[0]\n",
    "uniprot_data = uniprot.batch_uniprot_metadata(\n",
    "    uniprot_seqids)\n",
    "#pprint.pprint(uniprot_data, indent=2)\n",
    "uniprot_data"
   ]
  },
  {
   "cell_type": "code",
   "execution_count": 17,
   "metadata": {
    "collapsed": false
   },
   "outputs": [
    {
     "name": "stdout",
     "output_type": "stream",
     "text": [
      "Fetching metadata for 3 Uniprot IDs from http://uniprot.org ...\n"
     ]
    },
    {
     "ename": "UnicodeEncodeError",
     "evalue": "'ascii' codec can't encode character u'\\xa0' in position 2586: ordinal not in range(128)",
     "output_type": "error",
     "traceback": [
      "\u001b[0;31m---------------------------------------------------------------------------\u001b[0m",
      "\u001b[0;31mUnicodeEncodeError\u001b[0m                        Traceback (most recent call last)",
      "\u001b[0;32m<ipython-input-17-8442b0173ad1>\u001b[0m in \u001b[0;36m<module>\u001b[0;34m()\u001b[0m\n\u001b[1;32m      1\u001b[0m \u001b[0muniprot_seqids\u001b[0m \u001b[1;33m=\u001b[0m \u001b[1;34m'A0QSU3 D9QCH6 A0QL36'\u001b[0m\u001b[1;33m.\u001b[0m\u001b[0msplit\u001b[0m\u001b[1;33m(\u001b[0m\u001b[1;33m)\u001b[0m\u001b[1;33m\u001b[0m\u001b[0m\n\u001b[1;32m      2\u001b[0m uniprot_data = uniprot.batch_uniprot_metadata(\n\u001b[0;32m----> 3\u001b[0;31m     uniprot_seqids, 'cache')\n\u001b[0m\u001b[1;32m      4\u001b[0m \u001b[0mpprint\u001b[0m\u001b[1;33m.\u001b[0m\u001b[0mpprint\u001b[0m\u001b[1;33m(\u001b[0m\u001b[0mmapping\u001b[0m\u001b[1;33m,\u001b[0m \u001b[0mindent\u001b[0m\u001b[1;33m=\u001b[0m\u001b[1;36m2\u001b[0m\u001b[1;33m)\u001b[0m\u001b[1;33m\u001b[0m\u001b[0m\n",
      "\u001b[0;32mC:\\Users\\David Brown\\Anaconda2\\lib\\site-packages\\uniprot.pyc\u001b[0m in \u001b[0;36mbatch_uniprot_metadata\u001b[0;34m(seqids, cache_dir, batch_size)\u001b[0m\n\u001b[1;32m    443\u001b[0m       \u001b[0msubset_cache\u001b[0m \u001b[1;33m=\u001b[0m \u001b[0mNone\u001b[0m\u001b[1;33m\u001b[0m\u001b[0m\n\u001b[1;32m    444\u001b[0m     metadata_subset = fetch_uniprot_metadata(\n\u001b[0;32m--> 445\u001b[0;31m         seqids_subset, cache_fname=subset_cache)\n\u001b[0m\u001b[1;32m    446\u001b[0m     \u001b[0mmetadata\u001b[0m\u001b[1;33m.\u001b[0m\u001b[0mupdate\u001b[0m\u001b[1;33m(\u001b[0m\u001b[0mmetadata_subset\u001b[0m\u001b[1;33m)\u001b[0m\u001b[1;33m\u001b[0m\u001b[0m\n\u001b[1;32m    447\u001b[0m     \u001b[0mi_seqid\u001b[0m \u001b[1;33m+=\u001b[0m \u001b[0mbatch_size\u001b[0m\u001b[1;33m\u001b[0m\u001b[0m\n",
      "\u001b[0;32mC:\\Users\\David Brown\\Anaconda2\\lib\\site-packages\\uniprot.pyc\u001b[0m in \u001b[0;36mfetch_uniprot_metadata\u001b[0;34m(seqids, cache_fname)\u001b[0m\n\u001b[1;32m    399\u001b[0m     \u001b[0mcache_txt\u001b[0m \u001b[1;33m=\u001b[0m \u001b[0mr\u001b[0m\u001b[1;33m.\u001b[0m\u001b[0mtext\u001b[0m\u001b[1;33m\u001b[0m\u001b[0m\n\u001b[1;32m    400\u001b[0m     \u001b[1;32mif\u001b[0m \u001b[0mcache_fname\u001b[0m\u001b[1;33m:\u001b[0m\u001b[1;33m\u001b[0m\u001b[0m\n\u001b[0;32m--> 401\u001b[0;31m       \u001b[0mopen\u001b[0m\u001b[1;33m(\u001b[0m\u001b[0mcache_fname\u001b[0m\u001b[1;33m,\u001b[0m \u001b[1;34m'w'\u001b[0m\u001b[1;33m)\u001b[0m\u001b[1;33m.\u001b[0m\u001b[0mwrite\u001b[0m\u001b[1;33m(\u001b[0m\u001b[0mr\u001b[0m\u001b[1;33m.\u001b[0m\u001b[0mtext\u001b[0m\u001b[1;33m)\u001b[0m\u001b[1;33m\u001b[0m\u001b[0m\n\u001b[0m\u001b[1;32m    402\u001b[0m     \u001b[1;32mif\u001b[0m \u001b[0mis_html\u001b[0m\u001b[1;33m(\u001b[0m\u001b[0mcache_txt\u001b[0m\u001b[1;33m)\u001b[0m\u001b[1;33m:\u001b[0m\u001b[1;33m\u001b[0m\u001b[0m\n\u001b[1;32m    403\u001b[0m       \u001b[1;31m# Got HTML response -> error\u001b[0m\u001b[1;33m\u001b[0m\u001b[1;33m\u001b[0m\u001b[0m\n",
      "\u001b[0;31mUnicodeEncodeError\u001b[0m: 'ascii' codec can't encode character u'\\xa0' in position 2586: ordinal not in range(128)"
     ]
    }
   ],
   "source": [
    "uniprot_seqids = 'A0QSU3 D9QCH6 A0QL36'.split()\n",
    "uniprot_data = uniprot.batch_uniprot_metadata(\n",
    "    uniprot_seqids, 'cache')\n",
    "pprint.pprint(mapping, indent=2)"
   ]
  },
  {
   "cell_type": "code",
   "execution_count": 21,
   "metadata": {
    "collapsed": false
   },
   "outputs": [
    {
     "ename": "ImportError",
     "evalue": "No module named Biopython",
     "output_type": "error",
     "traceback": [
      "\u001b[0;31m---------------------------------------------------------------------------\u001b[0m",
      "\u001b[0;31mImportError\u001b[0m                               Traceback (most recent call last)",
      "\u001b[0;32m<ipython-input-21-26438045ef85>\u001b[0m in \u001b[0;36m<module>\u001b[0;34m()\u001b[0m\n\u001b[0;32m----> 1\u001b[0;31m \u001b[1;32mimport\u001b[0m \u001b[0mBiopython\u001b[0m\u001b[1;33m\u001b[0m\u001b[0m\n\u001b[0m",
      "\u001b[0;31mImportError\u001b[0m: No module named Biopython"
     ]
    }
   ],
   "source": [
    "import Biopython"
   ]
  },
  {
   "cell_type": "code",
   "execution_count": 20,
   "metadata": {
    "collapsed": false
   },
   "outputs": [
    {
     "name": "stdout",
     "output_type": "stream",
     "text": [
      "Collecting Biopython\n",
      "  Downloading https://files.pythonhosted.org/packages/3e/d5/43f7178260773d77fb31942b17b07213d00828555890b02a3570900b2205/biopython-1.72-cp27-cp27m-win_amd64.whl (2.1MB)\n",
      "Requirement already satisfied (use --upgrade to upgrade): numpy in c:\\users\\david brown\\anaconda2\\lib\\site-packages (from Biopython)\n",
      "Installing collected packages: Biopython\n",
      "Successfully installed Biopython-1.72\n"
     ]
    },
    {
     "name": "stderr",
     "output_type": "stream",
     "text": [
      "You are using pip version 8.1.2, however version 10.0.1 is available.\n",
      "You should consider upgrading via the 'python -m pip install --upgrade pip' command.\n"
     ]
    }
   ],
   "source": [
    "!pip install Biopython"
   ]
  },
  {
   "cell_type": "code",
   "execution_count": 22,
   "metadata": {
    "collapsed": false
   },
   "outputs": [
    {
     "ename": "AttributeError",
     "evalue": "addinfourl instance has no attribute '__exit__'",
     "output_type": "error",
     "traceback": [
      "\u001b[0;31m---------------------------------------------------------------------------\u001b[0m",
      "\u001b[0;31mAttributeError\u001b[0m                            Traceback (most recent call last)",
      "\u001b[0;32m<ipython-input-22-10aa9b5d00b2>\u001b[0m in \u001b[0;36m<module>\u001b[0;34m()\u001b[0m\n\u001b[1;32m      1\u001b[0m \u001b[1;32mfrom\u001b[0m \u001b[0mBio\u001b[0m \u001b[1;32mimport\u001b[0m \u001b[0mExPASy\u001b[0m\u001b[1;33m\u001b[0m\u001b[0m\n\u001b[1;32m      2\u001b[0m \u001b[1;32mfrom\u001b[0m \u001b[0mBio\u001b[0m \u001b[1;32mimport\u001b[0m \u001b[0mSeqIO\u001b[0m\u001b[1;33m\u001b[0m\u001b[0m\n\u001b[0;32m----> 3\u001b[0;31m \u001b[1;32mwith\u001b[0m \u001b[0mExPASy\u001b[0m\u001b[1;33m.\u001b[0m\u001b[0mget_sprot_raw\u001b[0m\u001b[1;33m(\u001b[0m\u001b[1;34m\"O23729\"\u001b[0m\u001b[1;33m)\u001b[0m \u001b[1;32mas\u001b[0m \u001b[0mhandle\u001b[0m\u001b[1;33m:\u001b[0m\u001b[1;33m\u001b[0m\u001b[0m\n\u001b[0m\u001b[1;32m      4\u001b[0m     \u001b[0mseq_record\u001b[0m \u001b[1;33m=\u001b[0m \u001b[0mSeqIO\u001b[0m\u001b[1;33m.\u001b[0m\u001b[0mread\u001b[0m\u001b[1;33m(\u001b[0m\u001b[0mhandle\u001b[0m\u001b[1;33m,\u001b[0m \u001b[1;34m\"swiss\"\u001b[0m\u001b[1;33m)\u001b[0m\u001b[1;33m\u001b[0m\u001b[0m\n\u001b[1;32m      5\u001b[0m \u001b[1;32mprint\u001b[0m\u001b[1;33m(\u001b[0m\u001b[0mseq_record\u001b[0m\u001b[1;33m.\u001b[0m\u001b[0mid\u001b[0m\u001b[1;33m)\u001b[0m\u001b[1;33m\u001b[0m\u001b[0m\n",
      "\u001b[0;31mAttributeError\u001b[0m: addinfourl instance has no attribute '__exit__'"
     ]
    }
   ],
   "source": [
    "from Bio import ExPASy\n",
    "from Bio import SeqIO\n",
    "with ExPASy.get_sprot_raw(\"O23729\") as handle:\n",
    "    seq_record = SeqIO.read(handle, \"swiss\")\n",
    "print(seq_record.id)\n",
    "print(seq_record.name)\n",
    "print(seq_record.description)\n",
    "print(repr(seq_record.seq))\n",
    "print(\"Length %i\" % len(seq_record))\n",
    "print(seq_record.annotations[\"keywords\"])"
   ]
  },
  {
   "cell_type": "code",
   "execution_count": 23,
   "metadata": {
    "collapsed": true
   },
   "outputs": [],
   "source": [
    "from Bio import ExPASy"
   ]
  },
  {
   "cell_type": "code",
   "execution_count": 24,
   "metadata": {
    "collapsed": false
   },
   "outputs": [
    {
     "name": "stdout",
     "output_type": "stream",
     "text": [
      "Object `ExPaSy` not found.\n"
     ]
    }
   ],
   "source": [
    "?ExPaSy"
   ]
  },
  {
   "cell_type": "code",
   "execution_count": 27,
   "metadata": {
    "collapsed": false
   },
   "outputs": [
    {
     "name": "stdout",
     "output_type": "stream",
     "text": [
      "Help on module uniprot:\n",
      "\n",
      "NAME\n",
      "    uniprot - # Copyright (c) 2013, Bosco Ho. All rights reserved.\n",
      "\n",
      "FILE\n",
      "    c:\\users\\david brown\\anaconda2\\lib\\site-packages\\uniprot.py\n",
      "\n",
      "FUNCTIONS\n",
      "    batch_uniprot_id_mapping_pairs(from_type, to_type, seqids, batch_size=400, cache_dir=None)\n",
      "        Returns a list of matched pairs of identifiers.\n",
      "        Converts identifiers using above function 'get_uniprot_id_mapping_pairs'\n",
      "        but launches url requests in safe batches of 100 seqids at a time.\n",
      "        \n",
      "        from_type and to_type can be obtained from:\n",
      "          http://www.uniprot.org/faq/28#mapping-faq-table\n",
      "    \n",
      "    batch_uniprot_metadata(seqids, cache_dir=None, batch_size=400)\n",
      "        Returns a dictonary of the uniprot metadata (as parsed\n",
      "        by parse_uniprot_txt_file) of the given seqids. The seqids\n",
      "        must be valid uniprot identifiers.\n",
      "        \n",
      "        Now handles isoform versions of accession id's!\n",
      "    \n",
      "    fetch_uniprot_metadata(seqids, cache_fname=None)\n",
      "        Returns a dictonary of the uniprot metadata (as parsed\n",
      "        by parse_uniprot_txt_file) of the given seqids. The seqids\n",
      "        must be valid uniprot identifiers.\n",
      "        \n",
      "        Now handles isoform versions of accession id's!\n",
      "    \n",
      "    get_filtered_uniprot_metadata(seqids, cache_txt)\n",
      "        Returns a dictionary of uniprot data, but filters\n",
      "        seqids for uniprot identifiers by using a mapping call\n",
      "        to uniprot first.\n",
      "    \n",
      "    get_metadata_with_some_seqid_conversions(seqids, cache_dir=None)\n",
      "    \n",
      "    get_naked_seqid(seqid)\n",
      "    \n",
      "    get_uniprot_id_mapping_pairs(from_type, to_type, seqids, cache_fname=None, session=None)\n",
      "        Returns a list of matched pairs of identifiers.\n",
      "        \n",
      "        from_type and to_type can be obtained from:\n",
      "          http://www.uniprot.org/faq/28#mapping-faq-table\n",
      "    \n",
      "    is_ensembl(seqid)\n",
      "    \n",
      "    is_html(text)\n",
      "    \n",
      "    is_maybe_uniprot_id(seqid)\n",
      "    \n",
      "    is_refseq(seqid)\n",
      "    \n",
      "    is_sgd(seqid)\n",
      "    \n",
      "    is_text(seqid)\n",
      "    \n",
      "    is_uniprot(seqid)\n",
      "    \n",
      "    is_uniprot_variant(seqid)\n",
      "    \n",
      "    logging(s)\n",
      "    \n",
      "    parse_fasta_header(header, seqid_fn=None)\n",
      "        Parses a FASTA format header (with our without the initial '>').\n",
      "        \n",
      "        If NCBI SeqID format (gi|gi-number|gb|accession etc, is detected\n",
      "        the first id in the list is used as the canonical id (see see\n",
      "        http://www.ncbi.nlm.nih.gov/books/NBK21097/#A631 ).\n",
      "        \n",
      "        Extra processing to parse the seqid can be provided\n",
      "        by giving a seqid_fn function.\n",
      "        \n",
      "        Returns a tuple of sequence id and sequence name/description.\n",
      "    \n",
      "    parse_isoforms(text)\n",
      "        Returns a dictionary of uniprot_acc and entries.\n",
      "        \n",
      "        Each entry contains:\n",
      "          - var_seq: the sequence variations in the file\n",
      "          - isoforms: the interpreted isoform sequences with\n",
      "                      the seqids\n",
      "    \n",
      "    parse_uniprot_metadata_with_seqids(seqids, cache_txt)\n",
      "        Returns a dictionary of metadata of given seqids, doing the requisite\n",
      "        lookup of seqids in the ACCs and IDs, and more importantly handles\n",
      "        isoform seqid's\n",
      "    \n",
      "    parse_uniprot_txt_file(cache_txt)\n",
      "        Parses the text of metadata retrieved from uniprot.org.\n",
      "        \n",
      "        Only a few fields have been parsed, but this provides a\n",
      "        template for the other fields.\n",
      "        \n",
      "        A single description is generated from joining alternative\n",
      "        descriptions.\n",
      "        \n",
      "        Returns a dictionary with the main UNIPROT ACC as keys.\n",
      "    \n",
      "    probe_id_type(entries, is_id_fn, name, uniprot_mapping_type, cache_fname)\n",
      "    \n",
      "    read_fasta(fasta_db, seqid_fn=None)\n",
      "        Parses a fasta database file. Warning: will be slow for very large\n",
      "        databases. In that case, it would be better to use\n",
      "        read_selected_fasta() instead.\n",
      "        \n",
      "        Returns a lsit of seqids encountered, and a dictionary\n",
      "        of sequences for each seqid.\n",
      "    \n",
      "    read_selected_fasta(seqids, fasta_db, seqid_fn=None)\n",
      "        Extracts protein sequences from a fasta database, given\n",
      "        a list of desired seqids. A seqid_fn can be given that\n",
      "        parses both the input seqids and the seqid in the fasta\n",
      "        file to faciliate matching, but the keys in the returned\n",
      "        structure corresponds to entries in 'seqids'.\n",
      "    \n",
      "    sort_seqids_by_uniprot(seqids, uniprot_data)\n",
      "        Returns a sorted list of seqids such that longest proteins that are\n",
      "        reviewed appear first in the list.\n",
      "    \n",
      "    write_fasta(fasta_fname, proteins, seqids, width=50)\n",
      "        Creates a fasta file of the sequences of a subset of the proteins.\n",
      "\n",
      "\n"
     ]
    }
   ],
   "source": [
    "help(uniprot)"
   ]
  },
  {
   "cell_type": "code",
   "execution_count": 31,
   "metadata": {
    "collapsed": false
   },
   "outputs": [
    {
     "data": {
      "text/plain": [
       "True"
      ]
     },
     "execution_count": 31,
     "metadata": {},
     "output_type": "execute_result"
    }
   ],
   "source": [
    "#Check id is valid\n",
    "uniprot.is_uniprot(\"Q3UXZ9\")"
   ]
  },
  {
   "cell_type": "code",
   "execution_count": null,
   "metadata": {
    "collapsed": true
   },
   "outputs": [],
   "source": [
    "#Times out\n",
    "temp = uniprot.fetch_uniprot_metadata([\"Q3UXZ9\"], cache_fname=None)"
   ]
  },
  {
   "cell_type": "code",
   "execution_count": 40,
   "metadata": {
    "collapsed": false
   },
   "outputs": [
    {
     "ename": "TypeError",
     "evalue": "coercing to Unicode: need string or buffer, module found",
     "output_type": "error",
     "traceback": [
      "\u001b[0;31m---------------------------------------------------------------------------\u001b[0m",
      "\u001b[0;31mTypeError\u001b[0m                                 Traceback (most recent call last)",
      "\u001b[0;32m<ipython-input-40-a13e25c24a86>\u001b[0m in \u001b[0;36m<module>\u001b[0;34m()\u001b[0m\n\u001b[1;32m      3\u001b[0m \u001b[1;33m\u001b[0m\u001b[0m\n\u001b[1;32m      4\u001b[0m \u001b[1;31m#temp = uniprot.read_selected_fasta(seqids, fasta_db, seqid_fn=None)\u001b[0m\u001b[1;33m\u001b[0m\u001b[1;33m\u001b[0m\u001b[0m\n\u001b[0;32m----> 5\u001b[0;31m \u001b[0mtemp\u001b[0m \u001b[1;33m=\u001b[0m \u001b[0muniprot\u001b[0m\u001b[1;33m.\u001b[0m\u001b[0mread_selected_fasta\u001b[0m\u001b[1;33m(\u001b[0m\u001b[0mseqids\u001b[0m\u001b[1;33m,\u001b[0m \u001b[0muniprot\u001b[0m\u001b[1;33m,\u001b[0m \u001b[0mseqid_fn\u001b[0m\u001b[1;33m=\u001b[0m\u001b[0mNone\u001b[0m\u001b[1;33m)\u001b[0m\u001b[1;33m\u001b[0m\u001b[0m\n\u001b[0m",
      "\u001b[0;32mC:\\Users\\David Brown\\Anaconda2\\lib\\site-packages\\uniprot.pyc\u001b[0m in \u001b[0;36mread_selected_fasta\u001b[0;34m(seqids, fasta_db, seqid_fn)\u001b[0m\n\u001b[1;32m    695\u001b[0m     \u001b[0moriginal_seqid_map\u001b[0m \u001b[1;33m=\u001b[0m \u001b[1;33m{\u001b[0m \u001b[0mseqid_fn\u001b[0m\u001b[1;33m(\u001b[0m\u001b[0ms\u001b[0m\u001b[1;33m)\u001b[0m\u001b[1;33m:\u001b[0m\u001b[0ms\u001b[0m \u001b[1;32mfor\u001b[0m \u001b[0ms\u001b[0m \u001b[1;32min\u001b[0m \u001b[0mseqids\u001b[0m \u001b[1;33m}\u001b[0m\u001b[1;33m\u001b[0m\u001b[0m\n\u001b[1;32m    696\u001b[0m     \u001b[0mseqids\u001b[0m \u001b[1;33m=\u001b[0m \u001b[0moriginal_seqid_map\u001b[0m\u001b[1;33m.\u001b[0m\u001b[0mkeys\u001b[0m\u001b[1;33m(\u001b[0m\u001b[1;33m)\u001b[0m\u001b[1;33m\u001b[0m\u001b[0m\n\u001b[0;32m--> 697\u001b[0;31m   \u001b[1;32mfor\u001b[0m \u001b[0mi\u001b[0m\u001b[1;33m,\u001b[0m \u001b[0mline\u001b[0m \u001b[1;32min\u001b[0m \u001b[0menumerate\u001b[0m\u001b[1;33m(\u001b[0m\u001b[0mopen\u001b[0m\u001b[1;33m(\u001b[0m\u001b[0mfasta_db\u001b[0m\u001b[1;33m)\u001b[0m\u001b[1;33m)\u001b[0m\u001b[1;33m:\u001b[0m\u001b[1;33m\u001b[0m\u001b[0m\n\u001b[0m\u001b[1;32m    698\u001b[0m     \u001b[1;32mif\u001b[0m \u001b[0mline\u001b[0m\u001b[1;33m.\u001b[0m\u001b[0mstartswith\u001b[0m\u001b[1;33m(\u001b[0m\u001b[1;34m\">\"\u001b[0m\u001b[1;33m)\u001b[0m\u001b[1;33m:\u001b[0m\u001b[1;33m\u001b[0m\u001b[0m\n\u001b[1;32m    699\u001b[0m       \u001b[0mfasta_seqid\u001b[0m\u001b[1;33m,\u001b[0m \u001b[0mdescription\u001b[0m \u001b[1;33m=\u001b[0m\u001b[0;31m \u001b[0m\u001b[0;31m\\\u001b[0m\u001b[1;33m\u001b[0m\u001b[0m\n",
      "\u001b[0;31mTypeError\u001b[0m: coercing to Unicode: need string or buffer, module found"
     ]
    }
   ],
   "source": [
    "#How about fetching specific fields e.g. sequence\n",
    "seqids=[\"Q3UXZ9\"]\n",
    "\n",
    "#temp = uniprot.read_selected_fasta(seqids, fasta_db, seqid_fn=None)\n",
    "temp = uniprot.read_selected_fasta(seqids, uniprot, seqid_fn=None)"
   ]
  },
  {
   "cell_type": "code",
   "execution_count": 39,
   "metadata": {
    "collapsed": false
   },
   "outputs": [
    {
     "name": "stdout",
     "output_type": "stream",
     "text": [
      "Fetching metadata for 1 Uniprot IDs from http://uniprot.org ...\n",
      "Error in fetching metadata\n"
     ]
    }
   ],
   "source": [
    "temp=uniprot.fetch_uniprot_metadata(seqids, cache_fname=None)"
   ]
  },
  {
   "cell_type": "code",
   "execution_count": 41,
   "metadata": {
    "collapsed": false
   },
   "outputs": [
    {
     "name": "stdout",
     "output_type": "stream",
     "text": [
      "Object `cache_fname` not found.\n"
     ]
    }
   ],
   "source": [
    "?cache_fname"
   ]
  },
  {
   "cell_type": "code",
   "execution_count": 43,
   "metadata": {
    "collapsed": false
   },
   "outputs": [
    {
     "ename": "AttributeError",
     "evalue": "'module' object has no attribute 'cache_fname'",
     "output_type": "error",
     "traceback": [
      "\u001b[0;31m---------------------------------------------------------------------------\u001b[0m",
      "\u001b[0;31mAttributeError\u001b[0m                            Traceback (most recent call last)",
      "\u001b[0;32m<ipython-input-43-af50362f4bcc>\u001b[0m in \u001b[0;36m<module>\u001b[0;34m()\u001b[0m\n\u001b[0;32m----> 1\u001b[0;31m \u001b[0mhelp\u001b[0m\u001b[1;33m(\u001b[0m\u001b[0muniprot\u001b[0m\u001b[1;33m.\u001b[0m\u001b[0mcache_fname\u001b[0m\u001b[1;33m)\u001b[0m\u001b[1;33m\u001b[0m\u001b[0m\n\u001b[0m",
      "\u001b[0;31mAttributeError\u001b[0m: 'module' object has no attribute 'cache_fname'"
     ]
    }
   ],
   "source": [
    "help(uniprot.cache_fname)"
   ]
  },
  {
   "cell_type": "code",
   "execution_count": 60,
   "metadata": {
    "collapsed": false
   },
   "outputs": [
    {
     "ename": "IOError",
     "evalue": "[Errno 2] No such file or directory: 'uniprot_sprot.dat'",
     "output_type": "error",
     "traceback": [
      "\u001b[0;31m---------------------------------------------------------------------------\u001b[0m",
      "\u001b[0;31mIOError\u001b[0m                                   Traceback (most recent call last)",
      "\u001b[0;32m<ipython-input-60-6a03de90085a>\u001b[0m in \u001b[0;36m<module>\u001b[0;34m()\u001b[0m\n\u001b[1;32m      1\u001b[0m \u001b[1;32mfrom\u001b[0m \u001b[0mBio\u001b[0m \u001b[1;32mimport\u001b[0m \u001b[0mSeqIO\u001b[0m\u001b[1;33m\u001b[0m\u001b[0m\n\u001b[0;32m----> 2\u001b[0;31m \u001b[0muniprot\u001b[0m \u001b[1;33m=\u001b[0m \u001b[0mSeqIO\u001b[0m\u001b[1;33m.\u001b[0m\u001b[0mindex\u001b[0m\u001b[1;33m(\u001b[0m\u001b[1;34m\"uniprot_sprot.dat\"\u001b[0m\u001b[1;33m,\u001b[0m \u001b[1;34m\"swiss\"\u001b[0m\u001b[1;33m)\u001b[0m\u001b[1;33m\u001b[0m\u001b[0m\n\u001b[0m\u001b[1;32m      3\u001b[0m \u001b[0mhandle\u001b[0m \u001b[1;33m=\u001b[0m \u001b[0mopen\u001b[0m\u001b[1;33m(\u001b[0m\u001b[1;34m\"selected.dat\"\u001b[0m\u001b[1;33m,\u001b[0m \u001b[1;34m\"w\"\u001b[0m\u001b[1;33m)\u001b[0m\u001b[1;33m\u001b[0m\u001b[0m\n\u001b[1;32m      4\u001b[0m \u001b[1;32mfor\u001b[0m \u001b[0macc\u001b[0m \u001b[1;32min\u001b[0m \u001b[1;33m[\u001b[0m\u001b[1;34m\"P33487\"\u001b[0m\u001b[1;33m,\u001b[0m \u001b[1;34m\"P19801\"\u001b[0m\u001b[1;33m,\u001b[0m \u001b[1;34m\"P13689\"\u001b[0m\u001b[1;33m,\u001b[0m \u001b[1;34m\"Q8JZQ5\"\u001b[0m\u001b[1;33m,\u001b[0m \u001b[1;34m\"Q9TRC7\"\u001b[0m\u001b[1;33m]\u001b[0m\u001b[1;33m:\u001b[0m\u001b[1;33m\u001b[0m\u001b[0m\n\u001b[1;32m      5\u001b[0m     \u001b[0mhandle\u001b[0m\u001b[1;33m.\u001b[0m\u001b[0mwrite\u001b[0m\u001b[1;33m(\u001b[0m\u001b[0muniprot\u001b[0m\u001b[1;33m.\u001b[0m\u001b[0mget_raw\u001b[0m\u001b[1;33m(\u001b[0m\u001b[0macc\u001b[0m\u001b[1;33m)\u001b[0m\u001b[1;33m)\u001b[0m\u001b[1;33m\u001b[0m\u001b[0m\n",
      "\u001b[0;32mC:\\Users\\David Brown\\Anaconda2\\lib\\site-packages\\Bio\\SeqIO\\__init__.pyc\u001b[0m in \u001b[0;36mindex\u001b[0;34m(filename, format, alphabet, key_function)\u001b[0m\n\u001b[1;32m    908\u001b[0m     \u001b[0mrepr\u001b[0m \u001b[1;33m=\u001b[0m \u001b[1;34m\"SeqIO.index(%r, %r, alphabet=%r, key_function=%r)\"\u001b[0m\u001b[0;31m \u001b[0m\u001b[0;31m\\\u001b[0m\u001b[1;33m\u001b[0m\u001b[0m\n\u001b[1;32m    909\u001b[0m         \u001b[1;33m%\u001b[0m \u001b[1;33m(\u001b[0m\u001b[0mfilename\u001b[0m\u001b[1;33m,\u001b[0m \u001b[0mformat\u001b[0m\u001b[1;33m,\u001b[0m \u001b[0malphabet\u001b[0m\u001b[1;33m,\u001b[0m \u001b[0mkey_function\u001b[0m\u001b[1;33m)\u001b[0m\u001b[1;33m\u001b[0m\u001b[0m\n\u001b[0;32m--> 910\u001b[0;31m     return _IndexedSeqFileDict(proxy_class(filename, format, alphabet),\n\u001b[0m\u001b[1;32m    911\u001b[0m                                key_function, repr, \"SeqRecord\")\n\u001b[1;32m    912\u001b[0m \u001b[1;33m\u001b[0m\u001b[0m\n",
      "\u001b[0;32mC:\\Users\\David Brown\\Anaconda2\\lib\\site-packages\\Bio\\SeqIO\\_index.pyc\u001b[0m in \u001b[0;36m__init__\u001b[0;34m(self, filename, format, alphabet)\u001b[0m\n\u001b[1;32m    174\u001b[0m     \u001b[1;32mdef\u001b[0m \u001b[0m__init__\u001b[0m\u001b[1;33m(\u001b[0m\u001b[0mself\u001b[0m\u001b[1;33m,\u001b[0m \u001b[0mfilename\u001b[0m\u001b[1;33m,\u001b[0m \u001b[0mformat\u001b[0m\u001b[1;33m,\u001b[0m \u001b[0malphabet\u001b[0m\u001b[1;33m)\u001b[0m\u001b[1;33m:\u001b[0m\u001b[1;33m\u001b[0m\u001b[0m\n\u001b[1;32m    175\u001b[0m         \u001b[1;34m\"\"\"Initialize the class.\"\"\"\u001b[0m\u001b[1;33m\u001b[0m\u001b[0m\n\u001b[0;32m--> 176\u001b[0;31m         \u001b[0mSeqFileRandomAccess\u001b[0m\u001b[1;33m.\u001b[0m\u001b[0m__init__\u001b[0m\u001b[1;33m(\u001b[0m\u001b[0mself\u001b[0m\u001b[1;33m,\u001b[0m \u001b[0mfilename\u001b[0m\u001b[1;33m,\u001b[0m \u001b[0mformat\u001b[0m\u001b[1;33m,\u001b[0m \u001b[0malphabet\u001b[0m\u001b[1;33m)\u001b[0m\u001b[1;33m\u001b[0m\u001b[0m\n\u001b[0m\u001b[1;32m    177\u001b[0m         marker = {\"ace\": b\"CO \",\n\u001b[1;32m    178\u001b[0m                   \u001b[1;34m\"embl\"\u001b[0m\u001b[1;33m:\u001b[0m \u001b[1;34mb\"ID \"\u001b[0m\u001b[1;33m,\u001b[0m\u001b[1;33m\u001b[0m\u001b[0m\n",
      "\u001b[0;32mC:\\Users\\David Brown\\Anaconda2\\lib\\site-packages\\Bio\\SeqIO\\_index.pyc\u001b[0m in \u001b[0;36m__init__\u001b[0;34m(self, filename, format, alphabet)\u001b[0m\n\u001b[1;32m     42\u001b[0m     \u001b[1;32mdef\u001b[0m \u001b[0m__init__\u001b[0m\u001b[1;33m(\u001b[0m\u001b[0mself\u001b[0m\u001b[1;33m,\u001b[0m \u001b[0mfilename\u001b[0m\u001b[1;33m,\u001b[0m \u001b[0mformat\u001b[0m\u001b[1;33m,\u001b[0m \u001b[0malphabet\u001b[0m\u001b[1;33m)\u001b[0m\u001b[1;33m:\u001b[0m\u001b[1;33m\u001b[0m\u001b[0m\n\u001b[1;32m     43\u001b[0m         \u001b[1;34m\"\"\"Initialize the class.\"\"\"\u001b[0m\u001b[1;33m\u001b[0m\u001b[0m\n\u001b[0;32m---> 44\u001b[0;31m         \u001b[0mself\u001b[0m\u001b[1;33m.\u001b[0m\u001b[0m_handle\u001b[0m \u001b[1;33m=\u001b[0m \u001b[0m_open_for_random_access\u001b[0m\u001b[1;33m(\u001b[0m\u001b[0mfilename\u001b[0m\u001b[1;33m)\u001b[0m\u001b[1;33m\u001b[0m\u001b[0m\n\u001b[0m\u001b[1;32m     45\u001b[0m         \u001b[0mself\u001b[0m\u001b[1;33m.\u001b[0m\u001b[0m_alphabet\u001b[0m \u001b[1;33m=\u001b[0m \u001b[0malphabet\u001b[0m\u001b[1;33m\u001b[0m\u001b[0m\n\u001b[1;32m     46\u001b[0m         \u001b[0mself\u001b[0m\u001b[1;33m.\u001b[0m\u001b[0m_format\u001b[0m \u001b[1;33m=\u001b[0m \u001b[0mformat\u001b[0m\u001b[1;33m\u001b[0m\u001b[0m\n",
      "\u001b[0;32mC:\\Users\\David Brown\\Anaconda2\\lib\\site-packages\\Bio\\File.pyc\u001b[0m in \u001b[0;36m_open_for_random_access\u001b[0;34m(filename)\u001b[0m\n\u001b[1;32m    111\u001b[0m     \u001b[1;32mand\u001b[0m \u001b[0mindex_db\u001b[0m \u001b[0mfunctions\u001b[0m\u001b[1;33m.\u001b[0m\u001b[1;33m\u001b[0m\u001b[0m\n\u001b[1;32m    112\u001b[0m     \"\"\"\n\u001b[0;32m--> 113\u001b[0;31m     \u001b[0mhandle\u001b[0m \u001b[1;33m=\u001b[0m \u001b[0mopen\u001b[0m\u001b[1;33m(\u001b[0m\u001b[0mfilename\u001b[0m\u001b[1;33m,\u001b[0m \u001b[1;34m\"rb\"\u001b[0m\u001b[1;33m)\u001b[0m\u001b[1;33m\u001b[0m\u001b[0m\n\u001b[0m\u001b[1;32m    114\u001b[0m     \u001b[1;32mfrom\u001b[0m \u001b[1;33m.\u001b[0m \u001b[1;32mimport\u001b[0m \u001b[0mbgzf\u001b[0m\u001b[1;33m\u001b[0m\u001b[0m\n\u001b[1;32m    115\u001b[0m     \u001b[1;32mtry\u001b[0m\u001b[1;33m:\u001b[0m\u001b[1;33m\u001b[0m\u001b[0m\n",
      "\u001b[0;31mIOError\u001b[0m: [Errno 2] No such file or directory: 'uniprot_sprot.dat'"
     ]
    }
   ],
   "source": [
    "##Alternative approach from \n",
    "#https://stackoverflow.com/questions/14272752/how-to-edit-information-of-uniprot-downloads-either-txt-or-xml \n",
    "\n",
    "from Bio import SeqIO\n",
    "uniprot = SeqIO.index(\"uniprot_sprot.dat\", \"swiss\")\n",
    "handle = open(\"selected.dat\", \"w\")\n",
    "for acc in [\"P33487\", \"P19801\", \"P13689\", \"Q8JZQ5\", \"Q9TRC7\"]:\n",
    "    handle.write(uniprot.get_raw(acc))\n",
    "handle.close()"
   ]
  },
  {
   "cell_type": "code",
   "execution_count": 61,
   "metadata": {
    "collapsed": false
   },
   "outputs": [
    {
     "name": "stdout",
     "output_type": "stream",
     "text": [
      "Object `UniProt` not found.\n"
     ]
    }
   ],
   "source": [
    "?UniProt"
   ]
  },
  {
   "cell_type": "code",
   "execution_count": 50,
   "metadata": {
    "collapsed": false
   },
   "outputs": [],
   "source": [
    ">>> from Bio import ExPASy\n",
    ">>> from Bio import SwissProt\n",
    "\n",
    ">>> accessions = KDM5s\n",
    ">>> records = []\n",
    "\n",
    ">>> for accession in accessions:\n",
    "...     handle = ExPASy.get_sprot_raw(accession)\n",
    "...     record = SwissProt.read(handle)\n",
    "...     records.append(record)"
   ]
  },
  {
   "cell_type": "code",
   "execution_count": 55,
   "metadata": {
    "collapsed": false
   },
   "outputs": [
    {
     "data": {
      "text/plain": [
       "[<Bio.SwissProt.Record at 0x89b9e48>,\n",
       " <Bio.SwissProt.Record at 0x6ec0748>,\n",
       " <Bio.SwissProt.Record at 0x89e4a90>,\n",
       " <Bio.SwissProt.Record at 0x62a7080>,\n",
       " <Bio.SwissProt.Record at 0x897f7f0>,\n",
       " <Bio.SwissProt.Record at 0x89e4e10>,\n",
       " <Bio.SwissProt.Record at 0x89bd2e8>,\n",
       " <Bio.SwissProt.Record at 0x89bccf8>,\n",
       " <Bio.SwissProt.Record at 0x89a5748>,\n",
       " <Bio.SwissProt.Record at 0x89bce48>,\n",
       " <Bio.SwissProt.Record at 0x8a0b9b0>,\n",
       " <Bio.SwissProt.Record at 0x8a0bf60>,\n",
       " <Bio.SwissProt.Record at 0x6e96a58>,\n",
       " <Bio.SwissProt.Record at 0x8a2bbe0>,\n",
       " <Bio.SwissProt.Record at 0x89b9588>,\n",
       " <Bio.SwissProt.Record at 0x8bc06d8>,\n",
       " <Bio.SwissProt.Record at 0x8bcf630>,\n",
       " <Bio.SwissProt.Record at 0x8bcfb00>,\n",
       " <Bio.SwissProt.Record at 0x8c2fc18>,\n",
       " <Bio.SwissProt.Record at 0x8c366d8>]"
      ]
     },
     "execution_count": 55,
     "metadata": {},
     "output_type": "execute_result"
    }
   ],
   "source": [
    "records"
   ]
  },
  {
   "cell_type": "code",
   "execution_count": 64,
   "metadata": {
    "collapsed": false
   },
   "outputs": [
    {
     "name": "stdout",
     "output_type": "stream",
     "text": [
      "KDM5A_MOUSE\n",
      "Q3UXZ9,Q3TM94,Q3UMI5,Q66JZ3\n",
      "['Activator', 'Biological rhythms', 'Chromatin regulator', 'Complete proteome', 'Developmental protein', 'Dioxygenase', 'Direct protein sequencing', 'Iron', 'Isopeptide bond', 'Metal-binding', 'Nucleus', 'Oxidoreductase', 'Phosphoprotein', 'Reference proteome', 'Repeat', 'Transcription', 'Transcription regulation', 'Ubl conjugation', 'Zinc', 'Zinc-finger']\n",
      "'Mus musculus (Mouse).'\n",
      "MASVGPGGYAAEFVPPPECP...\n",
      "KDM5C_CANLF\n",
      "Q38JA7\n",
      "['Biological rhythms', 'Chromatin regulator', 'Complete proteome', 'Dioxygenase', 'Iron', 'Isopeptide bond', 'Metal-binding', 'Nucleus', 'Oxidoreductase', 'Phosphoprotein', 'Reference proteome', 'Repeat', 'Repressor', 'Transcription', 'Transcription regulation', 'Ubl conjugation', 'Zinc', 'Zinc-finger']\n",
      "'Canis lupus familiaris (Dog) (Canis familiaris).'\n",
      "MEPGSDDFLPPPECPVFEPS...\n",
      "KDM5D_CANLF\n",
      "Q30DN6\n",
      "['Chromatin regulator', 'Complete proteome', 'Dioxygenase', 'Iron', 'Isopeptide bond', 'Metal-binding', 'Nucleus', 'Oxidoreductase', 'Phosphoprotein', 'Reference proteome', 'Repeat', 'Ubl conjugation', 'Zinc', 'Zinc-finger']\n",
      "'Canis lupus familiaris (Dog) (Canis familiaris).'\n",
      "MESGSDDFLPPPECPVFEPT...\n",
      "KDM5D_MOUSE\n",
      "Q62240,Q3US03,Q6PCX3,Q9QVR9,Q9R040\n",
      "['Alternative splicing', 'Chromatin regulator', 'Complete proteome', 'Dioxygenase', 'Iron', 'Isopeptide bond', 'Metal-binding', 'Nucleus', 'Oxidoreductase', 'Phosphoprotein', 'Reference proteome', 'Repeat', 'Transcription', 'Transcription regulation', 'Ubl conjugation', 'Zinc', 'Zinc-finger']\n",
      "'Mus musculus (Mouse).'\n",
      "MKPGSDDFLPPPECPVFEPS...\n",
      "KDM5B_CHICK\n",
      "Q5F3R2\n",
      "['Biological rhythms', 'Chromatin regulator', 'Complete proteome', 'Dioxygenase', 'Iron', 'Metal-binding', 'Nucleus', 'Oxidoreductase', 'Reference proteome', 'Repeat', 'Repressor', 'Transcription', 'Transcription regulation', 'Zinc', 'Zinc-finger']\n",
      "'Gallus gallus (Chicken).'\n",
      "MAEFLPPPECPVFEPSWEEF...\n",
      "KDM5B_MOUSE\n",
      "Q80Y84,Q5DTR9,Q8BLU1,Q8JZL8\n",
      "['3D-structure', 'Acetylation', 'Alternative splicing', 'Biological rhythms', 'Chromatin regulator', 'Complete proteome', 'Dioxygenase', 'Iron', 'Isopeptide bond', 'Metal-binding', 'Nucleus', 'Oxidoreductase', 'Phosphoprotein', 'Reference proteome', 'Repeat', 'Repressor', 'Transcription', 'Transcription regulation', 'Ubl conjugation', 'Zinc', 'Zinc-finger']\n",
      "'Mus musculus (Mouse).'\n",
      "MEPATTLPPGPRPALPLGGP...\n",
      "KDM5C_PIG\n",
      "A1YVX4\n",
      "['Chromatin regulator', 'Complete proteome', 'Dioxygenase', 'Iron', 'Isopeptide bond', 'Metal-binding', 'Nucleus', 'Oxidoreductase', 'Phosphoprotein', 'Reference proteome', 'Repeat', 'Transcription', 'Transcription regulation', 'Ubl conjugation', 'Zinc', 'Zinc-finger']\n",
      "'Sus scrofa (Pig).'\n",
      "MEPGSDDFLPPPECPVFEPS...\n",
      "KDM5_CAEBR\n",
      "Q61T02,A8X185\n",
      "['Chromatin regulator', 'Coiled coil', 'Complete proteome', 'Dioxygenase', 'Iron', 'Metal-binding', 'Nucleus', 'Oxidoreductase', 'Reference proteome', 'Repeat', 'Transcription', 'Transcription regulation', 'Zinc', 'Zinc-finger']\n",
      "'Caenorhabditis briggsae.'\n",
      "MRGRRQEDIATTSSAPSTST...\n",
      "KDM5_DROME\n",
      "Q9VMJ7\n",
      "['3D-structure', 'Biological rhythms', 'Chromatin regulator', 'Coiled coil', 'Complete proteome', 'Developmental protein', 'Dioxygenase', 'Iron', 'Metal-binding', 'Nucleus', 'Oxidoreductase', 'Phosphoprotein', 'Reference proteome', 'Repeat', 'Transcription', 'Transcription regulation', 'Zinc', 'Zinc-finger']\n",
      "'Drosophila melanogaster (Fruit fly).'\n",
      "MSAKTEADNTTAANSGGGGV...\n",
      "KDM5C_CRIGR\n",
      "P41228\n",
      "['Biological rhythms', 'Chromatin regulator', 'Dioxygenase', 'Iron', 'Metal-binding', 'Nucleus', 'Oxidoreductase', 'Phosphoprotein', 'Repeat', 'Repressor', 'Transcription', 'Transcription regulation']\n",
      "'Cricetulus griseus (Chinese hamster) (Cricetulus barabensis griseus).'\n",
      "QDWFHGRCVTVPRLLSSQRP...\n",
      "KDM5C_HUMAN\n",
      "P41229,B0QZ44,B4E3I2,F5H3T1,Q5JUX3,Q5JUX4,Q5JUX5,Q7Z5S5\n",
      "['3D-structure', 'Alternative splicing', 'Biological rhythms', 'Chromatin regulator', 'Complete proteome', 'Dioxygenase', 'Disease mutation', 'Iron', 'Isopeptide bond', 'Mental retardation', 'Metal-binding', 'Nucleus', 'Oxidoreductase', 'Phosphoprotein', 'Reference proteome', 'Repeat', 'Repressor', 'Transcription', 'Transcription regulation', 'Ubl conjugation', 'Zinc', 'Zinc-finger']\n",
      "'Homo sapiens (Human).'\n",
      "MEPGSDDFLPPPECPVFEPS...\n",
      "KDM5D_PANTR\n",
      "Q5XUN4\n",
      "['Chromatin regulator', 'Complete proteome', 'Dioxygenase', 'Iron', 'Isopeptide bond', 'Metal-binding', 'Nucleus', 'Oxidoreductase', 'Phosphoprotein', 'Reference proteome', 'Repeat', 'Ubl conjugation', 'Zinc', 'Zinc-finger']\n",
      "'Pan troglodytes (Chimpanzee).'\n",
      "MEPGCNEFLPPPECPVFEPS...\n",
      "KDM5_CAEEL\n",
      "Q23541\n",
      "['Chromatin regulator', 'Coiled coil', 'Complete proteome', 'Dioxygenase', 'Iron', 'Metal-binding', 'Nucleus', 'Oxidoreductase', 'Reference proteome', 'Repeat', 'Transcription', 'Transcription regulation', 'Zinc', 'Zinc-finger']\n",
      "'Caenorhabditis elegans.'\n",
      "MRARRQENSISTPSAPSTST...\n",
      "KDM5A_HUMAN\n",
      "P29375,A8MV76,Q4LE72,Q86XZ1\n",
      "['3D-structure', 'Activator', 'Alternative splicing', 'Biological rhythms', 'Chromatin regulator', 'Complete proteome', 'Developmental protein', 'Dioxygenase', 'Iron', 'Isopeptide bond', 'Metal-binding', 'Nucleus', 'Oxidoreductase', 'Phosphoprotein', 'Polymorphism', 'Reference proteome', 'Repeat', 'Transcription', 'Transcription regulation', 'Ubl conjugation', 'Zinc', 'Zinc-finger']\n",
      "'Homo sapiens (Human).'\n",
      "MAGVGPGGYAAEFVPPPECP...\n",
      "KDM5B_HUMAN\n",
      "Q9UGL1,O95811,Q15752,Q9Y3Q5\n",
      "['3D-structure', 'Acetylation', 'Alternative splicing', 'Biological rhythms', 'Chromatin regulator', 'Complete proteome', 'Dioxygenase', 'Iron', 'Isopeptide bond', 'Metal-binding', 'Nucleus', 'Oxidoreductase', 'Phosphoprotein', 'Reference proteome', 'Repeat', 'Repressor', 'Transcription', 'Transcription regulation', 'Ubl conjugation', 'Zinc', 'Zinc-finger']\n",
      "'Homo sapiens (Human).'\n",
      "MEAATTLHPGPRPALPLGGP...\n",
      "KDM5C_MOUSE\n",
      "P41230,O54995,Q3TYU8,Q3U1X6,Q3U282,Q6ZQF8,Q80XQ9,Q9CVI4,Q9D0C3,Q9QVR8,Q9R039\n",
      "['Alternative splicing', 'Biological rhythms', 'Chromatin regulator', 'Complete proteome', 'Dioxygenase', 'Iron', 'Isopeptide bond', 'Metal-binding', 'Nucleus', 'Oxidoreductase', 'Phosphoprotein', 'Reference proteome', 'Repeat', 'Repressor', 'Transcription', 'Transcription regulation', 'Ubl conjugation', 'Zinc', 'Zinc-finger']\n",
      "'Mus musculus (Mouse).'\n",
      "MELGSDDFLPPPECPVFEPS...\n",
      "KDM5D_HUMAN\n",
      "Q9BY66,A2RU19,A6H8V7,B7ZLX1,Q92509,Q92809,Q9HCU1\n",
      "['3D-structure', 'Alternative splicing', 'Chromatin regulator', 'Complete proteome', 'Dioxygenase', 'Iron', 'Isopeptide bond', 'Metal-binding', 'Nucleus', 'Oxidoreductase', 'Phosphoprotein', 'Polymorphism', 'Reference proteome', 'Repeat', 'Transcription', 'Transcription regulation', 'Ubl conjugation', 'Zinc', 'Zinc-finger']\n",
      "'Homo sapiens (Human).'\n",
      "MEPGCDEFLPPPECPVFEPS...\n",
      "KD5BB_DANRE\n",
      "Q6IQX0,B0S5X8,B0S5X9\n",
      "['Alternative splicing', 'Chromatin regulator', 'Complete proteome', 'Dioxygenase', 'Iron', 'Metal-binding', 'Nucleus', 'Oxidoreductase', 'Reference proteome', 'Repeat', 'Transcription', 'Transcription regulation', 'Zinc', 'Zinc-finger']\n",
      "'Danio rerio (Zebrafish) (Brachydanio rerio).'\n",
      "MTQQGPAEFTPPPECPVFEP...\n",
      "JHD2_YEAST\n",
      "P47156,D6VWT8\n",
      "['Chromatin regulator', 'Complete proteome', 'Dioxygenase', 'Iron', 'Metal-binding', 'Nucleus', 'Oxidoreductase', 'Reference proteome', 'Zinc', 'Zinc-finger']\n",
      "\"Saccharomyces cerevisiae (strain ATCC 204508 / S288c) (Baker's yeast).\"\n",
      "MEEIPALYPTEQEFKNPIDY...\n",
      "JMJ14_ARATH\n",
      "Q8GUI6,F4JUW8,Q9SUN9\n",
      "['3D-structure', 'Alternative splicing', 'Chromatin regulator', 'Complete proteome', 'Dioxygenase', 'Flowering', 'Iron', 'Metal-binding', 'Nucleus', 'Oxidoreductase', 'Reference proteome', 'Repressor', 'Transcription', 'Transcription regulation']\n",
      "'Arabidopsis thaliana (Mouse-ear cress).'\n",
      "MDQLASLAESVAMEEDSEKQ...\n"
     ]
    }
   ],
   "source": [
    "#This is how to query 'records'\n",
    "#http://biopython.org/DIST/docs/api/Bio.SwissProt.Record-class.html\n",
    "for record in records:\n",
    "    print(record.entry_name)\n",
    "    print(\",\".join(record.accessions))\n",
    "    print(record.keywords)\n",
    "    print(repr(record.organism))\n",
    "    print(record.sequence[:20] + \"...\")"
   ]
  },
  {
   "cell_type": "code",
   "execution_count": 67,
   "metadata": {
    "collapsed": false
   },
   "outputs": [
    {
     "name": "stdout",
     "output_type": "stream",
     "text": [
      "KDM5A_MOUSE\n",
      "MASVGPGGYAAEFVPPPECPVFEPSWEEFTDPLSFIGRIRPFAEKTGICKIRPPKDWQPPFACEVKTFRFTPRVQRLNELEAMTRVRLDFLDQLAKFWEL...\n",
      "KDM5C_CANLF\n",
      "MEPGSDDFLPPPECPVFEPSWAEFRDPLGYIAKIRPIAEKSGICKIRPPADWQPPFAVEVDNFRFTPRIQRLNELEAQTRVKLNYLDQIAKFWEIQGSSL...\n",
      "KDM5D_CANLF\n",
      "MESGSDDFLPPPECPVFEPTWAEFRDPLDYITKIRPIAEKSGICKIRPPADWQPPFAVEVDNFRFTPRIQRLNELEAQTRVKLNYLDQIAKFWEIQGSSL...\n",
      "KDM5D_MOUSE\n",
      "MKPGSDDFLPPPECPVFEPSWAEFRDPLGYIAKIRPIAEKSGICKIRPPADWQPPFAVEVDNFRFTPRIQRLNELEAQTRVKLNYLDQIAKFWEIQGSSL...\n",
      "KDM5B_CHICK\n",
      "MAEFLPPPECPVFEPSWEEFADPFAFIHKIRPIAEQTGICKVRPPPDWQPPFACDVDKLHFTPRIQRLNELEAQTRVKLNFLDQIAKFWELQGCTLKIPH...\n",
      "KDM5B_MOUSE\n",
      "MEPATTLPPGPRPALPLGGPGPLGEFLPPPECPVFEPSWEEFADPFAFIHKIRPIAEQTGICKVRPPPDWQPPFACDVDKLHFTPRIQRLNELEAQTRVK...\n",
      "KDM5C_PIG\n",
      "MEPGSDDFLPPPECPVFEPSWAEFRDPLGYIAKIRPIAEKSGICKIRPPADWQPPFAVEVDNFRFTPRIQRLNELEIVVEEGGYEAICKDRRWARVAQRL...\n",
      "KDM5_CAEBR\n",
      "MRGRRQEDIATTSSAPSTSTSHKKKTVSSNGSFRPRTQSNPGGKMEMYDHFYKNFQRPPMAPVYYPTSEEFADPIEYVAKIRPDAERYGVVKIVPPSDFK...\n",
      "KDM5_DROME\n",
      "MSAKTEADNTTAANSGGGGVGSGTSSGGGASANGTATPARRLRTRNSTGNGTNSGSESVKKSNANDEPSTPVTPAGATGSHTHAPPGISPAVMERPMPSV...\n",
      "KDM5C_CRIGR\n",
      "QDWFHGRCVTVPRLLSSQRPGFTSSPLLAWWEWDTKFLCPLCMRSRRPRLETILALLVALQRLPVRLPEGEALQCLTERAISWQGRARQVLASEEVTALL...\n",
      "KDM5C_HUMAN\n",
      "MEPGSDDFLPPPECPVFEPSWAEFRDPLGYIAKIRPIAEKSGICKIRPPADWQPPFAVEVDNFRFTPRIQRLNELEAQTRVKLNYLDQIAKFWEIQGSSL...\n",
      "KDM5D_PANTR\n",
      "MEPGCNEFLPPPECPVFEPSWAEFQDPLGYIAKIRPIAEKSGICKIRPPADWQPPFAVEVDNFRFTPRIQRLNELEAQTRVKLNYLDQIAKFWEIQGSSL...\n",
      "KDM5_CAEEL\n",
      "MRARRQENSISTPSAPSTSTSPRKKASIGNSRSKNHGSKMEMYDQFYKKFVRPPMAPIYYPTEEEFSDPIEYVAKIRHEAEKFGVVKIVPPANFKPPFAI...\n",
      "KDM5A_HUMAN\n",
      "MAGVGPGGYAAEFVPPPECPVFEPSWEEFTDPLSFIGRIRPLAEKTGICKIRPPKDWQPPFACEVKSFRFTPRVQRLNELEAMTRVRLDFLDQLAKFWEL...\n",
      "KDM5B_HUMAN\n",
      "MEAATTLHPGPRPALPLGGPGPLGEFLPPPECPVFEPSWEEFADPFAFIHKIRPIAEQTGICKVRPPPDWQPPFACDVDKLHFTPRIQRLNELEAQTRVK...\n",
      "KDM5C_MOUSE\n",
      "MELGSDDFLPPPECPVFEPSWAEFRDPLGYIAKIRPIAEKSGICKIRPPADWQPPFAVEVDNFRFTPRIQRLNELEAQTRVKLNYLDQIAKFWEIQGSSL...\n",
      "KDM5D_HUMAN\n",
      "MEPGCDEFLPPPECPVFEPSWAEFQDPLGYIAKIRPIAEKSGICKIRPPADWQPPFAVEVDNFRFTPRVQRLNELEAQTRVKLNYLDQIAKFWEIQGSSL...\n",
      "KD5BB_DANRE\n",
      "MTQQGPAEFTPPPECPVFEPSWEEFKDPFAFINKIRPIAEKTGICKVRPPPDWQPPFACDVDRLHFTPRIQRLNELEAQTRVKLNFLDQIAKFWDLQGCT...\n",
      "JHD2_YEAST\n",
      "MEEIPALYPTEQEFKNPIDYLSNPHIKRLGVRYGMVKVVPPNGFCPPLSIDMENFTFQPRIQNLENLDLKNRCRLFFMKQLNNFKRSVKDPSKLILREPY...\n",
      "JMJ14_ARATH\n",
      "MDQLASLAESVAMEEDSEKQSIKGESSLEPDSTPSSPKITARWNPSEACRPLVDDAPIFYPTNEDFDDPLGYIEKLRSKAESYGICRIVPPVAWRPPCPL...\n"
     ]
    }
   ],
   "source": [
    "##Now I need to figure out how to query domain positions\n",
    "for record in records:\n",
    "...         print(record.entry_name)\n",
    "...         print(record.sequence[:100] + \"...\")"
   ]
  },
  {
   "cell_type": "code",
   "execution_count": null,
   "metadata": {
    "collapsed": true
   },
   "outputs": [],
   "source": [
    "for record in records:\n",
    "...         print(record.entry_name)"
   ]
  }
 ],
 "metadata": {
  "anaconda-cloud": {},
  "kernelspec": {
   "display_name": "Python [conda root]",
   "language": "python",
   "name": "conda-root-py"
  },
  "language_info": {
   "codemirror_mode": {
    "name": "ipython",
    "version": 2
   },
   "file_extension": ".py",
   "mimetype": "text/x-python",
   "name": "python",
   "nbconvert_exporter": "python",
   "pygments_lexer": "ipython2",
   "version": "2.7.12"
  }
 },
 "nbformat": 4,
 "nbformat_minor": 1
}
