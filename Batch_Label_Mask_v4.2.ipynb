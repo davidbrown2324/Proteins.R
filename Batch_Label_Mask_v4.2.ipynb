{
 "cells": [
  {
   "cell_type": "markdown",
   "metadata": {},
   "source": [
    "Batch Generate Convex Hulls from Masked Nuclei\n",
    "\n",
    "Aim : To load, threshold, and detect nuceli for futher analysis.\n",
    "\n",
    "Updates for v4.2\n",
    "\n",
    "- forget opencv\n",
    "- targeted file list\n",
    "- quick but dirty convex hull detection\n",
    "- automate file naming to avoid errors\n",
    "- no plots\n",
    "- run as a for loop\n",
    "- hull_3D has a try: except function to ignore empty frames\n",
    "- relabel hulls as the labels in different frames may not agree (should not redesignate connectivity)\n",
    "\n",
    "still to do\n",
    "\n",
    "- prevent overwriting files"
   ]
  },
  {
   "cell_type": "code",
   "execution_count": 29,
   "metadata": {
    "collapsed": true
   },
   "outputs": [],
   "source": [
    "##Import modules etc.\n",
    "import glob\n",
    "import os\n",
    "import time\n",
    "import numpy as np\n",
    "import mahotas as mh\n",
    "from skimage import morphology\n",
    "from skimage.morphology import convex_hull_image\n",
    "from mahotas.labeled import filter_labeled"
   ]
  },
  {
   "cell_type": "code",
   "execution_count": 38,
   "metadata": {
    "collapsed": true
   },
   "outputs": [],
   "source": [
    "#[1] Get targeted filelist\n",
    "path='C:/Users/David Brown/Documents/Huang Lab/Exp0104_KDM5A_PHD2-fragments/Output/'\n",
    "\n",
    "target='_Mask5.npy'\n",
    "\n",
    "filelist=glob.glob(path+str('*')+target)"
   ]
  },
  {
   "cell_type": "code",
   "execution_count": 31,
   "metadata": {
    "collapsed": true
   },
   "outputs": [],
   "source": [
    "#Specify output directory\n",
    "output='ConvexHulls/'\n",
    "newpath = path+output\n",
    "if not os.path.exists(newpath):\n",
    "    os.makedirs(newpath)"
   ]
  },
  {
   "cell_type": "markdown",
   "metadata": {
    "collapsed": false
   },
   "source": [
    "**Define Functions**"
   ]
  },
  {
   "cell_type": "code",
   "execution_count": 32,
   "metadata": {
    "collapsed": false
   },
   "outputs": [],
   "source": [
    "def labelNuceli(mask, min_vol = 8000):\n",
    "#By default min_vol = 8000\n",
    "\n",
    "    labeled_mask, nr_objects=mh.label(mask)\n",
    "    #print('{} objects were detected.'.format(nr_objects))\n",
    "    \n",
    "    real=morphology.remove_small_objects(labeled_mask, min_vol)\n",
    "    \n",
    "    #Reset counts  and count the labels, \n",
    "    relabeled, n_left = mh.labeled.relabel(real)\n",
    "    #print('After filtering and relabeling, there are {} nuclei left.'.format(n_left))\n",
    "\n",
    "    return relabeled"
   ]
  },
  {
   "cell_type": "code",
   "execution_count": 33,
   "metadata": {
    "collapsed": true
   },
   "outputs": [],
   "source": [
    "##Define the Object Hulls (~20minutes) \n",
    "def hull_3D(labeled_mask):\n",
    "\n",
    "    filled_mask=np.zeros_like(labeled_mask)\n",
    "    \n",
    "    #Iterate through z-slices\n",
    "    for z, frame in enumerate(labeled_mask):\n",
    "        #print(z)\n",
    "        #Could remove on boarders at this point?\n",
    "        final=np.zeros_like(frame)\n",
    "\n",
    "        for l in range(frame.max()):\n",
    "            ll=l+1\n",
    "            \n",
    "            try:\n",
    "                hull = convex_hull_image(frame==ll)*ll\n",
    "            \n",
    "            except ValueError:\n",
    "                hull = np.zeros_like(frame)\n",
    "            \n",
    "            final = final + hull\n",
    "\n",
    "        #filled_mask[z]=final #select line to keep objects on the border\n",
    "        filled_mask[z], n_hulls = filter_labeled(final, remove_bordering=True)\n",
    "    return filled_mask"
   ]
  },
  {
   "cell_type": "code",
   "execution_count": 34,
   "metadata": {
    "collapsed": false
   },
   "outputs": [],
   "source": [
    "def batchConvHull(filelist):\n",
    "\n",
    "    ##Loop through each mask and generate labeled convex hulls\n",
    "    for ff, ffile in enumerate(filelist):\n",
    "        print ff\n",
    "\n",
    "        #Get filename\n",
    "        maskfilename = os.path.basename(filelist[ff])\n",
    "        #Generate filename for Labeled Convex Hulls\n",
    "        ConvHullsfilename = maskfilename.replace(target, '_ConvHulls.npy')\n",
    "        #Generate path for Labeled Convex Hulls\n",
    "        ConvHullspath = newpath+ConvHullsfilename\n",
    "\n",
    "        ##Import mask\n",
    "        mask5 = np.load(filelist[ff])\n",
    "\n",
    "        #Relabel nuclei\n",
    "        relabeled = labelNuceli(mask5)\n",
    "\n",
    "        #Generate labeled convex hulls from 3D stack\n",
    "        hulls = hull_3D(relabeled)\n",
    "        \n",
    "        #Relabel hulls because hulls in different frames may have different numbering\n",
    "        relabeled = labelNuceli(hulls)\n",
    "\n",
    "        #Save convex hulls\n",
    "        np.save(ConvHullspath, relabeled)"
   ]
  },
  {
   "cell_type": "code",
   "execution_count": 44,
   "metadata": {
    "collapsed": false
   },
   "outputs": [
    {
     "data": {
      "text/plain": [
       "['C:/Users/David Brown/Documents/Huang Lab/Exp0104_KDM5A_PHD2-fragments/Output\\\\Well02_HeLa_PHD2-IDR-PHD3_1_Mask5.npy',\n",
       " 'C:/Users/David Brown/Documents/Huang Lab/Exp0104_KDM5A_PHD2-fragments/Output\\\\Well02_HeLa_PHD2-IDR-PHD3_3_Mask5.npy']"
      ]
     },
     "execution_count": 44,
     "metadata": {},
     "output_type": "execute_result"
    }
   ],
   "source": [
    "[filelist[0],filelist[2]]\n",
    "#filelist[5:7]"
   ]
  },
  {
   "cell_type": "code",
   "execution_count": 46,
   "metadata": {
    "collapsed": false,
    "scrolled": false
   },
   "outputs": [
    {
     "name": "stdout",
     "output_type": "stream",
     "text": [
      "0\n",
      "1\n",
      "1774.921\n"
     ]
    }
   ],
   "source": [
    "##Time conversion. ~40minutes for 3 3D masks.\n",
    "t0 = time.time() #remember the brackets\n",
    "batchConvHull([filelist[0],filelist[2]])\n",
    "t1 = time.time() #remember the brackets\n",
    "dt=t1-t0\n",
    "print (dt)"
   ]
  },
  {
   "cell_type": "markdown",
   "metadata": {},
   "source": [
    "### END\n",
    "\n",
    "Trouble shoot Errors below this cell"
   ]
  },
  {
   "cell_type": "code",
   "execution_count": null,
   "metadata": {
    "collapsed": false
   },
   "outputs": [],
   "source": [
    "##Error\n",
    "load filename[0]"
   ]
  },
  {
   "cell_type": "code",
   "execution_count": 21,
   "metadata": {
    "collapsed": false
   },
   "outputs": [
    {
     "data": {
      "text/plain": [
       "'C:/Users/David Brown/Documents/Huang Lab/Exp0104_KDM5A_PHD2-fragments/Output\\\\Well02_HeLa_PHD2-IDR-PHD3_2_Labeled_Mask5.npy'"
      ]
     },
     "execution_count": 21,
     "metadata": {},
     "output_type": "execute_result"
    }
   ],
   "source": [
    "#For testing\n",
    "maskpath=filelist[0]\n",
    "maskpath"
   ]
  },
  {
   "cell_type": "code",
   "execution_count": 22,
   "metadata": {
    "collapsed": false
   },
   "outputs": [
    {
     "data": {
      "text/plain": [
       "'Well02_HeLa_PHD2-IDR-PHD3_2_Labeled_Mask5.npy'"
      ]
     },
     "execution_count": 22,
     "metadata": {},
     "output_type": "execute_result"
    }
   ],
   "source": [
    "maskfilename = os.path.basename(maskpath)\n",
    "maskfilename"
   ]
  },
  {
   "cell_type": "code",
   "execution_count": 23,
   "metadata": {
    "collapsed": false
   },
   "outputs": [
    {
     "data": {
      "text/plain": [
       "'Well02_HeLa_PHD2-IDR-PHD3_2_Labeled_ConvHulls.npy'"
      ]
     },
     "execution_count": 23,
     "metadata": {},
     "output_type": "execute_result"
    }
   ],
   "source": [
    "#Generate filename for Labeled Convex Hulls\n",
    "ConvHullsfilename = maskfilename.replace(target, '_ConvHulls.npy')\n",
    "ConvHullsfilename"
   ]
  },
  {
   "cell_type": "code",
   "execution_count": 24,
   "metadata": {
    "collapsed": false
   },
   "outputs": [
    {
     "data": {
      "text/plain": [
       "'C:/Users/David Brown/Documents/Huang Lab/Exp0104_KDM5A_PHD2-fragments/Output/Convex Hulls/Well02_HeLa_PHD2-IDR-PHD3_2_Labeled_ConvHulls.npy'"
      ]
     },
     "execution_count": 24,
     "metadata": {},
     "output_type": "execute_result"
    }
   ],
   "source": [
    "#Generate path for Labeled Convex Hulls\n",
    "ConvHullspath = newpath+ConvHullsfilename\n",
    "ConvHullspath"
   ]
  },
  {
   "cell_type": "code",
   "execution_count": 25,
   "metadata": {
    "collapsed": true
   },
   "outputs": [],
   "source": [
    "##Import mask\n",
    "#mask5=np.load('C:/Users/David Brown/Documents/Huang Lab/Exp0104_KDM5A_PHD2-fragments/Output/Well03_HeLa_PHD2-IDR-PHD3[W1625A]_3_Mask5.npy')\n",
    "mask5=np.load(maskpath)"
   ]
  },
  {
   "cell_type": "code",
   "execution_count": 26,
   "metadata": {
    "collapsed": false
   },
   "outputs": [],
   "source": [
    "relabeled=labelNuceli(mask5)"
   ]
  },
  {
   "cell_type": "code",
   "execution_count": 28,
   "metadata": {
    "collapsed": false
   },
   "outputs": [
    {
     "name": "stdout",
     "output_type": "stream",
     "text": [
      "1\n",
      "2\n",
      "3\n",
      "4\n",
      "5\n",
      "6\n",
      "7\n",
      "8\n",
      "9\n",
      "10\n",
      "11\n",
      "12\n",
      "13\n",
      "14\n",
      "15\n",
      "16\n",
      "17\n",
      "18\n",
      "19\n",
      "20\n",
      "21\n",
      "22\n",
      "23\n",
      "24\n",
      "25\n",
      "26\n",
      "27\n",
      "28\n",
      "29\n",
      "30\n",
      "31\n",
      "32\n",
      "33\n",
      "34\n",
      "35\n",
      "36\n",
      "37\n",
      "38\n",
      "39\n",
      "40\n",
      "41\n",
      "42\n",
      "43\n",
      "44\n",
      "45\n",
      "46\n"
     ]
    },
    {
     "ename": "ValueError",
     "evalue": "No points given",
     "output_type": "error",
     "traceback": [
      "\u001b[0;31m---------------------------------------------------------------------------\u001b[0m",
      "\u001b[0;31mValueError\u001b[0m                                Traceback (most recent call last)",
      "\u001b[0;32m<ipython-input-28-9c3f24253161>\u001b[0m in \u001b[0;36m<module>\u001b[0;34m()\u001b[0m\n\u001b[1;32m      6\u001b[0m     \u001b[0mll\u001b[0m\u001b[1;33m=\u001b[0m\u001b[0ml\u001b[0m\u001b[1;33m+\u001b[0m\u001b[1;36m1\u001b[0m\u001b[1;33m\u001b[0m\u001b[0m\n\u001b[1;32m      7\u001b[0m     \u001b[1;32mprint\u001b[0m\u001b[1;33m(\u001b[0m\u001b[0mll\u001b[0m\u001b[1;33m)\u001b[0m\u001b[1;33m\u001b[0m\u001b[0m\n\u001b[0;32m----> 8\u001b[0;31m     \u001b[0mhull\u001b[0m \u001b[1;33m=\u001b[0m \u001b[0mconvex_hull_image\u001b[0m\u001b[1;33m(\u001b[0m\u001b[0mframe\u001b[0m\u001b[1;33m==\u001b[0m\u001b[0mll\u001b[0m\u001b[1;33m)\u001b[0m\u001b[1;33m*\u001b[0m\u001b[0mll\u001b[0m\u001b[1;33m\u001b[0m\u001b[0m\n\u001b[0m\u001b[1;32m      9\u001b[0m     \u001b[0mfinal\u001b[0m \u001b[1;33m=\u001b[0m \u001b[0mfinal\u001b[0m \u001b[1;33m+\u001b[0m \u001b[0mhull\u001b[0m\u001b[1;33m\u001b[0m\u001b[0m\n",
      "\u001b[0;32mC:\\Users\\David Brown\\Anaconda2\\lib\\site-packages\\skimage\\morphology\\convex_hull.pyc\u001b[0m in \u001b[0;36mconvex_hull_image\u001b[0;34m(image)\u001b[0m\n\u001b[1;32m     63\u001b[0m \u001b[1;33m\u001b[0m\u001b[0m\n\u001b[1;32m     64\u001b[0m     \u001b[1;31m# Find the convex hull\u001b[0m\u001b[1;33m\u001b[0m\u001b[1;33m\u001b[0m\u001b[0m\n\u001b[0;32m---> 65\u001b[0;31m     \u001b[0mchull\u001b[0m \u001b[1;33m=\u001b[0m \u001b[0mDelaunay\u001b[0m\u001b[1;33m(\u001b[0m\u001b[0mcoords\u001b[0m\u001b[1;33m)\u001b[0m\u001b[1;33m.\u001b[0m\u001b[0mconvex_hull\u001b[0m\u001b[1;33m\u001b[0m\u001b[0m\n\u001b[0m\u001b[1;32m     66\u001b[0m     \u001b[0mv\u001b[0m \u001b[1;33m=\u001b[0m \u001b[0mcoords\u001b[0m\u001b[1;33m[\u001b[0m\u001b[0mnp\u001b[0m\u001b[1;33m.\u001b[0m\u001b[0munique\u001b[0m\u001b[1;33m(\u001b[0m\u001b[0mchull\u001b[0m\u001b[1;33m)\u001b[0m\u001b[1;33m]\u001b[0m\u001b[1;33m\u001b[0m\u001b[0m\n\u001b[1;32m     67\u001b[0m \u001b[1;33m\u001b[0m\u001b[0m\n",
      "\u001b[0;32mscipy/spatial/qhull.pyx\u001b[0m in \u001b[0;36mscipy.spatial.qhull.Delaunay.__init__ (scipy\\spatial\\qhull.c:15918)\u001b[0;34m()\u001b[0m\n",
      "\u001b[0;32mscipy/spatial/qhull.pyx\u001b[0m in \u001b[0;36mscipy.spatial.qhull._Qhull.__init__ (scipy\\spatial\\qhull.c:4101)\u001b[0;34m()\u001b[0m\n",
      "\u001b[0;31mValueError\u001b[0m: No points given"
     ]
    }
   ],
   "source": [
    "frame=relabeled[20]\n",
    "\n",
    "final=np.zeros_like(frame)\n",
    "\n",
    "for l in range(frame.max()):\n",
    "    ll=l+1\n",
    "    print(ll)\n",
    "    hull = convex_hull_image(frame==ll)*ll\n",
    "    final = final + hull"
   ]
  },
  {
   "cell_type": "code",
   "execution_count": 35,
   "metadata": {
    "collapsed": false
   },
   "outputs": [
    {
     "data": {
      "text/plain": [
       "49"
      ]
     },
     "execution_count": 35,
     "metadata": {},
     "output_type": "execute_result"
    }
   ],
   "source": [
    "frame.max()"
   ]
  },
  {
   "cell_type": "code",
   "execution_count": 33,
   "metadata": {
    "collapsed": true
   },
   "outputs": [],
   "source": [
    "##Error with label 46\n",
    "nuc45=frame==45\n",
    "nuc46=frame==46\n",
    "nuc47=frame==46"
   ]
  },
  {
   "cell_type": "code",
   "execution_count": 34,
   "metadata": {
    "collapsed": false
   },
   "outputs": [
    {
     "data": {
      "text/plain": [
       "(array([2000, 2001, 2001, ..., 2047, 2047, 2047], dtype=int64),\n",
       " array([1164, 1162, 1164, ..., 1206, 1207, 1208], dtype=int64))"
      ]
     },
     "execution_count": 34,
     "metadata": {},
     "output_type": "execute_result"
    }
   ],
   "source": [
    "nuc45.nonzero()"
   ]
  },
  {
   "cell_type": "code",
   "execution_count": 32,
   "metadata": {
    "collapsed": false
   },
   "outputs": [
    {
     "name": "stdout",
     "output_type": "stream",
     "text": [
      "0\n",
      "1\n",
      "2\n",
      "3\n",
      "4\n",
      "5\n",
      "6\n",
      "7\n",
      "8\n",
      "9\n",
      "10\n",
      "11\n",
      "12\n",
      "13\n",
      "14\n",
      "15\n",
      "16\n",
      "17\n",
      "18\n",
      "19\n",
      "20\n",
      "21\n",
      "22\n",
      "23\n",
      "732.161000013\n"
     ]
    }
   ],
   "source": [
    "##Time conversion on a labeled stack to labeled convex hulls\n",
    "t0 = time.time() #remember the brackets\n",
    "hulls = hull_3D(relabeled)\n",
    "t1 = time.time() #remember the brackets\n",
    "dt=t1-t0\n",
    "#print (dt)\n",
    "#~20 minutes"
   ]
  },
  {
   "cell_type": "code",
   "execution_count": 56,
   "metadata": {
    "collapsed": true
   },
   "outputs": [],
   "source": [
    "##Save labeled convex hulls in a new folder.\n",
    "np.save(ConvHullspath, hulls)"
   ]
  }
 ],
 "metadata": {
  "anaconda-cloud": {},
  "kernelspec": {
   "display_name": "Python [conda root]",
   "language": "python",
   "name": "conda-root-py"
  },
  "language_info": {
   "codemirror_mode": {
    "name": "ipython",
    "version": 2
   },
   "file_extension": ".py",
   "mimetype": "text/x-python",
   "name": "python",
   "nbconvert_exporter": "python",
   "pygments_lexer": "ipython2",
   "version": "2.7.12"
  }
 },
 "nbformat": 4,
 "nbformat_minor": 1
}
